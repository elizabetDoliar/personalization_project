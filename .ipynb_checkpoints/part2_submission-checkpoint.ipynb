{
 "cells": [
  {
   "cell_type": "code",
   "execution_count": 1,
   "metadata": {},
   "outputs": [],
   "source": [
    "import pandas as pd\n",
    "import numpy as np\n",
    "import random\n",
    "%matplotlib inline\n",
    "import matplotlib.pyplot as plt\n",
    "import surprise\n",
    "from collections import defaultdict\n",
    "from surprise import SVD, SVDpp, NMF\n",
    "from surprise import Dataset\n",
    "from surprise import Reader\n",
    "from surprise import evaluate, print_perf\n",
    "from surprise import KNNBasic\n",
    "from surprise import AlgoBase, BaselineOnly\n",
    "from get_top_n import get_top_n\n",
    "from model.hybrid_model import HybridModel\n",
    "from model.evaluation import evaluation\n",
    "from Association_rule.association_model import generate_rules,predict\n",
    "from Association_rule.deal_meta import also_bought\n",
    "from model.content_based import ContentBasedModel"
   ]
  },
  {
   "cell_type": "code",
   "execution_count": 2,
   "metadata": {
    "collapsed": true
   },
   "outputs": [],
   "source": [
    "df = pd.read_csv('sample_data.csv',index_col=0)\n",
    "df_meta = pd.read_csv('sample_data_meta.csv',index_col=0)"
   ]
  },
  {
   "cell_type": "code",
   "execution_count": 3,
   "metadata": {
    "collapsed": true
   },
   "outputs": [],
   "source": [
    "# Turn data frame into dictionary\n",
    "df_records = df[['reviewerID','productID']].to_dict('records')\n",
    "df_dict = defaultdict(list)\n",
    "for row in df_records:\n",
    "    df_dict[row['reviewerID']].append(row['productID'])"
   ]
  },
  {
   "cell_type": "code",
   "execution_count": 4,
   "metadata": {
    "collapsed": true
   },
   "outputs": [],
   "source": [
    "# Select % as holdout data\n",
    "holdout = []\n",
    "for reviewer in df_dict:\n",
    "    hd_product = df_dict[reviewer][:max(1,int(0.25*len(df_dict[reviewer])))]\n",
    "    for product in hd_product:\n",
    "        holdout.append((reviewer,product))\n",
    "df_tupleindex = df.set_index(['reviewerID','productID'])"
   ]
  },
  {
   "cell_type": "code",
   "execution_count": 5,
   "metadata": {
    "collapsed": true,
    "scrolled": true
   },
   "outputs": [],
   "source": [
    "# Develop training and test data\n",
    "testdata = df_tupleindex.loc[holdout].reset_index()\n",
    "traindata = df_tupleindex[~df_tupleindex.index.isin(holdout)].reset_index()"
   ]
  },
  {
   "cell_type": "markdown",
   "metadata": {},
   "source": [
    "## Hybrid Model"
   ]
  },
  {
   "cell_type": "code",
   "execution_count": 6,
   "metadata": {
    "collapsed": true,
    "scrolled": true
   },
   "outputs": [],
   "source": [
    "# Divide training data into dense and sparse data, and handle them separately \n",
    "sparse_dt, dense_dt = HybridModel.divide_data(traindata,10)"
   ]
  },
  {
   "cell_type": "code",
   "execution_count": 7,
   "metadata": {},
   "outputs": [
    {
     "data": {
      "text/html": [
       "<div>\n",
       "<style>\n",
       "    .dataframe thead tr:only-child th {\n",
       "        text-align: right;\n",
       "    }\n",
       "\n",
       "    .dataframe thead th {\n",
       "        text-align: left;\n",
       "    }\n",
       "\n",
       "    .dataframe tbody tr th {\n",
       "        vertical-align: top;\n",
       "    }\n",
       "</style>\n",
       "<table border=\"1\" class=\"dataframe\">\n",
       "  <thead>\n",
       "    <tr style=\"text-align: right;\">\n",
       "      <th></th>\n",
       "      <th>rating</th>\n",
       "    </tr>\n",
       "  </thead>\n",
       "  <tbody>\n",
       "    <tr>\n",
       "      <th>count</th>\n",
       "      <td>4189.000000</td>\n",
       "    </tr>\n",
       "    <tr>\n",
       "      <th>mean</th>\n",
       "      <td>3.815469</td>\n",
       "    </tr>\n",
       "    <tr>\n",
       "      <th>std</th>\n",
       "      <td>1.092253</td>\n",
       "    </tr>\n",
       "    <tr>\n",
       "      <th>min</th>\n",
       "      <td>1.000000</td>\n",
       "    </tr>\n",
       "    <tr>\n",
       "      <th>25%</th>\n",
       "      <td>3.000000</td>\n",
       "    </tr>\n",
       "    <tr>\n",
       "      <th>50%</th>\n",
       "      <td>4.000000</td>\n",
       "    </tr>\n",
       "    <tr>\n",
       "      <th>75%</th>\n",
       "      <td>5.000000</td>\n",
       "    </tr>\n",
       "    <tr>\n",
       "      <th>max</th>\n",
       "      <td>5.000000</td>\n",
       "    </tr>\n",
       "  </tbody>\n",
       "</table>\n",
       "</div>"
      ],
      "text/plain": [
       "            rating\n",
       "count  4189.000000\n",
       "mean      3.815469\n",
       "std       1.092253\n",
       "min       1.000000\n",
       "25%       3.000000\n",
       "50%       4.000000\n",
       "75%       5.000000\n",
       "max       5.000000"
      ]
     },
     "execution_count": 7,
     "metadata": {},
     "output_type": "execute_result"
    }
   ],
   "source": [
    "sparse_dt.describe()"
   ]
  },
  {
   "cell_type": "code",
   "execution_count": 8,
   "metadata": {},
   "outputs": [
    {
     "data": {
      "text/html": [
       "<div>\n",
       "<style>\n",
       "    .dataframe thead tr:only-child th {\n",
       "        text-align: right;\n",
       "    }\n",
       "\n",
       "    .dataframe thead th {\n",
       "        text-align: left;\n",
       "    }\n",
       "\n",
       "    .dataframe tbody tr th {\n",
       "        vertical-align: top;\n",
       "    }\n",
       "</style>\n",
       "<table border=\"1\" class=\"dataframe\">\n",
       "  <thead>\n",
       "    <tr style=\"text-align: right;\">\n",
       "      <th></th>\n",
       "      <th>rating</th>\n",
       "    </tr>\n",
       "  </thead>\n",
       "  <tbody>\n",
       "    <tr>\n",
       "      <th>count</th>\n",
       "      <td>3607.000000</td>\n",
       "    </tr>\n",
       "    <tr>\n",
       "      <th>mean</th>\n",
       "      <td>3.818686</td>\n",
       "    </tr>\n",
       "    <tr>\n",
       "      <th>std</th>\n",
       "      <td>1.075804</td>\n",
       "    </tr>\n",
       "    <tr>\n",
       "      <th>min</th>\n",
       "      <td>1.000000</td>\n",
       "    </tr>\n",
       "    <tr>\n",
       "      <th>25%</th>\n",
       "      <td>3.000000</td>\n",
       "    </tr>\n",
       "    <tr>\n",
       "      <th>50%</th>\n",
       "      <td>4.000000</td>\n",
       "    </tr>\n",
       "    <tr>\n",
       "      <th>75%</th>\n",
       "      <td>5.000000</td>\n",
       "    </tr>\n",
       "    <tr>\n",
       "      <th>max</th>\n",
       "      <td>5.000000</td>\n",
       "    </tr>\n",
       "  </tbody>\n",
       "</table>\n",
       "</div>"
      ],
      "text/plain": [
       "            rating\n",
       "count  3607.000000\n",
       "mean      3.818686\n",
       "std       1.075804\n",
       "min       1.000000\n",
       "25%       3.000000\n",
       "50%       4.000000\n",
       "75%       5.000000\n",
       "max       5.000000"
      ]
     },
     "execution_count": 8,
     "metadata": {},
     "output_type": "execute_result"
    }
   ],
   "source": [
    "dense_dt.describe()"
   ]
  },
  {
   "cell_type": "markdown",
   "metadata": {
    "collapsed": true
   },
   "source": [
    "For dense data, we use a mixed hybrid model with our own Content-based model, \n",
    "along with the Matrix Factorization model, neighborhood based model we built in Part I"
   ]
  },
  {
   "cell_type": "code",
   "execution_count": 9,
   "metadata": {
    "scrolled": true
   },
   "outputs": [],
   "source": [
    "# Content-based model and its set of prediction\n",
    "sim_matrix = ContentBasedModel.product_similarity(df_meta)\n",
    "content_recommendation_dense = ContentBasedModel.content_prediction(sim_matrix,dense_dt,n=7)"
   ]
  },
  {
   "cell_type": "code",
   "execution_count": 10,
   "metadata": {
    "collapsed": true
   },
   "outputs": [],
   "source": [
    "# Part I model: SVD model and its set of prediction\n",
    "reader = Reader(rating_scale=(1,5))\n",
    "df_surprise = Dataset.load_from_df(dense_dt[['reviewerID','productID','rating']],reader)\n",
    "df_surprise.split(n_folds=5)"
   ]
  },
  {
   "cell_type": "code",
   "execution_count": 11,
   "metadata": {
    "collapsed": true
   },
   "outputs": [],
   "source": [
    "#Construct missing ratings we need to predict\n",
    "dense_data_select = dense_dt.pivot_table('rating',index=['reviewerID','productID'],dropna=False)\n",
    "dense_data_select = dense_data_select.loc[dense_data_select['rating'].isnull()]\n",
    "dense_data_select.reset_index(inplace=True)\n",
    "missing_values = dense_data_select[['reviewerID','productID']].values"
   ]
  },
  {
   "cell_type": "code",
   "execution_count": 12,
   "metadata": {
    "collapsed": true
   },
   "outputs": [],
   "source": [
    "#Function to predict missing values based on an algorithm\n",
    "def mv_prediction(algo,missing_values):\n",
    "    predictions = [algo.predict(uid, iid)\n",
    "                       for (uid, iid) in missing_values]\n",
    "    return predictions"
   ]
  },
  {
   "cell_type": "code",
   "execution_count": 13,
   "metadata": {
    "scrolled": true
   },
   "outputs": [
    {
     "data": {
      "text/plain": [
       "CaseInsensitiveDefaultDict(list,\n",
       "                           {'mae': [0.72127434780679112,\n",
       "                             0.71124389472378668,\n",
       "                             0.74925698391476181,\n",
       "                             0.77478785366761083,\n",
       "                             0.73683655851066721],\n",
       "                            'rmse': [0.92635288753231326,\n",
       "                             0.91990076128425902,\n",
       "                             0.96155513391082459,\n",
       "                             0.97428970339349186,\n",
       "                             0.95014640910207793]})"
      ]
     },
     "execution_count": 13,
     "metadata": {},
     "output_type": "execute_result"
    }
   ],
   "source": [
    "algo1 = SVDpp()\n",
    "evaluate(algo1,df_surprise,measures=['RMSE','MAE'], verbose= 0)"
   ]
  },
  {
   "cell_type": "code",
   "execution_count": 14,
   "metadata": {
    "collapsed": true
   },
   "outputs": [],
   "source": [
    "# Extract product recommendation list for each user\n",
    "def extract_topk_surpise(prediction):\n",
    "    topk = get_top_n(prediction,n=7)\n",
    "    topk_norating = defaultdict(list)\n",
    "    for user, i_r in topk.items():\n",
    "        for item, rating in i_r:\n",
    "            topk_norating[user].append(item)\n",
    "    return topk_norating"
   ]
  },
  {
   "cell_type": "code",
   "execution_count": 15,
   "metadata": {
    "collapsed": true
   },
   "outputs": [],
   "source": [
    "# Get top k recommendation from SVD model\n",
    "mv_svdprediction = mv_prediction(algo1,missing_values)\n",
    "svd_topk = extract_topk_surpise(mv_svdprediction)"
   ]
  },
  {
   "cell_type": "code",
   "execution_count": 16,
   "metadata": {},
   "outputs": [
    {
     "name": "stdout",
     "output_type": "stream",
     "text": [
      "Computing the cosine similarity matrix...\n",
      "Done computing similarity matrix.\n",
      "Computing the cosine similarity matrix...\n",
      "Done computing similarity matrix.\n",
      "Computing the cosine similarity matrix...\n",
      "Done computing similarity matrix.\n",
      "Computing the cosine similarity matrix...\n",
      "Done computing similarity matrix.\n",
      "Computing the cosine similarity matrix...\n",
      "Done computing similarity matrix.\n"
     ]
    },
    {
     "data": {
      "text/plain": [
       "CaseInsensitiveDefaultDict(list,\n",
       "                           {'mae': [0.77300343145511174,\n",
       "                             0.80189637735636354,\n",
       "                             0.83214480643583355,\n",
       "                             0.83424495884933803,\n",
       "                             0.79420809888989474],\n",
       "                            'rmse': [0.9846738070683464,\n",
       "                             1.0248678490150547,\n",
       "                             1.0651146726383325,\n",
       "                             1.0448437138173421,\n",
       "                             1.0284486537004782]})"
      ]
     },
     "execution_count": 16,
     "metadata": {},
     "output_type": "execute_result"
    }
   ],
   "source": [
    "# Part I Model: KNN and its set of prediction\n",
    "algo_name = KNNBasic ##  KNNWithMeans,KNNBaseline\n",
    "sim_option={'name': 'cosine', ## cosine, msd, pearson, personbaseline\n",
    "                 'user_based': 'False', ## False for item-based\n",
    "                 'min_surpport':0 }##  if |Iuv|<min_support then sim(u,v)=0\n",
    "max_k = 10 ## The (max) number of neighbors to take into account for aggregation\n",
    "min_k = 7 ##  If there are not enough neighbors, the prediction is set the the global mean of all ratings\n",
    "knn_default = algo_name(k = max_k, min_k = min_k, sim_options=sim_option)\n",
    "#Train model\n",
    "evaluate(knn_default, df_surprise, measures=['RMSE','MAE'], verbose= 0)"
   ]
  },
  {
   "cell_type": "code",
   "execution_count": 17,
   "metadata": {
    "collapsed": true
   },
   "outputs": [],
   "source": [
    "# Get top k recommendation from KNN\n",
    "mv_knnprediction = mv_prediction(knn_default,missing_values)\n",
    "knn_topk = extract_topk_surpise(mv_knnprediction)"
   ]
  },
  {
   "cell_type": "markdown",
   "metadata": {
    "collapsed": true
   },
   "source": [
    "For sparse data, we use a mixed hybrid model of our own Association rule and Content-based model.\n",
    "We already trained the content-based model above, now we need to train the Association rule model"
   ]
  },
  {
   "cell_type": "code",
   "execution_count": 18,
   "metadata": {
    "scrolled": true
   },
   "outputs": [],
   "source": [
    "#Association rule model and its set of prediction\n",
    "bought_together = also_bought(df_meta)\n",
    "rules = generate_rules(traindata, information=bought_together, minsupport=10)\n",
    "rule_prediction = predict(sparse_dt, rules)\n",
    "HybridModel.fill_prediction(rule_prediction,n=7)"
   ]
  },
  {
   "cell_type": "code",
   "execution_count": 19,
   "metadata": {},
   "outputs": [],
   "source": [
    "#Content based model prediction for sparse data\n",
    "content_recommendation_sparse = ContentBasedModel.content_prediction(sim_matrix,sparse_dt,n=7)"
   ]
  },
  {
   "cell_type": "code",
   "execution_count": 20,
   "metadata": {},
   "outputs": [],
   "source": [
    "# Final set of recommendation as mixed recommendation of Content-based, SVD, KNN for dense matrix,\n",
    "# and mixed recommendation of Content-based, Association rule for sparse matrix\n",
    "# The recommendations are presented side-by-side to each user\n",
    "sparse_prediction = HybridModel.recommendation_mixer(rule_prediction,content_recommendation_sparse,n=7)\n",
    "dense_prediction = HybridModel.recommendation_mixer(svd_topk,knn_topk,content_recommendation_dense,n=7)\n",
    "hybrid_prediction = HybridModel.combine_prediction(sparse_prediction,dense_prediction)"
   ]
  },
  {
   "cell_type": "markdown",
   "metadata": {},
   "source": [
    "## Evaluation"
   ]
  },
  {
   "cell_type": "markdown",
   "metadata": {},
   "source": [
    "Recall at top-k:\n",
    "For each user, check if the prediction contains any of products in the holdout set. If yes, we count\n",
    "the prediction as a success, and a failure otherwise. Recall at top-k is measured as percentage of\n",
    "users with sucessful recommendation out of total number of users. This measurement is based on the \n",
    "same idea as in this paper: https://arxiv.org/pdf/1703.02344.pdf"
   ]
  },
  {
   "cell_type": "code",
   "execution_count": 21,
   "metadata": {},
   "outputs": [
    {
     "data": {
      "text/plain": [
       "0.26174496644295303"
      ]
     },
     "execution_count": 21,
     "metadata": {},
     "output_type": "execute_result"
    }
   ],
   "source": [
    "# Recall at top k\n",
    "evaluation.recall_at_topk(hybrid_prediction,testdata)"
   ]
  },
  {
   "cell_type": "code",
   "execution_count": 22,
   "metadata": {
    "collapsed": true
   },
   "outputs": [],
   "source": [
    "#SVD only\n",
    "df_surprise_all = Dataset.load_from_df(traindata[['reviewerID','productID','rating']],reader)\n",
    "df_surprise_all.split(n_folds=5)\n",
    "#Construct missing ratings for whole set\n",
    "traindata_select = traindata.pivot_table('rating',index=['reviewerID','productID'],dropna=False)\n",
    "traindata_select = traindata_select.loc[traindata_select['rating'].isnull()]\n",
    "traindata_select.reset_index(inplace=True)\n",
    "missing_values_all = traindata_select[['reviewerID','productID']].values\n",
    "mv_svdprediction_all = mv_prediction(algo1,missing_values_all)\n",
    "svd_topk_all = extract_topk_surpise(mv_svdprediction_all)"
   ]
  },
  {
   "cell_type": "code",
   "execution_count": 23,
   "metadata": {},
   "outputs": [
    {
     "data": {
      "text/plain": [
       "0.09904761904761905"
      ]
     },
     "execution_count": 23,
     "metadata": {},
     "output_type": "execute_result"
    }
   ],
   "source": [
    "evaluation.recall_at_topk(svd_topk_all,testdata)"
   ]
  },
  {
   "cell_type": "code",
   "execution_count": 24,
   "metadata": {
    "scrolled": true
   },
   "outputs": [],
   "source": [
    "#SVD and KNN on whole training set\n",
    "mv_knnprediction_all = mv_prediction(knn_default,missing_values_all)\n",
    "knn_topk_all = extract_topk_surpise(mv_knnprediction_all)\n",
    "svd_knn_hybrid_prediction = HybridModel.recommendation_mixer(svd_topk_all,knn_topk_all,n=7)"
   ]
  },
  {
   "cell_type": "code",
   "execution_count": 25,
   "metadata": {},
   "outputs": [
    {
     "data": {
      "text/plain": [
       "0.10571428571428572"
      ]
     },
     "execution_count": 25,
     "metadata": {},
     "output_type": "execute_result"
    }
   ],
   "source": [
    "evaluation.recall_at_topk(svd_knn_hybrid_prediction,testdata)"
   ]
  },
  {
   "cell_type": "code",
   "execution_count": 26,
   "metadata": {},
   "outputs": [
    {
     "data": {
      "text/plain": [
       "0.93"
      ]
     },
     "execution_count": 26,
     "metadata": {},
     "output_type": "execute_result"
    }
   ],
   "source": [
    "# Coverage ratio\n",
    "# Coverage ratio is measured as number of products recommended over total number of products\n",
    "evaluation.coverage_ratio(hybrid_prediction,df)"
   ]
  },
  {
   "cell_type": "code",
   "execution_count": 27,
   "metadata": {},
   "outputs": [
    {
     "data": {
      "text/plain": [
       "0.22"
      ]
     },
     "execution_count": 27,
     "metadata": {},
     "output_type": "execute_result"
    }
   ],
   "source": [
    "#SVD only\n",
    "evaluation.coverage_ratio(svd_topk_all,df)"
   ]
  },
  {
   "cell_type": "code",
   "execution_count": 28,
   "metadata": {},
   "outputs": [
    {
     "data": {
      "text/plain": [
       "0.32"
      ]
     },
     "execution_count": 28,
     "metadata": {},
     "output_type": "execute_result"
    }
   ],
   "source": [
    "evaluation.coverage_ratio(svd_knn_hybrid_prediction,df)"
   ]
  },
  {
   "cell_type": "code",
   "execution_count": 29,
   "metadata": {},
   "outputs": [
    {
     "data": {
      "text/plain": [
       "0.23142857142857143"
      ]
     },
     "execution_count": 29,
     "metadata": {},
     "output_type": "execute_result"
    }
   ],
   "source": [
    "#Content-based model only\n",
    "content_recommendation_all = ContentBasedModel.content_prediction(sim_matrix,traindata,n=7)\n",
    "evaluation.recall_at_topk(content_recommendation_all,testdata)"
   ]
  },
  {
   "cell_type": "code",
   "execution_count": 30,
   "metadata": {},
   "outputs": [
    {
     "data": {
      "text/plain": [
       "0.93"
      ]
     },
     "execution_count": 30,
     "metadata": {},
     "output_type": "execute_result"
    }
   ],
   "source": [
    "#Coverage ratio: Content-based model only\n",
    "evaluation.coverage_ratio(content_recommendation_all,df)"
   ]
  },
  {
   "cell_type": "code",
   "execution_count": null,
   "metadata": {
    "collapsed": true
   },
   "outputs": [],
   "source": []
  }
 ],
 "metadata": {
  "kernelspec": {
   "display_name": "Python 3",
   "language": "python",
   "name": "python3"
  },
  "language_info": {
   "codemirror_mode": {
    "name": "ipython",
    "version": 3
   },
   "file_extension": ".py",
   "mimetype": "text/x-python",
   "name": "python",
   "nbconvert_exporter": "python",
   "pygments_lexer": "ipython3",
   "version": "3.6.3"
  }
 },
 "nbformat": 4,
 "nbformat_minor": 2
}
