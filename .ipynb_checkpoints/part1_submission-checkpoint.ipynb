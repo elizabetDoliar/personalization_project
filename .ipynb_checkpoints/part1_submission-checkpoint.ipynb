{
 "cells": [
  {
   "cell_type": "code",
   "execution_count": 10,
   "metadata": {
    "collapsed": true
   },
   "outputs": [],
   "source": [
    "import pandas as pd\n",
    "import numpy as np\n",
    "%matplotlib inline\n",
    "import matplotlib.pyplot as plt\n",
    "from surprise import SVD, SVDpp, NMF\n",
    "from surprise import Dataset\n",
    "from surprise import Reader\n",
    "from surprise import evaluate, print_perf\n",
    "from surprise import KNNBasic\n",
    "from surprise import AlgoBase, BaselineOnly"
   ]
  },
  {
   "cell_type": "markdown",
   "metadata": {},
   "source": [
    "# Model based"
   ]
  },
  {
   "cell_type": "code",
   "execution_count": 2,
   "metadata": {},
   "outputs": [
    {
     "data": {
      "text/html": [
       "<div>\n",
       "<style>\n",
       "    .dataframe thead tr:only-child th {\n",
       "        text-align: right;\n",
       "    }\n",
       "\n",
       "    .dataframe thead th {\n",
       "        text-align: left;\n",
       "    }\n",
       "\n",
       "    .dataframe tbody tr th {\n",
       "        vertical-align: top;\n",
       "    }\n",
       "</style>\n",
       "<table border=\"1\" class=\"dataframe\">\n",
       "  <thead>\n",
       "    <tr style=\"text-align: right;\">\n",
       "      <th></th>\n",
       "      <th>reviewerID</th>\n",
       "      <th>productID</th>\n",
       "      <th>rating</th>\n",
       "      <th>date</th>\n",
       "    </tr>\n",
       "  </thead>\n",
       "  <tbody>\n",
       "    <tr>\n",
       "      <th>0</th>\n",
       "      <td>A1AIWGGQNVTXVA</td>\n",
       "      <td>B0001CXUHW</td>\n",
       "      <td>5.0</td>\n",
       "      <td>2014-01-29</td>\n",
       "    </tr>\n",
       "    <tr>\n",
       "      <th>1</th>\n",
       "      <td>A3B81VS0DT31M8</td>\n",
       "      <td>B0001CXUHW</td>\n",
       "      <td>4.0</td>\n",
       "      <td>2014-03-16</td>\n",
       "    </tr>\n",
       "    <tr>\n",
       "      <th>2</th>\n",
       "      <td>A2YEHSCW4TFXRU</td>\n",
       "      <td>B0001CXUHW</td>\n",
       "      <td>5.0</td>\n",
       "      <td>2014-04-03</td>\n",
       "    </tr>\n",
       "    <tr>\n",
       "      <th>3</th>\n",
       "      <td>AB8Z395DD49YP</td>\n",
       "      <td>B0001CXUHW</td>\n",
       "      <td>5.0</td>\n",
       "      <td>2014-03-15</td>\n",
       "    </tr>\n",
       "    <tr>\n",
       "      <th>4</th>\n",
       "      <td>A6S9AKRSORG2G</td>\n",
       "      <td>B0001CXUHW</td>\n",
       "      <td>5.0</td>\n",
       "      <td>2014-02-05</td>\n",
       "    </tr>\n",
       "  </tbody>\n",
       "</table>\n",
       "</div>"
      ],
      "text/plain": [
       "       reviewerID   productID  rating        date\n",
       "0  A1AIWGGQNVTXVA  B0001CXUHW     5.0  2014-01-29\n",
       "1  A3B81VS0DT31M8  B0001CXUHW     4.0  2014-03-16\n",
       "2  A2YEHSCW4TFXRU  B0001CXUHW     5.0  2014-04-03\n",
       "3   AB8Z395DD49YP  B0001CXUHW     5.0  2014-03-15\n",
       "4   A6S9AKRSORG2G  B0001CXUHW     5.0  2014-02-05"
      ]
     },
     "execution_count": 2,
     "metadata": {},
     "output_type": "execute_result"
    }
   ],
   "source": [
    "#Load data\n",
    "dt = pd.read_csv('sample_data.csv',index_col=0)\n",
    "dt.head()"
   ]
  },
  {
   "cell_type": "code",
   "execution_count": 3,
   "metadata": {
    "collapsed": true
   },
   "outputs": [],
   "source": [
    "reader = Reader(rating_scale=(1,5))\n",
    "dt = Dataset.load_from_df(dt[['reviewerID','productID','rating']],reader)\n",
    "dt.split(n_folds=3)"
   ]
  },
  {
   "cell_type": "code",
   "execution_count": 4,
   "metadata": {},
   "outputs": [
    {
     "name": "stdout",
     "output_type": "stream",
     "text": [
      "Evaluating RMSE, MAE of algorithm BaselineModel.\n",
      "\n",
      "------------\n",
      "Fold 1\n",
      "RMSE: 1.1825\n",
      "MAE:  0.8760\n",
      "------------\n",
      "Fold 2\n",
      "RMSE: 1.1962\n",
      "MAE:  0.8845\n",
      "------------\n",
      "Fold 3\n",
      "RMSE: 1.1521\n",
      "MAE:  0.8701\n",
      "------------\n",
      "------------\n",
      "Mean RMSE: 1.1769\n",
      "Mean MAE : 0.8769\n",
      "------------\n",
      "------------\n"
     ]
    },
    {
     "data": {
      "text/plain": [
       "CaseInsensitiveDefaultDict(list,\n",
       "                           {'mae': [0.87602954696918434,\n",
       "                             0.88452849585449023,\n",
       "                             0.87009752380908534],\n",
       "                            'rmse': [1.1825368824107447,\n",
       "                             1.1962119294285771,\n",
       "                             1.1520977628827491]})"
      ]
     },
     "execution_count": 4,
     "metadata": {},
     "output_type": "execute_result"
    }
   ],
   "source": [
    "#Baseline model: User's bias & item's bias\n",
    "class BaselineModel(AlgoBase):\n",
    "\n",
    "    def __init__(self):\n",
    "        AlgoBase.__init__(self)\n",
    "\n",
    "    def compute_bias(self):\n",
    "        bu = np.zeros(self.trainset.n_users)\n",
    "        bi = np.zeros(self.trainset.n_items)\n",
    "        global_mean = self.trainset.global_mean\n",
    "        \n",
    "        for i in self.trainset.all_items():\n",
    "            dev_i = 0\n",
    "            for (u, r) in self.trainset.ir[i]:\n",
    "                dev_i += r - global_mean\n",
    "            bi[i] = dev_i/(len(self.trainset.ir[i]))\n",
    "        \n",
    "        for u in self.trainset.all_users():\n",
    "            dev_u = 0\n",
    "            for (i, r) in self.trainset.ur[u]:\n",
    "                dev_u += r - global_mean\n",
    "            bu[u] = dev_u/(len(self.trainset.ur[u]))\n",
    "        return bu, bi\n",
    "    \n",
    "    def train(self, trainset):\n",
    "        AlgoBase.train(self, trainset)\n",
    "        self.bu, self.bi = self.compute_bias()\n",
    "\n",
    "    def estimate(self, u, i):\n",
    "\n",
    "        est = self.trainset.global_mean\n",
    "        if self.trainset.knows_user(u):\n",
    "            est += self.bu[u]\n",
    "        if self.trainset.knows_item(i):\n",
    "            est += self.bi[i]\n",
    "\n",
    "        return est\n",
    "\n",
    "algo1 = BaselineModel()\n",
    "\n",
    "evaluate(algo1, dt,measures=['RMSE', 'MAE'],verbose=1)"
   ]
  },
  {
   "cell_type": "code",
   "execution_count": 5,
   "metadata": {},
   "outputs": [
    {
     "name": "stdout",
     "output_type": "stream",
     "text": [
      "Evaluating RMSE, MAE of algorithm SVD.\n",
      "\n",
      "------------\n",
      "Fold 1\n",
      "RMSE: 1.1732\n",
      "MAE:  0.8807\n",
      "------------\n",
      "Fold 2\n",
      "RMSE: 1.1790\n",
      "MAE:  0.8835\n",
      "------------\n",
      "Fold 3\n",
      "RMSE: 1.1381\n",
      "MAE:  0.8715\n",
      "------------\n",
      "------------\n",
      "Mean RMSE: 1.1635\n",
      "Mean MAE : 0.8786\n",
      "------------\n",
      "------------\n",
      "        Fold 1  Fold 2  Fold 3  Mean    \n",
      "RMSE    1.1732  1.1790  1.1381  1.1635  \n",
      "MAE     0.8807  0.8835  0.8715  0.8786  \n"
     ]
    }
   ],
   "source": [
    "#SVD\n",
    "algo2 = SVD()\n",
    "perf = evaluate(algo2, dt, measures=['RMSE', 'MAE'])\n",
    "print_perf(perf)"
   ]
  },
  {
   "cell_type": "code",
   "execution_count": 8,
   "metadata": {},
   "outputs": [
    {
     "name": "stdout",
     "output_type": "stream",
     "text": [
      "Evaluating RMSE, MAE of algorithm SVDpp.\n",
      "\n",
      "------------\n",
      "Fold 1\n",
      "RMSE: 1.1729\n",
      "MAE:  0.8883\n",
      "------------\n",
      "Fold 2\n",
      "RMSE: 1.1818\n",
      "MAE:  0.8894\n",
      "------------\n",
      "Fold 3\n",
      "RMSE: 1.1406\n",
      "MAE:  0.8757\n",
      "------------\n",
      "------------\n",
      "Mean RMSE: 1.1651\n",
      "Mean MAE : 0.8845\n",
      "------------\n",
      "------------\n"
     ]
    },
    {
     "data": {
      "text/plain": [
       "CaseInsensitiveDefaultDict(list,\n",
       "                           {'mae': [0.88834229401081366,\n",
       "                             0.88935761439944749,\n",
       "                             0.87574152224637514],\n",
       "                            'rmse': [1.1729020666672803,\n",
       "                             1.1817647372555327,\n",
       "                             1.1405590928295857]})"
      ]
     },
     "execution_count": 8,
     "metadata": {},
     "output_type": "execute_result"
    }
   ],
   "source": [
    "#SVD++\n",
    "algo3 = SVDpp()\n",
    "evaluate(algo3, dt, measures=['RMSE', 'MAE'])"
   ]
  },
  {
   "cell_type": "code",
   "execution_count": 11,
   "metadata": {},
   "outputs": [
    {
     "name": "stdout",
     "output_type": "stream",
     "text": [
      "Evaluating RMSE, MAE of algorithm SVDpp.\n",
      "\n",
      "------------\n",
      "Fold 1\n",
      "RMSE: 1.1727\n",
      "MAE:  0.8853\n",
      "------------\n",
      "Fold 2\n",
      "RMSE: 1.1786\n",
      "MAE:  0.8849\n",
      "------------\n",
      "Fold 3\n",
      "RMSE: 1.1404\n",
      "MAE:  0.8814\n",
      "------------\n",
      "------------\n",
      "Mean RMSE: 1.1639\n",
      "Mean MAE : 0.8839\n",
      "------------\n",
      "------------\n"
     ]
    },
    {
     "data": {
      "text/plain": [
       "CaseInsensitiveDefaultDict(list,\n",
       "                           {'mae': [0.88528584636752927,\n",
       "                             0.88494679573368806,\n",
       "                             0.8814034880749444],\n",
       "                            'rmse': [1.1727075414555548,\n",
       "                             1.1786141465728615,\n",
       "                             1.1404371257923989]})"
      ]
     },
     "execution_count": 11,
     "metadata": {},
     "output_type": "execute_result"
    }
   ],
   "source": [
    "#Non-negative matrix factorization\n",
    "algo4 = NMF()\n",
    "evaluate(algo3, dt, measures=['RMSE', 'MAE'])"
   ]
  },
  {
   "cell_type": "markdown",
   "metadata": {},
   "source": [
    "# Metrics"
   ]
  },
  {
   "cell_type": "code",
   "execution_count": null,
   "metadata": {
    "collapsed": true
   },
   "outputs": [],
   "source": [
    "#Coverage, Serendipity\n",
    "\n",
    "#Try different model parameters\n",
    "\n",
    "#Plots\n"
   ]
  }
 ],
 "metadata": {
  "kernelspec": {
   "display_name": "Python 2",
   "language": "python",
   "name": "python2"
  },
  "language_info": {
   "codemirror_mode": {
    "name": "ipython",
    "version": 2
   },
   "file_extension": ".py",
   "mimetype": "text/x-python",
   "name": "python",
   "nbconvert_exporter": "python",
   "pygments_lexer": "ipython2",
   "version": "2.7.14"
  }
 },
 "nbformat": 4,
 "nbformat_minor": 2
}
