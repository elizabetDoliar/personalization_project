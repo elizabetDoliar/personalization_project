{
 "cells": [
  {
   "cell_type": "code",
   "execution_count": 17,
   "metadata": {
    "collapsed": false
   },
   "outputs": [],
   "source": [
    "import pandas as pd\n",
    "import numpy as np\n",
    "import random\n",
    "%matplotlib inline\n",
    "import matplotlib.pyplot as plt\n",
    "import surprise\n",
    "from surprise import SVD, SVDpp, NMF\n",
    "from surprise import Dataset\n",
    "from surprise import Reader\n",
    "from surprise import evaluate, print_perf\n",
    "from surprise import KNNBasic\n",
    "from surprise import AlgoBase, BaselineOnly\n",
    "from get_top_n import get_top_n\n",
    "from surprise import GridSearch\n",
    "from surprise.accuracy import rmse, mae"
   ]
  },
  {
   "cell_type": "markdown",
   "metadata": {},
   "source": [
    "# Set up training & test data"
   ]
  },
  {
   "cell_type": "code",
   "execution_count": 2,
   "metadata": {
    "collapsed": false
   },
   "outputs": [
    {
     "data": {
      "text/html": [
       "<div>\n",
       "<style>\n",
       "    .dataframe thead tr:only-child th {\n",
       "        text-align: right;\n",
       "    }\n",
       "\n",
       "    .dataframe thead th {\n",
       "        text-align: left;\n",
       "    }\n",
       "\n",
       "    .dataframe tbody tr th {\n",
       "        vertical-align: top;\n",
       "    }\n",
       "</style>\n",
       "<table border=\"1\" class=\"dataframe\">\n",
       "  <thead>\n",
       "    <tr style=\"text-align: right;\">\n",
       "      <th></th>\n",
       "      <th>reviewerID</th>\n",
       "      <th>productID</th>\n",
       "      <th>rating</th>\n",
       "      <th>date</th>\n",
       "    </tr>\n",
       "  </thead>\n",
       "  <tbody>\n",
       "    <tr>\n",
       "      <th>370183</th>\n",
       "      <td>A2OR4QUQSUMOW7</td>\n",
       "      <td>B0016B9FSU</td>\n",
       "      <td>4.0</td>\n",
       "      <td>2013-01-31</td>\n",
       "    </tr>\n",
       "    <tr>\n",
       "      <th>370186</th>\n",
       "      <td>A14E7LZASLSX36</td>\n",
       "      <td>B0016B9FSU</td>\n",
       "      <td>5.0</td>\n",
       "      <td>2013-03-21</td>\n",
       "    </tr>\n",
       "    <tr>\n",
       "      <th>370189</th>\n",
       "      <td>A9ESHA5MS6S6L</td>\n",
       "      <td>B0016B9FSU</td>\n",
       "      <td>5.0</td>\n",
       "      <td>2013-01-17</td>\n",
       "    </tr>\n",
       "    <tr>\n",
       "      <th>370192</th>\n",
       "      <td>ATATZGNDHA5ZD</td>\n",
       "      <td>B0016B9FSU</td>\n",
       "      <td>5.0</td>\n",
       "      <td>2013-02-05</td>\n",
       "    </tr>\n",
       "    <tr>\n",
       "      <th>370193</th>\n",
       "      <td>AN4HRAGRHHX1H</td>\n",
       "      <td>B0016B9FSU</td>\n",
       "      <td>5.0</td>\n",
       "      <td>2013-01-03</td>\n",
       "    </tr>\n",
       "  </tbody>\n",
       "</table>\n",
       "</div>"
      ],
      "text/plain": [
       "            reviewerID   productID  rating        date\n",
       "370183  A2OR4QUQSUMOW7  B0016B9FSU     4.0  2013-01-31\n",
       "370186  A14E7LZASLSX36  B0016B9FSU     5.0  2013-03-21\n",
       "370189   A9ESHA5MS6S6L  B0016B9FSU     5.0  2013-01-17\n",
       "370192   ATATZGNDHA5ZD  B0016B9FSU     5.0  2013-02-05\n",
       "370193   AN4HRAGRHHX1H  B0016B9FSU     5.0  2013-01-03"
      ]
     },
     "execution_count": 2,
     "metadata": {},
     "output_type": "execute_result"
    }
   ],
   "source": [
    "#Load data\n",
    "dt = pd.read_csv('sample_data.csv',index_col=0)\n",
    "dt.head()"
   ]
  },
  {
   "cell_type": "code",
   "execution_count": 3,
   "metadata": {
    "collapsed": true
   },
   "outputs": [],
   "source": [
    "#Construct missing ratings we need to predict\n",
    "select_data = dt.pivot_table('rating',index=['reviewerID','productID'],dropna=False)\n",
    "select_data = select_data.loc[select_data['rating'].isnull()]\n",
    "select_data.reset_index(inplace=True)\n",
    "missing_values = select_data[['reviewerID','productID']].values"
   ]
  },
  {
   "cell_type": "code",
   "execution_count": 4,
   "metadata": {
    "collapsed": true
   },
   "outputs": [],
   "source": [
    "reader = Reader(rating_scale=(1,5))\n",
    "dt = Dataset.load_from_df(dt[['reviewerID','productID','rating']],reader)"
   ]
  },
  {
   "cell_type": "code",
   "execution_count": 5,
   "metadata": {
    "collapsed": true
   },
   "outputs": [],
   "source": [
    "raw_ratings = dt.raw_ratings\n",
    "#Shuffle ratings\n",
    "random.seed(42)\n",
    "random.shuffle(raw_ratings)\n",
    "#Split to training and test sets\n",
    "threshold = int(.8 * len(raw_ratings))\n",
    "A_raw_ratings = raw_ratings[:threshold]\n",
    "B_raw_ratings = raw_ratings[threshold:]"
   ]
  },
  {
   "cell_type": "code",
   "execution_count": 6,
   "metadata": {
    "collapsed": true
   },
   "outputs": [],
   "source": [
    "dt.raw_ratings = A_raw_ratings  # dt is now the set A\n",
    "dt.split(n_folds=3)"
   ]
  },
  {
   "cell_type": "code",
   "execution_count": 7,
   "metadata": {
    "collapsed": true
   },
   "outputs": [],
   "source": [
    "#Construct train set and test set for use by surprise\n",
    "trainset = dt.build_full_trainset() # trainset is set A\n",
    "testset = dt.construct_testset(B_raw_ratings)  # testset is set B"
   ]
  },
  {
   "cell_type": "markdown",
   "metadata": {},
   "source": [
    "# Train Models"
   ]
  },
  {
   "cell_type": "markdown",
   "metadata": {},
   "source": [
    "## Baseline Model"
   ]
  },
  {
   "cell_type": "code",
   "execution_count": 8,
   "metadata": {
    "collapsed": true
   },
   "outputs": [],
   "source": [
    "#Baseline model: User's bias & item's bias\n",
    "class BaselineModel(AlgoBase):\n",
    "\n",
    "    def __init__(self):\n",
    "        AlgoBase.__init__(self)\n",
    "\n",
    "    def compute_bias(self):\n",
    "        bu = np.zeros(self.trainset.n_users)\n",
    "        bi = np.zeros(self.trainset.n_items)\n",
    "        global_mean = self.trainset.global_mean\n",
    "        \n",
    "        for i in self.trainset.all_items():\n",
    "            dev_i = 0\n",
    "            for (u, r) in self.trainset.ir[i]:\n",
    "                dev_i += r - global_mean\n",
    "            bi[i] = dev_i/(len(self.trainset.ir[i]))\n",
    "        \n",
    "        for u in self.trainset.all_users():\n",
    "            dev_u = 0\n",
    "            for (i, r) in self.trainset.ur[u]:\n",
    "                dev_u += r - global_mean\n",
    "            bu[u] = dev_u/(len(self.trainset.ur[u]))\n",
    "        return bu, bi\n",
    "    \n",
    "    def train(self, trainset):\n",
    "        AlgoBase.train(self, trainset)\n",
    "        self.bu, self.bi = self.compute_bias()\n",
    "\n",
    "    def estimate(self, u, i):\n",
    "        est = self.trainset.global_mean\n",
    "        if self.trainset.knows_user(u):\n",
    "            est += self.bu[u]\n",
    "        if self.trainset.knows_item(i):\n",
    "            est += self.bi[i]\n",
    "        return est\n",
    "\n",
    "algo1 = BaselineModel()"
   ]
  },
  {
   "cell_type": "code",
   "execution_count": 9,
   "metadata": {
    "collapsed": false
   },
   "outputs": [
    {
     "name": "stdout",
     "output_type": "stream",
     "text": [
      "Evaluating RMSE, MAE of algorithm BaselineModel.\n",
      "\n",
      "------------\n",
      "Fold 1\n",
      "RMSE: 1.0403\n",
      "MAE:  0.7736\n",
      "------------\n",
      "Fold 2\n",
      "RMSE: 1.0510\n",
      "MAE:  0.7872\n",
      "------------\n",
      "Fold 3\n",
      "RMSE: 1.0457\n",
      "MAE:  0.7947\n",
      "------------\n",
      "------------\n",
      "Mean RMSE: 1.0457\n",
      "Mean MAE : 0.7852\n",
      "------------\n",
      "------------\n"
     ]
    }
   ],
   "source": [
    "#Train using baseline model and test on testset\n",
    "evaluate(algo1,dt,measures=['RMSE','MAE'], verbose= 1)\n",
    "baseline_predictions = algo1.test(testset)"
   ]
  },
  {
   "cell_type": "code",
   "execution_count": 10,
   "metadata": {
    "collapsed": false
   },
   "outputs": [
    {
     "name": "stdout",
     "output_type": "stream",
     "text": [
      "RMSE: 1.0790\n",
      "MAE:  0.8137\n"
     ]
    },
    {
     "data": {
      "text/plain": [
       "0.81369601807649294"
      ]
     },
     "execution_count": 10,
     "metadata": {},
     "output_type": "execute_result"
    }
   ],
   "source": [
    "#Accuracy on test set\n",
    "rmse(baseline_predictions)\n",
    "mae(baseline_predictions)"
   ]
  },
  {
   "cell_type": "markdown",
   "metadata": {},
   "source": [
    "## Model-based Collaborative Filtering"
   ]
  },
  {
   "cell_type": "code",
   "execution_count": 11,
   "metadata": {
    "collapsed": false
   },
   "outputs": [
    {
     "name": "stdout",
     "output_type": "stream",
     "text": [
      "Evaluating RMSE, MAE of algorithm SVD.\n",
      "\n",
      "------------\n",
      "Fold 1\n",
      "RMSE: 0.9521\n",
      "MAE:  0.7474\n",
      "------------\n",
      "Fold 2\n",
      "RMSE: 0.9402\n",
      "MAE:  0.7326\n",
      "------------\n",
      "Fold 3\n",
      "RMSE: 0.9339\n",
      "MAE:  0.7395\n",
      "------------\n",
      "------------\n",
      "Mean RMSE: 0.9421\n",
      "Mean MAE : 0.7398\n",
      "------------\n",
      "------------\n"
     ]
    }
   ],
   "source": [
    "#SVD\n",
    "algo2 = SVD()\n",
    "evaluate(algo2,dt,measures=['RMSE','MAE'], verbose= 1)\n",
    "svd_predictions = algo2.test(testset)"
   ]
  },
  {
   "cell_type": "code",
   "execution_count": 12,
   "metadata": {
    "collapsed": false
   },
   "outputs": [
    {
     "name": "stdout",
     "output_type": "stream",
     "text": [
      "RMSE: 0.9726\n",
      "MAE:  0.7622\n"
     ]
    },
    {
     "data": {
      "text/plain": [
       "0.76217663312135742"
      ]
     },
     "execution_count": 12,
     "metadata": {},
     "output_type": "execute_result"
    }
   ],
   "source": [
    "#Accuracy on test set\n",
    "rmse(svd_predictions)\n",
    "mae(svd_predictions)"
   ]
  },
  {
   "cell_type": "markdown",
   "metadata": {},
   "source": [
    "#### Changing hyper-parameters of model-based"
   ]
  },
  {
   "cell_type": "code",
   "execution_count": 23,
   "metadata": {
    "collapsed": true
   },
   "outputs": [],
   "source": [
    "#Setting different values for the hyperparameters\n",
    "param_grid = {'n_factors':[80,90,100,110,120,130], 'n_epochs': [5,10,15,20,25,30,35], 'lr_all': [0.001,0.002,0.003,0.004,0.005],\n",
    "              'reg_all': [0.04,0.05,0.06,0.07,0.08]}"
   ]
  },
  {
   "cell_type": "code",
   "execution_count": 24,
   "metadata": {
    "collapsed": false
   },
   "outputs": [
    {
     "name": "stdout",
     "output_type": "stream",
     "text": [
      "[{'n_factors': 80, 'n_epochs': 5, 'lr_all': 0.001, 'reg_all': 0.04}, {'n_factors': 80, 'n_epochs': 5, 'lr_all': 0.001, 'reg_all': 0.05}, {'n_factors': 80, 'n_epochs': 5, 'lr_all': 0.001, 'reg_all': 0.06}, {'n_factors': 80, 'n_epochs': 5, 'lr_all': 0.001, 'reg_all': 0.07}, {'n_factors': 80, 'n_epochs': 5, 'lr_all': 0.001, 'reg_all': 0.08}, {'n_factors': 80, 'n_epochs': 5, 'lr_all': 0.002, 'reg_all': 0.04}, {'n_factors': 80, 'n_epochs': 5, 'lr_all': 0.002, 'reg_all': 0.05}, {'n_factors': 80, 'n_epochs': 5, 'lr_all': 0.002, 'reg_all': 0.06}, {'n_factors': 80, 'n_epochs': 5, 'lr_all': 0.002, 'reg_all': 0.07}, {'n_factors': 80, 'n_epochs': 5, 'lr_all': 0.002, 'reg_all': 0.08}, {'n_factors': 80, 'n_epochs': 5, 'lr_all': 0.003, 'reg_all': 0.04}, {'n_factors': 80, 'n_epochs': 5, 'lr_all': 0.003, 'reg_all': 0.05}, {'n_factors': 80, 'n_epochs': 5, 'lr_all': 0.003, 'reg_all': 0.06}, {'n_factors': 80, 'n_epochs': 5, 'lr_all': 0.003, 'reg_all': 0.07}, {'n_factors': 80, 'n_epochs': 5, 'lr_all': 0.003, 'reg_all': 0.08}, {'n_factors': 80, 'n_epochs': 5, 'lr_all': 0.004, 'reg_all': 0.04}, {'n_factors': 80, 'n_epochs': 5, 'lr_all': 0.004, 'reg_all': 0.05}, {'n_factors': 80, 'n_epochs': 5, 'lr_all': 0.004, 'reg_all': 0.06}, {'n_factors': 80, 'n_epochs': 5, 'lr_all': 0.004, 'reg_all': 0.07}, {'n_factors': 80, 'n_epochs': 5, 'lr_all': 0.004, 'reg_all': 0.08}, {'n_factors': 80, 'n_epochs': 5, 'lr_all': 0.005, 'reg_all': 0.04}, {'n_factors': 80, 'n_epochs': 5, 'lr_all': 0.005, 'reg_all': 0.05}, {'n_factors': 80, 'n_epochs': 5, 'lr_all': 0.005, 'reg_all': 0.06}, {'n_factors': 80, 'n_epochs': 5, 'lr_all': 0.005, 'reg_all': 0.07}, {'n_factors': 80, 'n_epochs': 5, 'lr_all': 0.005, 'reg_all': 0.08}, {'n_factors': 80, 'n_epochs': 10, 'lr_all': 0.001, 'reg_all': 0.04}, {'n_factors': 80, 'n_epochs': 10, 'lr_all': 0.001, 'reg_all': 0.05}, {'n_factors': 80, 'n_epochs': 10, 'lr_all': 0.001, 'reg_all': 0.06}, {'n_factors': 80, 'n_epochs': 10, 'lr_all': 0.001, 'reg_all': 0.07}, {'n_factors': 80, 'n_epochs': 10, 'lr_all': 0.001, 'reg_all': 0.08}, {'n_factors': 80, 'n_epochs': 10, 'lr_all': 0.002, 'reg_all': 0.04}, {'n_factors': 80, 'n_epochs': 10, 'lr_all': 0.002, 'reg_all': 0.05}, {'n_factors': 80, 'n_epochs': 10, 'lr_all': 0.002, 'reg_all': 0.06}, {'n_factors': 80, 'n_epochs': 10, 'lr_all': 0.002, 'reg_all': 0.07}, {'n_factors': 80, 'n_epochs': 10, 'lr_all': 0.002, 'reg_all': 0.08}, {'n_factors': 80, 'n_epochs': 10, 'lr_all': 0.003, 'reg_all': 0.04}, {'n_factors': 80, 'n_epochs': 10, 'lr_all': 0.003, 'reg_all': 0.05}, {'n_factors': 80, 'n_epochs': 10, 'lr_all': 0.003, 'reg_all': 0.06}, {'n_factors': 80, 'n_epochs': 10, 'lr_all': 0.003, 'reg_all': 0.07}, {'n_factors': 80, 'n_epochs': 10, 'lr_all': 0.003, 'reg_all': 0.08}, {'n_factors': 80, 'n_epochs': 10, 'lr_all': 0.004, 'reg_all': 0.04}, {'n_factors': 80, 'n_epochs': 10, 'lr_all': 0.004, 'reg_all': 0.05}, {'n_factors': 80, 'n_epochs': 10, 'lr_all': 0.004, 'reg_all': 0.06}, {'n_factors': 80, 'n_epochs': 10, 'lr_all': 0.004, 'reg_all': 0.07}, {'n_factors': 80, 'n_epochs': 10, 'lr_all': 0.004, 'reg_all': 0.08}, {'n_factors': 80, 'n_epochs': 10, 'lr_all': 0.005, 'reg_all': 0.04}, {'n_factors': 80, 'n_epochs': 10, 'lr_all': 0.005, 'reg_all': 0.05}, {'n_factors': 80, 'n_epochs': 10, 'lr_all': 0.005, 'reg_all': 0.06}, {'n_factors': 80, 'n_epochs': 10, 'lr_all': 0.005, 'reg_all': 0.07}, {'n_factors': 80, 'n_epochs': 10, 'lr_all': 0.005, 'reg_all': 0.08}, {'n_factors': 80, 'n_epochs': 15, 'lr_all': 0.001, 'reg_all': 0.04}, {'n_factors': 80, 'n_epochs': 15, 'lr_all': 0.001, 'reg_all': 0.05}, {'n_factors': 80, 'n_epochs': 15, 'lr_all': 0.001, 'reg_all': 0.06}, {'n_factors': 80, 'n_epochs': 15, 'lr_all': 0.001, 'reg_all': 0.07}, {'n_factors': 80, 'n_epochs': 15, 'lr_all': 0.001, 'reg_all': 0.08}, {'n_factors': 80, 'n_epochs': 15, 'lr_all': 0.002, 'reg_all': 0.04}, {'n_factors': 80, 'n_epochs': 15, 'lr_all': 0.002, 'reg_all': 0.05}, {'n_factors': 80, 'n_epochs': 15, 'lr_all': 0.002, 'reg_all': 0.06}, {'n_factors': 80, 'n_epochs': 15, 'lr_all': 0.002, 'reg_all': 0.07}, {'n_factors': 80, 'n_epochs': 15, 'lr_all': 0.002, 'reg_all': 0.08}, {'n_factors': 80, 'n_epochs': 15, 'lr_all': 0.003, 'reg_all': 0.04}, {'n_factors': 80, 'n_epochs': 15, 'lr_all': 0.003, 'reg_all': 0.05}, {'n_factors': 80, 'n_epochs': 15, 'lr_all': 0.003, 'reg_all': 0.06}, {'n_factors': 80, 'n_epochs': 15, 'lr_all': 0.003, 'reg_all': 0.07}, {'n_factors': 80, 'n_epochs': 15, 'lr_all': 0.003, 'reg_all': 0.08}, {'n_factors': 80, 'n_epochs': 15, 'lr_all': 0.004, 'reg_all': 0.04}, {'n_factors': 80, 'n_epochs': 15, 'lr_all': 0.004, 'reg_all': 0.05}, {'n_factors': 80, 'n_epochs': 15, 'lr_all': 0.004, 'reg_all': 0.06}, {'n_factors': 80, 'n_epochs': 15, 'lr_all': 0.004, 'reg_all': 0.07}, {'n_factors': 80, 'n_epochs': 15, 'lr_all': 0.004, 'reg_all': 0.08}, {'n_factors': 80, 'n_epochs': 15, 'lr_all': 0.005, 'reg_all': 0.04}, {'n_factors': 80, 'n_epochs': 15, 'lr_all': 0.005, 'reg_all': 0.05}, {'n_factors': 80, 'n_epochs': 15, 'lr_all': 0.005, 'reg_all': 0.06}, {'n_factors': 80, 'n_epochs': 15, 'lr_all': 0.005, 'reg_all': 0.07}, {'n_factors': 80, 'n_epochs': 15, 'lr_all': 0.005, 'reg_all': 0.08}, {'n_factors': 80, 'n_epochs': 20, 'lr_all': 0.001, 'reg_all': 0.04}, {'n_factors': 80, 'n_epochs': 20, 'lr_all': 0.001, 'reg_all': 0.05}, {'n_factors': 80, 'n_epochs': 20, 'lr_all': 0.001, 'reg_all': 0.06}, {'n_factors': 80, 'n_epochs': 20, 'lr_all': 0.001, 'reg_all': 0.07}, {'n_factors': 80, 'n_epochs': 20, 'lr_all': 0.001, 'reg_all': 0.08}, {'n_factors': 80, 'n_epochs': 20, 'lr_all': 0.002, 'reg_all': 0.04}, {'n_factors': 80, 'n_epochs': 20, 'lr_all': 0.002, 'reg_all': 0.05}, {'n_factors': 80, 'n_epochs': 20, 'lr_all': 0.002, 'reg_all': 0.06}, {'n_factors': 80, 'n_epochs': 20, 'lr_all': 0.002, 'reg_all': 0.07}, {'n_factors': 80, 'n_epochs': 20, 'lr_all': 0.002, 'reg_all': 0.08}, {'n_factors': 80, 'n_epochs': 20, 'lr_all': 0.003, 'reg_all': 0.04}, {'n_factors': 80, 'n_epochs': 20, 'lr_all': 0.003, 'reg_all': 0.05}, {'n_factors': 80, 'n_epochs': 20, 'lr_all': 0.003, 'reg_all': 0.06}, {'n_factors': 80, 'n_epochs': 20, 'lr_all': 0.003, 'reg_all': 0.07}, {'n_factors': 80, 'n_epochs': 20, 'lr_all': 0.003, 'reg_all': 0.08}, {'n_factors': 80, 'n_epochs': 20, 'lr_all': 0.004, 'reg_all': 0.04}, {'n_factors': 80, 'n_epochs': 20, 'lr_all': 0.004, 'reg_all': 0.05}, {'n_factors': 80, 'n_epochs': 20, 'lr_all': 0.004, 'reg_all': 0.06}, {'n_factors': 80, 'n_epochs': 20, 'lr_all': 0.004, 'reg_all': 0.07}, {'n_factors': 80, 'n_epochs': 20, 'lr_all': 0.004, 'reg_all': 0.08}, {'n_factors': 80, 'n_epochs': 20, 'lr_all': 0.005, 'reg_all': 0.04}, {'n_factors': 80, 'n_epochs': 20, 'lr_all': 0.005, 'reg_all': 0.05}, {'n_factors': 80, 'n_epochs': 20, 'lr_all': 0.005, 'reg_all': 0.06}, {'n_factors': 80, 'n_epochs': 20, 'lr_all': 0.005, 'reg_all': 0.07}, {'n_factors': 80, 'n_epochs': 20, 'lr_all': 0.005, 'reg_all': 0.08}, {'n_factors': 80, 'n_epochs': 25, 'lr_all': 0.001, 'reg_all': 0.04}, {'n_factors': 80, 'n_epochs': 25, 'lr_all': 0.001, 'reg_all': 0.05}, {'n_factors': 80, 'n_epochs': 25, 'lr_all': 0.001, 'reg_all': 0.06}, {'n_factors': 80, 'n_epochs': 25, 'lr_all': 0.001, 'reg_all': 0.07}, {'n_factors': 80, 'n_epochs': 25, 'lr_all': 0.001, 'reg_all': 0.08}, {'n_factors': 80, 'n_epochs': 25, 'lr_all': 0.002, 'reg_all': 0.04}, {'n_factors': 80, 'n_epochs': 25, 'lr_all': 0.002, 'reg_all': 0.05}, {'n_factors': 80, 'n_epochs': 25, 'lr_all': 0.002, 'reg_all': 0.06}, {'n_factors': 80, 'n_epochs': 25, 'lr_all': 0.002, 'reg_all': 0.07}, {'n_factors': 80, 'n_epochs': 25, 'lr_all': 0.002, 'reg_all': 0.08}, {'n_factors': 80, 'n_epochs': 25, 'lr_all': 0.003, 'reg_all': 0.04}, {'n_factors': 80, 'n_epochs': 25, 'lr_all': 0.003, 'reg_all': 0.05}, {'n_factors': 80, 'n_epochs': 25, 'lr_all': 0.003, 'reg_all': 0.06}, {'n_factors': 80, 'n_epochs': 25, 'lr_all': 0.003, 'reg_all': 0.07}, {'n_factors': 80, 'n_epochs': 25, 'lr_all': 0.003, 'reg_all': 0.08}, {'n_factors': 80, 'n_epochs': 25, 'lr_all': 0.004, 'reg_all': 0.04}, {'n_factors': 80, 'n_epochs': 25, 'lr_all': 0.004, 'reg_all': 0.05}, {'n_factors': 80, 'n_epochs': 25, 'lr_all': 0.004, 'reg_all': 0.06}, {'n_factors': 80, 'n_epochs': 25, 'lr_all': 0.004, 'reg_all': 0.07}, {'n_factors': 80, 'n_epochs': 25, 'lr_all': 0.004, 'reg_all': 0.08}, {'n_factors': 80, 'n_epochs': 25, 'lr_all': 0.005, 'reg_all': 0.04}, {'n_factors': 80, 'n_epochs': 25, 'lr_all': 0.005, 'reg_all': 0.05}, {'n_factors': 80, 'n_epochs': 25, 'lr_all': 0.005, 'reg_all': 0.06}, {'n_factors': 80, 'n_epochs': 25, 'lr_all': 0.005, 'reg_all': 0.07}, {'n_factors': 80, 'n_epochs': 25, 'lr_all': 0.005, 'reg_all': 0.08}, {'n_factors': 80, 'n_epochs': 30, 'lr_all': 0.001, 'reg_all': 0.04}, {'n_factors': 80, 'n_epochs': 30, 'lr_all': 0.001, 'reg_all': 0.05}, {'n_factors': 80, 'n_epochs': 30, 'lr_all': 0.001, 'reg_all': 0.06}, {'n_factors': 80, 'n_epochs': 30, 'lr_all': 0.001, 'reg_all': 0.07}, {'n_factors': 80, 'n_epochs': 30, 'lr_all': 0.001, 'reg_all': 0.08}, {'n_factors': 80, 'n_epochs': 30, 'lr_all': 0.002, 'reg_all': 0.04}, {'n_factors': 80, 'n_epochs': 30, 'lr_all': 0.002, 'reg_all': 0.05}, {'n_factors': 80, 'n_epochs': 30, 'lr_all': 0.002, 'reg_all': 0.06}, {'n_factors': 80, 'n_epochs': 30, 'lr_all': 0.002, 'reg_all': 0.07}, {'n_factors': 80, 'n_epochs': 30, 'lr_all': 0.002, 'reg_all': 0.08}, {'n_factors': 80, 'n_epochs': 30, 'lr_all': 0.003, 'reg_all': 0.04}, {'n_factors': 80, 'n_epochs': 30, 'lr_all': 0.003, 'reg_all': 0.05}, {'n_factors': 80, 'n_epochs': 30, 'lr_all': 0.003, 'reg_all': 0.06}, {'n_factors': 80, 'n_epochs': 30, 'lr_all': 0.003, 'reg_all': 0.07}, {'n_factors': 80, 'n_epochs': 30, 'lr_all': 0.003, 'reg_all': 0.08}, {'n_factors': 80, 'n_epochs': 30, 'lr_all': 0.004, 'reg_all': 0.04}, {'n_factors': 80, 'n_epochs': 30, 'lr_all': 0.004, 'reg_all': 0.05}, {'n_factors': 80, 'n_epochs': 30, 'lr_all': 0.004, 'reg_all': 0.06}, {'n_factors': 80, 'n_epochs': 30, 'lr_all': 0.004, 'reg_all': 0.07}, {'n_factors': 80, 'n_epochs': 30, 'lr_all': 0.004, 'reg_all': 0.08}, {'n_factors': 80, 'n_epochs': 30, 'lr_all': 0.005, 'reg_all': 0.04}, {'n_factors': 80, 'n_epochs': 30, 'lr_all': 0.005, 'reg_all': 0.05}, {'n_factors': 80, 'n_epochs': 30, 'lr_all': 0.005, 'reg_all': 0.06}, {'n_factors': 80, 'n_epochs': 30, 'lr_all': 0.005, 'reg_all': 0.07}, {'n_factors': 80, 'n_epochs': 30, 'lr_all': 0.005, 'reg_all': 0.08}, {'n_factors': 80, 'n_epochs': 35, 'lr_all': 0.001, 'reg_all': 0.04}, {'n_factors': 80, 'n_epochs': 35, 'lr_all': 0.001, 'reg_all': 0.05}, {'n_factors': 80, 'n_epochs': 35, 'lr_all': 0.001, 'reg_all': 0.06}, {'n_factors': 80, 'n_epochs': 35, 'lr_all': 0.001, 'reg_all': 0.07}, {'n_factors': 80, 'n_epochs': 35, 'lr_all': 0.001, 'reg_all': 0.08}, {'n_factors': 80, 'n_epochs': 35, 'lr_all': 0.002, 'reg_all': 0.04}, {'n_factors': 80, 'n_epochs': 35, 'lr_all': 0.002, 'reg_all': 0.05}, {'n_factors': 80, 'n_epochs': 35, 'lr_all': 0.002, 'reg_all': 0.06}, {'n_factors': 80, 'n_epochs': 35, 'lr_all': 0.002, 'reg_all': 0.07}, {'n_factors': 80, 'n_epochs': 35, 'lr_all': 0.002, 'reg_all': 0.08}, {'n_factors': 80, 'n_epochs': 35, 'lr_all': 0.003, 'reg_all': 0.04}, {'n_factors': 80, 'n_epochs': 35, 'lr_all': 0.003, 'reg_all': 0.05}, {'n_factors': 80, 'n_epochs': 35, 'lr_all': 0.003, 'reg_all': 0.06}, {'n_factors': 80, 'n_epochs': 35, 'lr_all': 0.003, 'reg_all': 0.07}, {'n_factors': 80, 'n_epochs': 35, 'lr_all': 0.003, 'reg_all': 0.08}, {'n_factors': 80, 'n_epochs': 35, 'lr_all': 0.004, 'reg_all': 0.04}, {'n_factors': 80, 'n_epochs': 35, 'lr_all': 0.004, 'reg_all': 0.05}, {'n_factors': 80, 'n_epochs': 35, 'lr_all': 0.004, 'reg_all': 0.06}, {'n_factors': 80, 'n_epochs': 35, 'lr_all': 0.004, 'reg_all': 0.07}, {'n_factors': 80, 'n_epochs': 35, 'lr_all': 0.004, 'reg_all': 0.08}, {'n_factors': 80, 'n_epochs': 35, 'lr_all': 0.005, 'reg_all': 0.04}, {'n_factors': 80, 'n_epochs': 35, 'lr_all': 0.005, 'reg_all': 0.05}, {'n_factors': 80, 'n_epochs': 35, 'lr_all': 0.005, 'reg_all': 0.06}, {'n_factors': 80, 'n_epochs': 35, 'lr_all': 0.005, 'reg_all': 0.07}, {'n_factors': 80, 'n_epochs': 35, 'lr_all': 0.005, 'reg_all': 0.08}, {'n_factors': 90, 'n_epochs': 5, 'lr_all': 0.001, 'reg_all': 0.04}, {'n_factors': 90, 'n_epochs': 5, 'lr_all': 0.001, 'reg_all': 0.05}, {'n_factors': 90, 'n_epochs': 5, 'lr_all': 0.001, 'reg_all': 0.06}, {'n_factors': 90, 'n_epochs': 5, 'lr_all': 0.001, 'reg_all': 0.07}, {'n_factors': 90, 'n_epochs': 5, 'lr_all': 0.001, 'reg_all': 0.08}, {'n_factors': 90, 'n_epochs': 5, 'lr_all': 0.002, 'reg_all': 0.04}, {'n_factors': 90, 'n_epochs': 5, 'lr_all': 0.002, 'reg_all': 0.05}, {'n_factors': 90, 'n_epochs': 5, 'lr_all': 0.002, 'reg_all': 0.06}, {'n_factors': 90, 'n_epochs': 5, 'lr_all': 0.002, 'reg_all': 0.07}, {'n_factors': 90, 'n_epochs': 5, 'lr_all': 0.002, 'reg_all': 0.08}, {'n_factors': 90, 'n_epochs': 5, 'lr_all': 0.003, 'reg_all': 0.04}, {'n_factors': 90, 'n_epochs': 5, 'lr_all': 0.003, 'reg_all': 0.05}, {'n_factors': 90, 'n_epochs': 5, 'lr_all': 0.003, 'reg_all': 0.06}, {'n_factors': 90, 'n_epochs': 5, 'lr_all': 0.003, 'reg_all': 0.07}, {'n_factors': 90, 'n_epochs': 5, 'lr_all': 0.003, 'reg_all': 0.08}, {'n_factors': 90, 'n_epochs': 5, 'lr_all': 0.004, 'reg_all': 0.04}, {'n_factors': 90, 'n_epochs': 5, 'lr_all': 0.004, 'reg_all': 0.05}, {'n_factors': 90, 'n_epochs': 5, 'lr_all': 0.004, 'reg_all': 0.06}, {'n_factors': 90, 'n_epochs': 5, 'lr_all': 0.004, 'reg_all': 0.07}, {'n_factors': 90, 'n_epochs': 5, 'lr_all': 0.004, 'reg_all': 0.08}, {'n_factors': 90, 'n_epochs': 5, 'lr_all': 0.005, 'reg_all': 0.04}, {'n_factors': 90, 'n_epochs': 5, 'lr_all': 0.005, 'reg_all': 0.05}, {'n_factors': 90, 'n_epochs': 5, 'lr_all': 0.005, 'reg_all': 0.06}, {'n_factors': 90, 'n_epochs': 5, 'lr_all': 0.005, 'reg_all': 0.07}, {'n_factors': 90, 'n_epochs': 5, 'lr_all': 0.005, 'reg_all': 0.08}, {'n_factors': 90, 'n_epochs': 10, 'lr_all': 0.001, 'reg_all': 0.04}, {'n_factors': 90, 'n_epochs': 10, 'lr_all': 0.001, 'reg_all': 0.05}, {'n_factors': 90, 'n_epochs': 10, 'lr_all': 0.001, 'reg_all': 0.06}, {'n_factors': 90, 'n_epochs': 10, 'lr_all': 0.001, 'reg_all': 0.07}, {'n_factors': 90, 'n_epochs': 10, 'lr_all': 0.001, 'reg_all': 0.08}, {'n_factors': 90, 'n_epochs': 10, 'lr_all': 0.002, 'reg_all': 0.04}, {'n_factors': 90, 'n_epochs': 10, 'lr_all': 0.002, 'reg_all': 0.05}, {'n_factors': 90, 'n_epochs': 10, 'lr_all': 0.002, 'reg_all': 0.06}, {'n_factors': 90, 'n_epochs': 10, 'lr_all': 0.002, 'reg_all': 0.07}, {'n_factors': 90, 'n_epochs': 10, 'lr_all': 0.002, 'reg_all': 0.08}, {'n_factors': 90, 'n_epochs': 10, 'lr_all': 0.003, 'reg_all': 0.04}, {'n_factors': 90, 'n_epochs': 10, 'lr_all': 0.003, 'reg_all': 0.05}, {'n_factors': 90, 'n_epochs': 10, 'lr_all': 0.003, 'reg_all': 0.06}, {'n_factors': 90, 'n_epochs': 10, 'lr_all': 0.003, 'reg_all': 0.07}, {'n_factors': 90, 'n_epochs': 10, 'lr_all': 0.003, 'reg_all': 0.08}, {'n_factors': 90, 'n_epochs': 10, 'lr_all': 0.004, 'reg_all': 0.04}, {'n_factors': 90, 'n_epochs': 10, 'lr_all': 0.004, 'reg_all': 0.05}, {'n_factors': 90, 'n_epochs': 10, 'lr_all': 0.004, 'reg_all': 0.06}, {'n_factors': 90, 'n_epochs': 10, 'lr_all': 0.004, 'reg_all': 0.07}, {'n_factors': 90, 'n_epochs': 10, 'lr_all': 0.004, 'reg_all': 0.08}, {'n_factors': 90, 'n_epochs': 10, 'lr_all': 0.005, 'reg_all': 0.04}, {'n_factors': 90, 'n_epochs': 10, 'lr_all': 0.005, 'reg_all': 0.05}, {'n_factors': 90, 'n_epochs': 10, 'lr_all': 0.005, 'reg_all': 0.06}, {'n_factors': 90, 'n_epochs': 10, 'lr_all': 0.005, 'reg_all': 0.07}, {'n_factors': 90, 'n_epochs': 10, 'lr_all': 0.005, 'reg_all': 0.08}, {'n_factors': 90, 'n_epochs': 15, 'lr_all': 0.001, 'reg_all': 0.04}, {'n_factors': 90, 'n_epochs': 15, 'lr_all': 0.001, 'reg_all': 0.05}, {'n_factors': 90, 'n_epochs': 15, 'lr_all': 0.001, 'reg_all': 0.06}, {'n_factors': 90, 'n_epochs': 15, 'lr_all': 0.001, 'reg_all': 0.07}, {'n_factors': 90, 'n_epochs': 15, 'lr_all': 0.001, 'reg_all': 0.08}, {'n_factors': 90, 'n_epochs': 15, 'lr_all': 0.002, 'reg_all': 0.04}, {'n_factors': 90, 'n_epochs': 15, 'lr_all': 0.002, 'reg_all': 0.05}, {'n_factors': 90, 'n_epochs': 15, 'lr_all': 0.002, 'reg_all': 0.06}, {'n_factors': 90, 'n_epochs': 15, 'lr_all': 0.002, 'reg_all': 0.07}, {'n_factors': 90, 'n_epochs': 15, 'lr_all': 0.002, 'reg_all': 0.08}, {'n_factors': 90, 'n_epochs': 15, 'lr_all': 0.003, 'reg_all': 0.04}, {'n_factors': 90, 'n_epochs': 15, 'lr_all': 0.003, 'reg_all': 0.05}, {'n_factors': 90, 'n_epochs': 15, 'lr_all': 0.003, 'reg_all': 0.06}, {'n_factors': 90, 'n_epochs': 15, 'lr_all': 0.003, 'reg_all': 0.07}, {'n_factors': 90, 'n_epochs': 15, 'lr_all': 0.003, 'reg_all': 0.08}, {'n_factors': 90, 'n_epochs': 15, 'lr_all': 0.004, 'reg_all': 0.04}, {'n_factors': 90, 'n_epochs': 15, 'lr_all': 0.004, 'reg_all': 0.05}, {'n_factors': 90, 'n_epochs': 15, 'lr_all': 0.004, 'reg_all': 0.06}, {'n_factors': 90, 'n_epochs': 15, 'lr_all': 0.004, 'reg_all': 0.07}, {'n_factors': 90, 'n_epochs': 15, 'lr_all': 0.004, 'reg_all': 0.08}, {'n_factors': 90, 'n_epochs': 15, 'lr_all': 0.005, 'reg_all': 0.04}, {'n_factors': 90, 'n_epochs': 15, 'lr_all': 0.005, 'reg_all': 0.05}, {'n_factors': 90, 'n_epochs': 15, 'lr_all': 0.005, 'reg_all': 0.06}, {'n_factors': 90, 'n_epochs': 15, 'lr_all': 0.005, 'reg_all': 0.07}, {'n_factors': 90, 'n_epochs': 15, 'lr_all': 0.005, 'reg_all': 0.08}, {'n_factors': 90, 'n_epochs': 20, 'lr_all': 0.001, 'reg_all': 0.04}, {'n_factors': 90, 'n_epochs': 20, 'lr_all': 0.001, 'reg_all': 0.05}, {'n_factors': 90, 'n_epochs': 20, 'lr_all': 0.001, 'reg_all': 0.06}, {'n_factors': 90, 'n_epochs': 20, 'lr_all': 0.001, 'reg_all': 0.07}, {'n_factors': 90, 'n_epochs': 20, 'lr_all': 0.001, 'reg_all': 0.08}, {'n_factors': 90, 'n_epochs': 20, 'lr_all': 0.002, 'reg_all': 0.04}, {'n_factors': 90, 'n_epochs': 20, 'lr_all': 0.002, 'reg_all': 0.05}, {'n_factors': 90, 'n_epochs': 20, 'lr_all': 0.002, 'reg_all': 0.06}, {'n_factors': 90, 'n_epochs': 20, 'lr_all': 0.002, 'reg_all': 0.07}, {'n_factors': 90, 'n_epochs': 20, 'lr_all': 0.002, 'reg_all': 0.08}, {'n_factors': 90, 'n_epochs': 20, 'lr_all': 0.003, 'reg_all': 0.04}, {'n_factors': 90, 'n_epochs': 20, 'lr_all': 0.003, 'reg_all': 0.05}, {'n_factors': 90, 'n_epochs': 20, 'lr_all': 0.003, 'reg_all': 0.06}, {'n_factors': 90, 'n_epochs': 20, 'lr_all': 0.003, 'reg_all': 0.07}, {'n_factors': 90, 'n_epochs': 20, 'lr_all': 0.003, 'reg_all': 0.08}, {'n_factors': 90, 'n_epochs': 20, 'lr_all': 0.004, 'reg_all': 0.04}, {'n_factors': 90, 'n_epochs': 20, 'lr_all': 0.004, 'reg_all': 0.05}, {'n_factors': 90, 'n_epochs': 20, 'lr_all': 0.004, 'reg_all': 0.06}, {'n_factors': 90, 'n_epochs': 20, 'lr_all': 0.004, 'reg_all': 0.07}, {'n_factors': 90, 'n_epochs': 20, 'lr_all': 0.004, 'reg_all': 0.08}, {'n_factors': 90, 'n_epochs': 20, 'lr_all': 0.005, 'reg_all': 0.04}, {'n_factors': 90, 'n_epochs': 20, 'lr_all': 0.005, 'reg_all': 0.05}, {'n_factors': 90, 'n_epochs': 20, 'lr_all': 0.005, 'reg_all': 0.06}, {'n_factors': 90, 'n_epochs': 20, 'lr_all': 0.005, 'reg_all': 0.07}, {'n_factors': 90, 'n_epochs': 20, 'lr_all': 0.005, 'reg_all': 0.08}, {'n_factors': 90, 'n_epochs': 25, 'lr_all': 0.001, 'reg_all': 0.04}, {'n_factors': 90, 'n_epochs': 25, 'lr_all': 0.001, 'reg_all': 0.05}, {'n_factors': 90, 'n_epochs': 25, 'lr_all': 0.001, 'reg_all': 0.06}, {'n_factors': 90, 'n_epochs': 25, 'lr_all': 0.001, 'reg_all': 0.07}, {'n_factors': 90, 'n_epochs': 25, 'lr_all': 0.001, 'reg_all': 0.08}, {'n_factors': 90, 'n_epochs': 25, 'lr_all': 0.002, 'reg_all': 0.04}, {'n_factors': 90, 'n_epochs': 25, 'lr_all': 0.002, 'reg_all': 0.05}, {'n_factors': 90, 'n_epochs': 25, 'lr_all': 0.002, 'reg_all': 0.06}, {'n_factors': 90, 'n_epochs': 25, 'lr_all': 0.002, 'reg_all': 0.07}, {'n_factors': 90, 'n_epochs': 25, 'lr_all': 0.002, 'reg_all': 0.08}, {'n_factors': 90, 'n_epochs': 25, 'lr_all': 0.003, 'reg_all': 0.04}, {'n_factors': 90, 'n_epochs': 25, 'lr_all': 0.003, 'reg_all': 0.05}, {'n_factors': 90, 'n_epochs': 25, 'lr_all': 0.003, 'reg_all': 0.06}, {'n_factors': 90, 'n_epochs': 25, 'lr_all': 0.003, 'reg_all': 0.07}, {'n_factors': 90, 'n_epochs': 25, 'lr_all': 0.003, 'reg_all': 0.08}, {'n_factors': 90, 'n_epochs': 25, 'lr_all': 0.004, 'reg_all': 0.04}, {'n_factors': 90, 'n_epochs': 25, 'lr_all': 0.004, 'reg_all': 0.05}, {'n_factors': 90, 'n_epochs': 25, 'lr_all': 0.004, 'reg_all': 0.06}, {'n_factors': 90, 'n_epochs': 25, 'lr_all': 0.004, 'reg_all': 0.07}, {'n_factors': 90, 'n_epochs': 25, 'lr_all': 0.004, 'reg_all': 0.08}, {'n_factors': 90, 'n_epochs': 25, 'lr_all': 0.005, 'reg_all': 0.04}, {'n_factors': 90, 'n_epochs': 25, 'lr_all': 0.005, 'reg_all': 0.05}, {'n_factors': 90, 'n_epochs': 25, 'lr_all': 0.005, 'reg_all': 0.06}, {'n_factors': 90, 'n_epochs': 25, 'lr_all': 0.005, 'reg_all': 0.07}, {'n_factors': 90, 'n_epochs': 25, 'lr_all': 0.005, 'reg_all': 0.08}, {'n_factors': 90, 'n_epochs': 30, 'lr_all': 0.001, 'reg_all': 0.04}, {'n_factors': 90, 'n_epochs': 30, 'lr_all': 0.001, 'reg_all': 0.05}, {'n_factors': 90, 'n_epochs': 30, 'lr_all': 0.001, 'reg_all': 0.06}, {'n_factors': 90, 'n_epochs': 30, 'lr_all': 0.001, 'reg_all': 0.07}, {'n_factors': 90, 'n_epochs': 30, 'lr_all': 0.001, 'reg_all': 0.08}, {'n_factors': 90, 'n_epochs': 30, 'lr_all': 0.002, 'reg_all': 0.04}, {'n_factors': 90, 'n_epochs': 30, 'lr_all': 0.002, 'reg_all': 0.05}, {'n_factors': 90, 'n_epochs': 30, 'lr_all': 0.002, 'reg_all': 0.06}, {'n_factors': 90, 'n_epochs': 30, 'lr_all': 0.002, 'reg_all': 0.07}, {'n_factors': 90, 'n_epochs': 30, 'lr_all': 0.002, 'reg_all': 0.08}, {'n_factors': 90, 'n_epochs': 30, 'lr_all': 0.003, 'reg_all': 0.04}, {'n_factors': 90, 'n_epochs': 30, 'lr_all': 0.003, 'reg_all': 0.05}, {'n_factors': 90, 'n_epochs': 30, 'lr_all': 0.003, 'reg_all': 0.06}, {'n_factors': 90, 'n_epochs': 30, 'lr_all': 0.003, 'reg_all': 0.07}, {'n_factors': 90, 'n_epochs': 30, 'lr_all': 0.003, 'reg_all': 0.08}, {'n_factors': 90, 'n_epochs': 30, 'lr_all': 0.004, 'reg_all': 0.04}, {'n_factors': 90, 'n_epochs': 30, 'lr_all': 0.004, 'reg_all': 0.05}, {'n_factors': 90, 'n_epochs': 30, 'lr_all': 0.004, 'reg_all': 0.06}, {'n_factors': 90, 'n_epochs': 30, 'lr_all': 0.004, 'reg_all': 0.07}, {'n_factors': 90, 'n_epochs': 30, 'lr_all': 0.004, 'reg_all': 0.08}, {'n_factors': 90, 'n_epochs': 30, 'lr_all': 0.005, 'reg_all': 0.04}, {'n_factors': 90, 'n_epochs': 30, 'lr_all': 0.005, 'reg_all': 0.05}, {'n_factors': 90, 'n_epochs': 30, 'lr_all': 0.005, 'reg_all': 0.06}, {'n_factors': 90, 'n_epochs': 30, 'lr_all': 0.005, 'reg_all': 0.07}, {'n_factors': 90, 'n_epochs': 30, 'lr_all': 0.005, 'reg_all': 0.08}, {'n_factors': 90, 'n_epochs': 35, 'lr_all': 0.001, 'reg_all': 0.04}, {'n_factors': 90, 'n_epochs': 35, 'lr_all': 0.001, 'reg_all': 0.05}, {'n_factors': 90, 'n_epochs': 35, 'lr_all': 0.001, 'reg_all': 0.06}, {'n_factors': 90, 'n_epochs': 35, 'lr_all': 0.001, 'reg_all': 0.07}, {'n_factors': 90, 'n_epochs': 35, 'lr_all': 0.001, 'reg_all': 0.08}, {'n_factors': 90, 'n_epochs': 35, 'lr_all': 0.002, 'reg_all': 0.04}, {'n_factors': 90, 'n_epochs': 35, 'lr_all': 0.002, 'reg_all': 0.05}, {'n_factors': 90, 'n_epochs': 35, 'lr_all': 0.002, 'reg_all': 0.06}, {'n_factors': 90, 'n_epochs': 35, 'lr_all': 0.002, 'reg_all': 0.07}, {'n_factors': 90, 'n_epochs': 35, 'lr_all': 0.002, 'reg_all': 0.08}, {'n_factors': 90, 'n_epochs': 35, 'lr_all': 0.003, 'reg_all': 0.04}, {'n_factors': 90, 'n_epochs': 35, 'lr_all': 0.003, 'reg_all': 0.05}, {'n_factors': 90, 'n_epochs': 35, 'lr_all': 0.003, 'reg_all': 0.06}, {'n_factors': 90, 'n_epochs': 35, 'lr_all': 0.003, 'reg_all': 0.07}, {'n_factors': 90, 'n_epochs': 35, 'lr_all': 0.003, 'reg_all': 0.08}, {'n_factors': 90, 'n_epochs': 35, 'lr_all': 0.004, 'reg_all': 0.04}, {'n_factors': 90, 'n_epochs': 35, 'lr_all': 0.004, 'reg_all': 0.05}, {'n_factors': 90, 'n_epochs': 35, 'lr_all': 0.004, 'reg_all': 0.06}, {'n_factors': 90, 'n_epochs': 35, 'lr_all': 0.004, 'reg_all': 0.07}, {'n_factors': 90, 'n_epochs': 35, 'lr_all': 0.004, 'reg_all': 0.08}, {'n_factors': 90, 'n_epochs': 35, 'lr_all': 0.005, 'reg_all': 0.04}, {'n_factors': 90, 'n_epochs': 35, 'lr_all': 0.005, 'reg_all': 0.05}, {'n_factors': 90, 'n_epochs': 35, 'lr_all': 0.005, 'reg_all': 0.06}, {'n_factors': 90, 'n_epochs': 35, 'lr_all': 0.005, 'reg_all': 0.07}, {'n_factors': 90, 'n_epochs': 35, 'lr_all': 0.005, 'reg_all': 0.08}, {'n_factors': 100, 'n_epochs': 5, 'lr_all': 0.001, 'reg_all': 0.04}, {'n_factors': 100, 'n_epochs': 5, 'lr_all': 0.001, 'reg_all': 0.05}, {'n_factors': 100, 'n_epochs': 5, 'lr_all': 0.001, 'reg_all': 0.06}, {'n_factors': 100, 'n_epochs': 5, 'lr_all': 0.001, 'reg_all': 0.07}, {'n_factors': 100, 'n_epochs': 5, 'lr_all': 0.001, 'reg_all': 0.08}, {'n_factors': 100, 'n_epochs': 5, 'lr_all': 0.002, 'reg_all': 0.04}, {'n_factors': 100, 'n_epochs': 5, 'lr_all': 0.002, 'reg_all': 0.05}, {'n_factors': 100, 'n_epochs': 5, 'lr_all': 0.002, 'reg_all': 0.06}, {'n_factors': 100, 'n_epochs': 5, 'lr_all': 0.002, 'reg_all': 0.07}, {'n_factors': 100, 'n_epochs': 5, 'lr_all': 0.002, 'reg_all': 0.08}, {'n_factors': 100, 'n_epochs': 5, 'lr_all': 0.003, 'reg_all': 0.04}, {'n_factors': 100, 'n_epochs': 5, 'lr_all': 0.003, 'reg_all': 0.05}, {'n_factors': 100, 'n_epochs': 5, 'lr_all': 0.003, 'reg_all': 0.06}, {'n_factors': 100, 'n_epochs': 5, 'lr_all': 0.003, 'reg_all': 0.07}, {'n_factors': 100, 'n_epochs': 5, 'lr_all': 0.003, 'reg_all': 0.08}, {'n_factors': 100, 'n_epochs': 5, 'lr_all': 0.004, 'reg_all': 0.04}, {'n_factors': 100, 'n_epochs': 5, 'lr_all': 0.004, 'reg_all': 0.05}, {'n_factors': 100, 'n_epochs': 5, 'lr_all': 0.004, 'reg_all': 0.06}, {'n_factors': 100, 'n_epochs': 5, 'lr_all': 0.004, 'reg_all': 0.07}, {'n_factors': 100, 'n_epochs': 5, 'lr_all': 0.004, 'reg_all': 0.08}, {'n_factors': 100, 'n_epochs': 5, 'lr_all': 0.005, 'reg_all': 0.04}, {'n_factors': 100, 'n_epochs': 5, 'lr_all': 0.005, 'reg_all': 0.05}, {'n_factors': 100, 'n_epochs': 5, 'lr_all': 0.005, 'reg_all': 0.06}, {'n_factors': 100, 'n_epochs': 5, 'lr_all': 0.005, 'reg_all': 0.07}, {'n_factors': 100, 'n_epochs': 5, 'lr_all': 0.005, 'reg_all': 0.08}, {'n_factors': 100, 'n_epochs': 10, 'lr_all': 0.001, 'reg_all': 0.04}, {'n_factors': 100, 'n_epochs': 10, 'lr_all': 0.001, 'reg_all': 0.05}, {'n_factors': 100, 'n_epochs': 10, 'lr_all': 0.001, 'reg_all': 0.06}, {'n_factors': 100, 'n_epochs': 10, 'lr_all': 0.001, 'reg_all': 0.07}, {'n_factors': 100, 'n_epochs': 10, 'lr_all': 0.001, 'reg_all': 0.08}, {'n_factors': 100, 'n_epochs': 10, 'lr_all': 0.002, 'reg_all': 0.04}, {'n_factors': 100, 'n_epochs': 10, 'lr_all': 0.002, 'reg_all': 0.05}, {'n_factors': 100, 'n_epochs': 10, 'lr_all': 0.002, 'reg_all': 0.06}, {'n_factors': 100, 'n_epochs': 10, 'lr_all': 0.002, 'reg_all': 0.07}, {'n_factors': 100, 'n_epochs': 10, 'lr_all': 0.002, 'reg_all': 0.08}, {'n_factors': 100, 'n_epochs': 10, 'lr_all': 0.003, 'reg_all': 0.04}, {'n_factors': 100, 'n_epochs': 10, 'lr_all': 0.003, 'reg_all': 0.05}, {'n_factors': 100, 'n_epochs': 10, 'lr_all': 0.003, 'reg_all': 0.06}, {'n_factors': 100, 'n_epochs': 10, 'lr_all': 0.003, 'reg_all': 0.07}, {'n_factors': 100, 'n_epochs': 10, 'lr_all': 0.003, 'reg_all': 0.08}, {'n_factors': 100, 'n_epochs': 10, 'lr_all': 0.004, 'reg_all': 0.04}, {'n_factors': 100, 'n_epochs': 10, 'lr_all': 0.004, 'reg_all': 0.05}, {'n_factors': 100, 'n_epochs': 10, 'lr_all': 0.004, 'reg_all': 0.06}, {'n_factors': 100, 'n_epochs': 10, 'lr_all': 0.004, 'reg_all': 0.07}, {'n_factors': 100, 'n_epochs': 10, 'lr_all': 0.004, 'reg_all': 0.08}, {'n_factors': 100, 'n_epochs': 10, 'lr_all': 0.005, 'reg_all': 0.04}, {'n_factors': 100, 'n_epochs': 10, 'lr_all': 0.005, 'reg_all': 0.05}, {'n_factors': 100, 'n_epochs': 10, 'lr_all': 0.005, 'reg_all': 0.06}, {'n_factors': 100, 'n_epochs': 10, 'lr_all': 0.005, 'reg_all': 0.07}, {'n_factors': 100, 'n_epochs': 10, 'lr_all': 0.005, 'reg_all': 0.08}, {'n_factors': 100, 'n_epochs': 15, 'lr_all': 0.001, 'reg_all': 0.04}, {'n_factors': 100, 'n_epochs': 15, 'lr_all': 0.001, 'reg_all': 0.05}, {'n_factors': 100, 'n_epochs': 15, 'lr_all': 0.001, 'reg_all': 0.06}, {'n_factors': 100, 'n_epochs': 15, 'lr_all': 0.001, 'reg_all': 0.07}, {'n_factors': 100, 'n_epochs': 15, 'lr_all': 0.001, 'reg_all': 0.08}, {'n_factors': 100, 'n_epochs': 15, 'lr_all': 0.002, 'reg_all': 0.04}, {'n_factors': 100, 'n_epochs': 15, 'lr_all': 0.002, 'reg_all': 0.05}, {'n_factors': 100, 'n_epochs': 15, 'lr_all': 0.002, 'reg_all': 0.06}, {'n_factors': 100, 'n_epochs': 15, 'lr_all': 0.002, 'reg_all': 0.07}, {'n_factors': 100, 'n_epochs': 15, 'lr_all': 0.002, 'reg_all': 0.08}, {'n_factors': 100, 'n_epochs': 15, 'lr_all': 0.003, 'reg_all': 0.04}, {'n_factors': 100, 'n_epochs': 15, 'lr_all': 0.003, 'reg_all': 0.05}, {'n_factors': 100, 'n_epochs': 15, 'lr_all': 0.003, 'reg_all': 0.06}, {'n_factors': 100, 'n_epochs': 15, 'lr_all': 0.003, 'reg_all': 0.07}, {'n_factors': 100, 'n_epochs': 15, 'lr_all': 0.003, 'reg_all': 0.08}, {'n_factors': 100, 'n_epochs': 15, 'lr_all': 0.004, 'reg_all': 0.04}, {'n_factors': 100, 'n_epochs': 15, 'lr_all': 0.004, 'reg_all': 0.05}, {'n_factors': 100, 'n_epochs': 15, 'lr_all': 0.004, 'reg_all': 0.06}, {'n_factors': 100, 'n_epochs': 15, 'lr_all': 0.004, 'reg_all': 0.07}, {'n_factors': 100, 'n_epochs': 15, 'lr_all': 0.004, 'reg_all': 0.08}, {'n_factors': 100, 'n_epochs': 15, 'lr_all': 0.005, 'reg_all': 0.04}, {'n_factors': 100, 'n_epochs': 15, 'lr_all': 0.005, 'reg_all': 0.05}, {'n_factors': 100, 'n_epochs': 15, 'lr_all': 0.005, 'reg_all': 0.06}, {'n_factors': 100, 'n_epochs': 15, 'lr_all': 0.005, 'reg_all': 0.07}, {'n_factors': 100, 'n_epochs': 15, 'lr_all': 0.005, 'reg_all': 0.08}, {'n_factors': 100, 'n_epochs': 20, 'lr_all': 0.001, 'reg_all': 0.04}, {'n_factors': 100, 'n_epochs': 20, 'lr_all': 0.001, 'reg_all': 0.05}, {'n_factors': 100, 'n_epochs': 20, 'lr_all': 0.001, 'reg_all': 0.06}, {'n_factors': 100, 'n_epochs': 20, 'lr_all': 0.001, 'reg_all': 0.07}, {'n_factors': 100, 'n_epochs': 20, 'lr_all': 0.001, 'reg_all': 0.08}, {'n_factors': 100, 'n_epochs': 20, 'lr_all': 0.002, 'reg_all': 0.04}, {'n_factors': 100, 'n_epochs': 20, 'lr_all': 0.002, 'reg_all': 0.05}, {'n_factors': 100, 'n_epochs': 20, 'lr_all': 0.002, 'reg_all': 0.06}, {'n_factors': 100, 'n_epochs': 20, 'lr_all': 0.002, 'reg_all': 0.07}, {'n_factors': 100, 'n_epochs': 20, 'lr_all': 0.002, 'reg_all': 0.08}, {'n_factors': 100, 'n_epochs': 20, 'lr_all': 0.003, 'reg_all': 0.04}, {'n_factors': 100, 'n_epochs': 20, 'lr_all': 0.003, 'reg_all': 0.05}, {'n_factors': 100, 'n_epochs': 20, 'lr_all': 0.003, 'reg_all': 0.06}, {'n_factors': 100, 'n_epochs': 20, 'lr_all': 0.003, 'reg_all': 0.07}, {'n_factors': 100, 'n_epochs': 20, 'lr_all': 0.003, 'reg_all': 0.08}, {'n_factors': 100, 'n_epochs': 20, 'lr_all': 0.004, 'reg_all': 0.04}, {'n_factors': 100, 'n_epochs': 20, 'lr_all': 0.004, 'reg_all': 0.05}, {'n_factors': 100, 'n_epochs': 20, 'lr_all': 0.004, 'reg_all': 0.06}, {'n_factors': 100, 'n_epochs': 20, 'lr_all': 0.004, 'reg_all': 0.07}, {'n_factors': 100, 'n_epochs': 20, 'lr_all': 0.004, 'reg_all': 0.08}, {'n_factors': 100, 'n_epochs': 20, 'lr_all': 0.005, 'reg_all': 0.04}, {'n_factors': 100, 'n_epochs': 20, 'lr_all': 0.005, 'reg_all': 0.05}, {'n_factors': 100, 'n_epochs': 20, 'lr_all': 0.005, 'reg_all': 0.06}, {'n_factors': 100, 'n_epochs': 20, 'lr_all': 0.005, 'reg_all': 0.07}, {'n_factors': 100, 'n_epochs': 20, 'lr_all': 0.005, 'reg_all': 0.08}, {'n_factors': 100, 'n_epochs': 25, 'lr_all': 0.001, 'reg_all': 0.04}, {'n_factors': 100, 'n_epochs': 25, 'lr_all': 0.001, 'reg_all': 0.05}, {'n_factors': 100, 'n_epochs': 25, 'lr_all': 0.001, 'reg_all': 0.06}, {'n_factors': 100, 'n_epochs': 25, 'lr_all': 0.001, 'reg_all': 0.07}, {'n_factors': 100, 'n_epochs': 25, 'lr_all': 0.001, 'reg_all': 0.08}, {'n_factors': 100, 'n_epochs': 25, 'lr_all': 0.002, 'reg_all': 0.04}, {'n_factors': 100, 'n_epochs': 25, 'lr_all': 0.002, 'reg_all': 0.05}, {'n_factors': 100, 'n_epochs': 25, 'lr_all': 0.002, 'reg_all': 0.06}, {'n_factors': 100, 'n_epochs': 25, 'lr_all': 0.002, 'reg_all': 0.07}, {'n_factors': 100, 'n_epochs': 25, 'lr_all': 0.002, 'reg_all': 0.08}, {'n_factors': 100, 'n_epochs': 25, 'lr_all': 0.003, 'reg_all': 0.04}, {'n_factors': 100, 'n_epochs': 25, 'lr_all': 0.003, 'reg_all': 0.05}, {'n_factors': 100, 'n_epochs': 25, 'lr_all': 0.003, 'reg_all': 0.06}, {'n_factors': 100, 'n_epochs': 25, 'lr_all': 0.003, 'reg_all': 0.07}, {'n_factors': 100, 'n_epochs': 25, 'lr_all': 0.003, 'reg_all': 0.08}, {'n_factors': 100, 'n_epochs': 25, 'lr_all': 0.004, 'reg_all': 0.04}, {'n_factors': 100, 'n_epochs': 25, 'lr_all': 0.004, 'reg_all': 0.05}, {'n_factors': 100, 'n_epochs': 25, 'lr_all': 0.004, 'reg_all': 0.06}, {'n_factors': 100, 'n_epochs': 25, 'lr_all': 0.004, 'reg_all': 0.07}, {'n_factors': 100, 'n_epochs': 25, 'lr_all': 0.004, 'reg_all': 0.08}, {'n_factors': 100, 'n_epochs': 25, 'lr_all': 0.005, 'reg_all': 0.04}, {'n_factors': 100, 'n_epochs': 25, 'lr_all': 0.005, 'reg_all': 0.05}, {'n_factors': 100, 'n_epochs': 25, 'lr_all': 0.005, 'reg_all': 0.06}, {'n_factors': 100, 'n_epochs': 25, 'lr_all': 0.005, 'reg_all': 0.07}, {'n_factors': 100, 'n_epochs': 25, 'lr_all': 0.005, 'reg_all': 0.08}, {'n_factors': 100, 'n_epochs': 30, 'lr_all': 0.001, 'reg_all': 0.04}, {'n_factors': 100, 'n_epochs': 30, 'lr_all': 0.001, 'reg_all': 0.05}, {'n_factors': 100, 'n_epochs': 30, 'lr_all': 0.001, 'reg_all': 0.06}, {'n_factors': 100, 'n_epochs': 30, 'lr_all': 0.001, 'reg_all': 0.07}, {'n_factors': 100, 'n_epochs': 30, 'lr_all': 0.001, 'reg_all': 0.08}, {'n_factors': 100, 'n_epochs': 30, 'lr_all': 0.002, 'reg_all': 0.04}, {'n_factors': 100, 'n_epochs': 30, 'lr_all': 0.002, 'reg_all': 0.05}, {'n_factors': 100, 'n_epochs': 30, 'lr_all': 0.002, 'reg_all': 0.06}, {'n_factors': 100, 'n_epochs': 30, 'lr_all': 0.002, 'reg_all': 0.07}, {'n_factors': 100, 'n_epochs': 30, 'lr_all': 0.002, 'reg_all': 0.08}, {'n_factors': 100, 'n_epochs': 30, 'lr_all': 0.003, 'reg_all': 0.04}, {'n_factors': 100, 'n_epochs': 30, 'lr_all': 0.003, 'reg_all': 0.05}, {'n_factors': 100, 'n_epochs': 30, 'lr_all': 0.003, 'reg_all': 0.06}, {'n_factors': 100, 'n_epochs': 30, 'lr_all': 0.003, 'reg_all': 0.07}, {'n_factors': 100, 'n_epochs': 30, 'lr_all': 0.003, 'reg_all': 0.08}, {'n_factors': 100, 'n_epochs': 30, 'lr_all': 0.004, 'reg_all': 0.04}, {'n_factors': 100, 'n_epochs': 30, 'lr_all': 0.004, 'reg_all': 0.05}, {'n_factors': 100, 'n_epochs': 30, 'lr_all': 0.004, 'reg_all': 0.06}, {'n_factors': 100, 'n_epochs': 30, 'lr_all': 0.004, 'reg_all': 0.07}, {'n_factors': 100, 'n_epochs': 30, 'lr_all': 0.004, 'reg_all': 0.08}, {'n_factors': 100, 'n_epochs': 30, 'lr_all': 0.005, 'reg_all': 0.04}, {'n_factors': 100, 'n_epochs': 30, 'lr_all': 0.005, 'reg_all': 0.05}, {'n_factors': 100, 'n_epochs': 30, 'lr_all': 0.005, 'reg_all': 0.06}, {'n_factors': 100, 'n_epochs': 30, 'lr_all': 0.005, 'reg_all': 0.07}, {'n_factors': 100, 'n_epochs': 30, 'lr_all': 0.005, 'reg_all': 0.08}, {'n_factors': 100, 'n_epochs': 35, 'lr_all': 0.001, 'reg_all': 0.04}, {'n_factors': 100, 'n_epochs': 35, 'lr_all': 0.001, 'reg_all': 0.05}, {'n_factors': 100, 'n_epochs': 35, 'lr_all': 0.001, 'reg_all': 0.06}, {'n_factors': 100, 'n_epochs': 35, 'lr_all': 0.001, 'reg_all': 0.07}, {'n_factors': 100, 'n_epochs': 35, 'lr_all': 0.001, 'reg_all': 0.08}, {'n_factors': 100, 'n_epochs': 35, 'lr_all': 0.002, 'reg_all': 0.04}, {'n_factors': 100, 'n_epochs': 35, 'lr_all': 0.002, 'reg_all': 0.05}, {'n_factors': 100, 'n_epochs': 35, 'lr_all': 0.002, 'reg_all': 0.06}, {'n_factors': 100, 'n_epochs': 35, 'lr_all': 0.002, 'reg_all': 0.07}, {'n_factors': 100, 'n_epochs': 35, 'lr_all': 0.002, 'reg_all': 0.08}, {'n_factors': 100, 'n_epochs': 35, 'lr_all': 0.003, 'reg_all': 0.04}, {'n_factors': 100, 'n_epochs': 35, 'lr_all': 0.003, 'reg_all': 0.05}, {'n_factors': 100, 'n_epochs': 35, 'lr_all': 0.003, 'reg_all': 0.06}, {'n_factors': 100, 'n_epochs': 35, 'lr_all': 0.003, 'reg_all': 0.07}, {'n_factors': 100, 'n_epochs': 35, 'lr_all': 0.003, 'reg_all': 0.08}, {'n_factors': 100, 'n_epochs': 35, 'lr_all': 0.004, 'reg_all': 0.04}, {'n_factors': 100, 'n_epochs': 35, 'lr_all': 0.004, 'reg_all': 0.05}, {'n_factors': 100, 'n_epochs': 35, 'lr_all': 0.004, 'reg_all': 0.06}, {'n_factors': 100, 'n_epochs': 35, 'lr_all': 0.004, 'reg_all': 0.07}, {'n_factors': 100, 'n_epochs': 35, 'lr_all': 0.004, 'reg_all': 0.08}, {'n_factors': 100, 'n_epochs': 35, 'lr_all': 0.005, 'reg_all': 0.04}, {'n_factors': 100, 'n_epochs': 35, 'lr_all': 0.005, 'reg_all': 0.05}, {'n_factors': 100, 'n_epochs': 35, 'lr_all': 0.005, 'reg_all': 0.06}, {'n_factors': 100, 'n_epochs': 35, 'lr_all': 0.005, 'reg_all': 0.07}, {'n_factors': 100, 'n_epochs': 35, 'lr_all': 0.005, 'reg_all': 0.08}, {'n_factors': 110, 'n_epochs': 5, 'lr_all': 0.001, 'reg_all': 0.04}, {'n_factors': 110, 'n_epochs': 5, 'lr_all': 0.001, 'reg_all': 0.05}, {'n_factors': 110, 'n_epochs': 5, 'lr_all': 0.001, 'reg_all': 0.06}, {'n_factors': 110, 'n_epochs': 5, 'lr_all': 0.001, 'reg_all': 0.07}, {'n_factors': 110, 'n_epochs': 5, 'lr_all': 0.001, 'reg_all': 0.08}, {'n_factors': 110, 'n_epochs': 5, 'lr_all': 0.002, 'reg_all': 0.04}, {'n_factors': 110, 'n_epochs': 5, 'lr_all': 0.002, 'reg_all': 0.05}, {'n_factors': 110, 'n_epochs': 5, 'lr_all': 0.002, 'reg_all': 0.06}, {'n_factors': 110, 'n_epochs': 5, 'lr_all': 0.002, 'reg_all': 0.07}, {'n_factors': 110, 'n_epochs': 5, 'lr_all': 0.002, 'reg_all': 0.08}, {'n_factors': 110, 'n_epochs': 5, 'lr_all': 0.003, 'reg_all': 0.04}, {'n_factors': 110, 'n_epochs': 5, 'lr_all': 0.003, 'reg_all': 0.05}, {'n_factors': 110, 'n_epochs': 5, 'lr_all': 0.003, 'reg_all': 0.06}, {'n_factors': 110, 'n_epochs': 5, 'lr_all': 0.003, 'reg_all': 0.07}, {'n_factors': 110, 'n_epochs': 5, 'lr_all': 0.003, 'reg_all': 0.08}, {'n_factors': 110, 'n_epochs': 5, 'lr_all': 0.004, 'reg_all': 0.04}, {'n_factors': 110, 'n_epochs': 5, 'lr_all': 0.004, 'reg_all': 0.05}, {'n_factors': 110, 'n_epochs': 5, 'lr_all': 0.004, 'reg_all': 0.06}, {'n_factors': 110, 'n_epochs': 5, 'lr_all': 0.004, 'reg_all': 0.07}, {'n_factors': 110, 'n_epochs': 5, 'lr_all': 0.004, 'reg_all': 0.08}, {'n_factors': 110, 'n_epochs': 5, 'lr_all': 0.005, 'reg_all': 0.04}, {'n_factors': 110, 'n_epochs': 5, 'lr_all': 0.005, 'reg_all': 0.05}, {'n_factors': 110, 'n_epochs': 5, 'lr_all': 0.005, 'reg_all': 0.06}, {'n_factors': 110, 'n_epochs': 5, 'lr_all': 0.005, 'reg_all': 0.07}, {'n_factors': 110, 'n_epochs': 5, 'lr_all': 0.005, 'reg_all': 0.08}, {'n_factors': 110, 'n_epochs': 10, 'lr_all': 0.001, 'reg_all': 0.04}, {'n_factors': 110, 'n_epochs': 10, 'lr_all': 0.001, 'reg_all': 0.05}, {'n_factors': 110, 'n_epochs': 10, 'lr_all': 0.001, 'reg_all': 0.06}, {'n_factors': 110, 'n_epochs': 10, 'lr_all': 0.001, 'reg_all': 0.07}, {'n_factors': 110, 'n_epochs': 10, 'lr_all': 0.001, 'reg_all': 0.08}, {'n_factors': 110, 'n_epochs': 10, 'lr_all': 0.002, 'reg_all': 0.04}, {'n_factors': 110, 'n_epochs': 10, 'lr_all': 0.002, 'reg_all': 0.05}, {'n_factors': 110, 'n_epochs': 10, 'lr_all': 0.002, 'reg_all': 0.06}, {'n_factors': 110, 'n_epochs': 10, 'lr_all': 0.002, 'reg_all': 0.07}, {'n_factors': 110, 'n_epochs': 10, 'lr_all': 0.002, 'reg_all': 0.08}, {'n_factors': 110, 'n_epochs': 10, 'lr_all': 0.003, 'reg_all': 0.04}, {'n_factors': 110, 'n_epochs': 10, 'lr_all': 0.003, 'reg_all': 0.05}, {'n_factors': 110, 'n_epochs': 10, 'lr_all': 0.003, 'reg_all': 0.06}, {'n_factors': 110, 'n_epochs': 10, 'lr_all': 0.003, 'reg_all': 0.07}, {'n_factors': 110, 'n_epochs': 10, 'lr_all': 0.003, 'reg_all': 0.08}, {'n_factors': 110, 'n_epochs': 10, 'lr_all': 0.004, 'reg_all': 0.04}, {'n_factors': 110, 'n_epochs': 10, 'lr_all': 0.004, 'reg_all': 0.05}, {'n_factors': 110, 'n_epochs': 10, 'lr_all': 0.004, 'reg_all': 0.06}, {'n_factors': 110, 'n_epochs': 10, 'lr_all': 0.004, 'reg_all': 0.07}, {'n_factors': 110, 'n_epochs': 10, 'lr_all': 0.004, 'reg_all': 0.08}, {'n_factors': 110, 'n_epochs': 10, 'lr_all': 0.005, 'reg_all': 0.04}, {'n_factors': 110, 'n_epochs': 10, 'lr_all': 0.005, 'reg_all': 0.05}, {'n_factors': 110, 'n_epochs': 10, 'lr_all': 0.005, 'reg_all': 0.06}, {'n_factors': 110, 'n_epochs': 10, 'lr_all': 0.005, 'reg_all': 0.07}, {'n_factors': 110, 'n_epochs': 10, 'lr_all': 0.005, 'reg_all': 0.08}, {'n_factors': 110, 'n_epochs': 15, 'lr_all': 0.001, 'reg_all': 0.04}, {'n_factors': 110, 'n_epochs': 15, 'lr_all': 0.001, 'reg_all': 0.05}, {'n_factors': 110, 'n_epochs': 15, 'lr_all': 0.001, 'reg_all': 0.06}, {'n_factors': 110, 'n_epochs': 15, 'lr_all': 0.001, 'reg_all': 0.07}, {'n_factors': 110, 'n_epochs': 15, 'lr_all': 0.001, 'reg_all': 0.08}, {'n_factors': 110, 'n_epochs': 15, 'lr_all': 0.002, 'reg_all': 0.04}, {'n_factors': 110, 'n_epochs': 15, 'lr_all': 0.002, 'reg_all': 0.05}, {'n_factors': 110, 'n_epochs': 15, 'lr_all': 0.002, 'reg_all': 0.06}, {'n_factors': 110, 'n_epochs': 15, 'lr_all': 0.002, 'reg_all': 0.07}, {'n_factors': 110, 'n_epochs': 15, 'lr_all': 0.002, 'reg_all': 0.08}, {'n_factors': 110, 'n_epochs': 15, 'lr_all': 0.003, 'reg_all': 0.04}, {'n_factors': 110, 'n_epochs': 15, 'lr_all': 0.003, 'reg_all': 0.05}, {'n_factors': 110, 'n_epochs': 15, 'lr_all': 0.003, 'reg_all': 0.06}, {'n_factors': 110, 'n_epochs': 15, 'lr_all': 0.003, 'reg_all': 0.07}, {'n_factors': 110, 'n_epochs': 15, 'lr_all': 0.003, 'reg_all': 0.08}, {'n_factors': 110, 'n_epochs': 15, 'lr_all': 0.004, 'reg_all': 0.04}, {'n_factors': 110, 'n_epochs': 15, 'lr_all': 0.004, 'reg_all': 0.05}, {'n_factors': 110, 'n_epochs': 15, 'lr_all': 0.004, 'reg_all': 0.06}, {'n_factors': 110, 'n_epochs': 15, 'lr_all': 0.004, 'reg_all': 0.07}, {'n_factors': 110, 'n_epochs': 15, 'lr_all': 0.004, 'reg_all': 0.08}, {'n_factors': 110, 'n_epochs': 15, 'lr_all': 0.005, 'reg_all': 0.04}, {'n_factors': 110, 'n_epochs': 15, 'lr_all': 0.005, 'reg_all': 0.05}, {'n_factors': 110, 'n_epochs': 15, 'lr_all': 0.005, 'reg_all': 0.06}, {'n_factors': 110, 'n_epochs': 15, 'lr_all': 0.005, 'reg_all': 0.07}, {'n_factors': 110, 'n_epochs': 15, 'lr_all': 0.005, 'reg_all': 0.08}, {'n_factors': 110, 'n_epochs': 20, 'lr_all': 0.001, 'reg_all': 0.04}, {'n_factors': 110, 'n_epochs': 20, 'lr_all': 0.001, 'reg_all': 0.05}, {'n_factors': 110, 'n_epochs': 20, 'lr_all': 0.001, 'reg_all': 0.06}, {'n_factors': 110, 'n_epochs': 20, 'lr_all': 0.001, 'reg_all': 0.07}, {'n_factors': 110, 'n_epochs': 20, 'lr_all': 0.001, 'reg_all': 0.08}, {'n_factors': 110, 'n_epochs': 20, 'lr_all': 0.002, 'reg_all': 0.04}, {'n_factors': 110, 'n_epochs': 20, 'lr_all': 0.002, 'reg_all': 0.05}, {'n_factors': 110, 'n_epochs': 20, 'lr_all': 0.002, 'reg_all': 0.06}, {'n_factors': 110, 'n_epochs': 20, 'lr_all': 0.002, 'reg_all': 0.07}, {'n_factors': 110, 'n_epochs': 20, 'lr_all': 0.002, 'reg_all': 0.08}, {'n_factors': 110, 'n_epochs': 20, 'lr_all': 0.003, 'reg_all': 0.04}, {'n_factors': 110, 'n_epochs': 20, 'lr_all': 0.003, 'reg_all': 0.05}, {'n_factors': 110, 'n_epochs': 20, 'lr_all': 0.003, 'reg_all': 0.06}, {'n_factors': 110, 'n_epochs': 20, 'lr_all': 0.003, 'reg_all': 0.07}, {'n_factors': 110, 'n_epochs': 20, 'lr_all': 0.003, 'reg_all': 0.08}, {'n_factors': 110, 'n_epochs': 20, 'lr_all': 0.004, 'reg_all': 0.04}, {'n_factors': 110, 'n_epochs': 20, 'lr_all': 0.004, 'reg_all': 0.05}, {'n_factors': 110, 'n_epochs': 20, 'lr_all': 0.004, 'reg_all': 0.06}, {'n_factors': 110, 'n_epochs': 20, 'lr_all': 0.004, 'reg_all': 0.07}, {'n_factors': 110, 'n_epochs': 20, 'lr_all': 0.004, 'reg_all': 0.08}, {'n_factors': 110, 'n_epochs': 20, 'lr_all': 0.005, 'reg_all': 0.04}, {'n_factors': 110, 'n_epochs': 20, 'lr_all': 0.005, 'reg_all': 0.05}, {'n_factors': 110, 'n_epochs': 20, 'lr_all': 0.005, 'reg_all': 0.06}, {'n_factors': 110, 'n_epochs': 20, 'lr_all': 0.005, 'reg_all': 0.07}, {'n_factors': 110, 'n_epochs': 20, 'lr_all': 0.005, 'reg_all': 0.08}, {'n_factors': 110, 'n_epochs': 25, 'lr_all': 0.001, 'reg_all': 0.04}, {'n_factors': 110, 'n_epochs': 25, 'lr_all': 0.001, 'reg_all': 0.05}, {'n_factors': 110, 'n_epochs': 25, 'lr_all': 0.001, 'reg_all': 0.06}, {'n_factors': 110, 'n_epochs': 25, 'lr_all': 0.001, 'reg_all': 0.07}, {'n_factors': 110, 'n_epochs': 25, 'lr_all': 0.001, 'reg_all': 0.08}, {'n_factors': 110, 'n_epochs': 25, 'lr_all': 0.002, 'reg_all': 0.04}, {'n_factors': 110, 'n_epochs': 25, 'lr_all': 0.002, 'reg_all': 0.05}, {'n_factors': 110, 'n_epochs': 25, 'lr_all': 0.002, 'reg_all': 0.06}, {'n_factors': 110, 'n_epochs': 25, 'lr_all': 0.002, 'reg_all': 0.07}, {'n_factors': 110, 'n_epochs': 25, 'lr_all': 0.002, 'reg_all': 0.08}, {'n_factors': 110, 'n_epochs': 25, 'lr_all': 0.003, 'reg_all': 0.04}, {'n_factors': 110, 'n_epochs': 25, 'lr_all': 0.003, 'reg_all': 0.05}, {'n_factors': 110, 'n_epochs': 25, 'lr_all': 0.003, 'reg_all': 0.06}, {'n_factors': 110, 'n_epochs': 25, 'lr_all': 0.003, 'reg_all': 0.07}, {'n_factors': 110, 'n_epochs': 25, 'lr_all': 0.003, 'reg_all': 0.08}, {'n_factors': 110, 'n_epochs': 25, 'lr_all': 0.004, 'reg_all': 0.04}, {'n_factors': 110, 'n_epochs': 25, 'lr_all': 0.004, 'reg_all': 0.05}, {'n_factors': 110, 'n_epochs': 25, 'lr_all': 0.004, 'reg_all': 0.06}, {'n_factors': 110, 'n_epochs': 25, 'lr_all': 0.004, 'reg_all': 0.07}, {'n_factors': 110, 'n_epochs': 25, 'lr_all': 0.004, 'reg_all': 0.08}, {'n_factors': 110, 'n_epochs': 25, 'lr_all': 0.005, 'reg_all': 0.04}, {'n_factors': 110, 'n_epochs': 25, 'lr_all': 0.005, 'reg_all': 0.05}, {'n_factors': 110, 'n_epochs': 25, 'lr_all': 0.005, 'reg_all': 0.06}, {'n_factors': 110, 'n_epochs': 25, 'lr_all': 0.005, 'reg_all': 0.07}, {'n_factors': 110, 'n_epochs': 25, 'lr_all': 0.005, 'reg_all': 0.08}, {'n_factors': 110, 'n_epochs': 30, 'lr_all': 0.001, 'reg_all': 0.04}, {'n_factors': 110, 'n_epochs': 30, 'lr_all': 0.001, 'reg_all': 0.05}, {'n_factors': 110, 'n_epochs': 30, 'lr_all': 0.001, 'reg_all': 0.06}, {'n_factors': 110, 'n_epochs': 30, 'lr_all': 0.001, 'reg_all': 0.07}, {'n_factors': 110, 'n_epochs': 30, 'lr_all': 0.001, 'reg_all': 0.08}, {'n_factors': 110, 'n_epochs': 30, 'lr_all': 0.002, 'reg_all': 0.04}, {'n_factors': 110, 'n_epochs': 30, 'lr_all': 0.002, 'reg_all': 0.05}, {'n_factors': 110, 'n_epochs': 30, 'lr_all': 0.002, 'reg_all': 0.06}, {'n_factors': 110, 'n_epochs': 30, 'lr_all': 0.002, 'reg_all': 0.07}, {'n_factors': 110, 'n_epochs': 30, 'lr_all': 0.002, 'reg_all': 0.08}, {'n_factors': 110, 'n_epochs': 30, 'lr_all': 0.003, 'reg_all': 0.04}, {'n_factors': 110, 'n_epochs': 30, 'lr_all': 0.003, 'reg_all': 0.05}, {'n_factors': 110, 'n_epochs': 30, 'lr_all': 0.003, 'reg_all': 0.06}, {'n_factors': 110, 'n_epochs': 30, 'lr_all': 0.003, 'reg_all': 0.07}, {'n_factors': 110, 'n_epochs': 30, 'lr_all': 0.003, 'reg_all': 0.08}, {'n_factors': 110, 'n_epochs': 30, 'lr_all': 0.004, 'reg_all': 0.04}, {'n_factors': 110, 'n_epochs': 30, 'lr_all': 0.004, 'reg_all': 0.05}, {'n_factors': 110, 'n_epochs': 30, 'lr_all': 0.004, 'reg_all': 0.06}, {'n_factors': 110, 'n_epochs': 30, 'lr_all': 0.004, 'reg_all': 0.07}, {'n_factors': 110, 'n_epochs': 30, 'lr_all': 0.004, 'reg_all': 0.08}, {'n_factors': 110, 'n_epochs': 30, 'lr_all': 0.005, 'reg_all': 0.04}, {'n_factors': 110, 'n_epochs': 30, 'lr_all': 0.005, 'reg_all': 0.05}, {'n_factors': 110, 'n_epochs': 30, 'lr_all': 0.005, 'reg_all': 0.06}, {'n_factors': 110, 'n_epochs': 30, 'lr_all': 0.005, 'reg_all': 0.07}, {'n_factors': 110, 'n_epochs': 30, 'lr_all': 0.005, 'reg_all': 0.08}, {'n_factors': 110, 'n_epochs': 35, 'lr_all': 0.001, 'reg_all': 0.04}, {'n_factors': 110, 'n_epochs': 35, 'lr_all': 0.001, 'reg_all': 0.05}, {'n_factors': 110, 'n_epochs': 35, 'lr_all': 0.001, 'reg_all': 0.06}, {'n_factors': 110, 'n_epochs': 35, 'lr_all': 0.001, 'reg_all': 0.07}, {'n_factors': 110, 'n_epochs': 35, 'lr_all': 0.001, 'reg_all': 0.08}, {'n_factors': 110, 'n_epochs': 35, 'lr_all': 0.002, 'reg_all': 0.04}, {'n_factors': 110, 'n_epochs': 35, 'lr_all': 0.002, 'reg_all': 0.05}, {'n_factors': 110, 'n_epochs': 35, 'lr_all': 0.002, 'reg_all': 0.06}, {'n_factors': 110, 'n_epochs': 35, 'lr_all': 0.002, 'reg_all': 0.07}, {'n_factors': 110, 'n_epochs': 35, 'lr_all': 0.002, 'reg_all': 0.08}, {'n_factors': 110, 'n_epochs': 35, 'lr_all': 0.003, 'reg_all': 0.04}, {'n_factors': 110, 'n_epochs': 35, 'lr_all': 0.003, 'reg_all': 0.05}, {'n_factors': 110, 'n_epochs': 35, 'lr_all': 0.003, 'reg_all': 0.06}, {'n_factors': 110, 'n_epochs': 35, 'lr_all': 0.003, 'reg_all': 0.07}, {'n_factors': 110, 'n_epochs': 35, 'lr_all': 0.003, 'reg_all': 0.08}, {'n_factors': 110, 'n_epochs': 35, 'lr_all': 0.004, 'reg_all': 0.04}, {'n_factors': 110, 'n_epochs': 35, 'lr_all': 0.004, 'reg_all': 0.05}, {'n_factors': 110, 'n_epochs': 35, 'lr_all': 0.004, 'reg_all': 0.06}, {'n_factors': 110, 'n_epochs': 35, 'lr_all': 0.004, 'reg_all': 0.07}, {'n_factors': 110, 'n_epochs': 35, 'lr_all': 0.004, 'reg_all': 0.08}, {'n_factors': 110, 'n_epochs': 35, 'lr_all': 0.005, 'reg_all': 0.04}, {'n_factors': 110, 'n_epochs': 35, 'lr_all': 0.005, 'reg_all': 0.05}, {'n_factors': 110, 'n_epochs': 35, 'lr_all': 0.005, 'reg_all': 0.06}, {'n_factors': 110, 'n_epochs': 35, 'lr_all': 0.005, 'reg_all': 0.07}, {'n_factors': 110, 'n_epochs': 35, 'lr_all': 0.005, 'reg_all': 0.08}, {'n_factors': 120, 'n_epochs': 5, 'lr_all': 0.001, 'reg_all': 0.04}, {'n_factors': 120, 'n_epochs': 5, 'lr_all': 0.001, 'reg_all': 0.05}, {'n_factors': 120, 'n_epochs': 5, 'lr_all': 0.001, 'reg_all': 0.06}, {'n_factors': 120, 'n_epochs': 5, 'lr_all': 0.001, 'reg_all': 0.07}, {'n_factors': 120, 'n_epochs': 5, 'lr_all': 0.001, 'reg_all': 0.08}, {'n_factors': 120, 'n_epochs': 5, 'lr_all': 0.002, 'reg_all': 0.04}, {'n_factors': 120, 'n_epochs': 5, 'lr_all': 0.002, 'reg_all': 0.05}, {'n_factors': 120, 'n_epochs': 5, 'lr_all': 0.002, 'reg_all': 0.06}, {'n_factors': 120, 'n_epochs': 5, 'lr_all': 0.002, 'reg_all': 0.07}, {'n_factors': 120, 'n_epochs': 5, 'lr_all': 0.002, 'reg_all': 0.08}, {'n_factors': 120, 'n_epochs': 5, 'lr_all': 0.003, 'reg_all': 0.04}, {'n_factors': 120, 'n_epochs': 5, 'lr_all': 0.003, 'reg_all': 0.05}, {'n_factors': 120, 'n_epochs': 5, 'lr_all': 0.003, 'reg_all': 0.06}, {'n_factors': 120, 'n_epochs': 5, 'lr_all': 0.003, 'reg_all': 0.07}, {'n_factors': 120, 'n_epochs': 5, 'lr_all': 0.003, 'reg_all': 0.08}, {'n_factors': 120, 'n_epochs': 5, 'lr_all': 0.004, 'reg_all': 0.04}, {'n_factors': 120, 'n_epochs': 5, 'lr_all': 0.004, 'reg_all': 0.05}, {'n_factors': 120, 'n_epochs': 5, 'lr_all': 0.004, 'reg_all': 0.06}, {'n_factors': 120, 'n_epochs': 5, 'lr_all': 0.004, 'reg_all': 0.07}, {'n_factors': 120, 'n_epochs': 5, 'lr_all': 0.004, 'reg_all': 0.08}, {'n_factors': 120, 'n_epochs': 5, 'lr_all': 0.005, 'reg_all': 0.04}, {'n_factors': 120, 'n_epochs': 5, 'lr_all': 0.005, 'reg_all': 0.05}, {'n_factors': 120, 'n_epochs': 5, 'lr_all': 0.005, 'reg_all': 0.06}, {'n_factors': 120, 'n_epochs': 5, 'lr_all': 0.005, 'reg_all': 0.07}, {'n_factors': 120, 'n_epochs': 5, 'lr_all': 0.005, 'reg_all': 0.08}, {'n_factors': 120, 'n_epochs': 10, 'lr_all': 0.001, 'reg_all': 0.04}, {'n_factors': 120, 'n_epochs': 10, 'lr_all': 0.001, 'reg_all': 0.05}, {'n_factors': 120, 'n_epochs': 10, 'lr_all': 0.001, 'reg_all': 0.06}, {'n_factors': 120, 'n_epochs': 10, 'lr_all': 0.001, 'reg_all': 0.07}, {'n_factors': 120, 'n_epochs': 10, 'lr_all': 0.001, 'reg_all': 0.08}, {'n_factors': 120, 'n_epochs': 10, 'lr_all': 0.002, 'reg_all': 0.04}, {'n_factors': 120, 'n_epochs': 10, 'lr_all': 0.002, 'reg_all': 0.05}, {'n_factors': 120, 'n_epochs': 10, 'lr_all': 0.002, 'reg_all': 0.06}, {'n_factors': 120, 'n_epochs': 10, 'lr_all': 0.002, 'reg_all': 0.07}, {'n_factors': 120, 'n_epochs': 10, 'lr_all': 0.002, 'reg_all': 0.08}, {'n_factors': 120, 'n_epochs': 10, 'lr_all': 0.003, 'reg_all': 0.04}, {'n_factors': 120, 'n_epochs': 10, 'lr_all': 0.003, 'reg_all': 0.05}, {'n_factors': 120, 'n_epochs': 10, 'lr_all': 0.003, 'reg_all': 0.06}, {'n_factors': 120, 'n_epochs': 10, 'lr_all': 0.003, 'reg_all': 0.07}, {'n_factors': 120, 'n_epochs': 10, 'lr_all': 0.003, 'reg_all': 0.08}, {'n_factors': 120, 'n_epochs': 10, 'lr_all': 0.004, 'reg_all': 0.04}, {'n_factors': 120, 'n_epochs': 10, 'lr_all': 0.004, 'reg_all': 0.05}, {'n_factors': 120, 'n_epochs': 10, 'lr_all': 0.004, 'reg_all': 0.06}, {'n_factors': 120, 'n_epochs': 10, 'lr_all': 0.004, 'reg_all': 0.07}, {'n_factors': 120, 'n_epochs': 10, 'lr_all': 0.004, 'reg_all': 0.08}, {'n_factors': 120, 'n_epochs': 10, 'lr_all': 0.005, 'reg_all': 0.04}, {'n_factors': 120, 'n_epochs': 10, 'lr_all': 0.005, 'reg_all': 0.05}, {'n_factors': 120, 'n_epochs': 10, 'lr_all': 0.005, 'reg_all': 0.06}, {'n_factors': 120, 'n_epochs': 10, 'lr_all': 0.005, 'reg_all': 0.07}, {'n_factors': 120, 'n_epochs': 10, 'lr_all': 0.005, 'reg_all': 0.08}, {'n_factors': 120, 'n_epochs': 15, 'lr_all': 0.001, 'reg_all': 0.04}, {'n_factors': 120, 'n_epochs': 15, 'lr_all': 0.001, 'reg_all': 0.05}, {'n_factors': 120, 'n_epochs': 15, 'lr_all': 0.001, 'reg_all': 0.06}, {'n_factors': 120, 'n_epochs': 15, 'lr_all': 0.001, 'reg_all': 0.07}, {'n_factors': 120, 'n_epochs': 15, 'lr_all': 0.001, 'reg_all': 0.08}, {'n_factors': 120, 'n_epochs': 15, 'lr_all': 0.002, 'reg_all': 0.04}, {'n_factors': 120, 'n_epochs': 15, 'lr_all': 0.002, 'reg_all': 0.05}, {'n_factors': 120, 'n_epochs': 15, 'lr_all': 0.002, 'reg_all': 0.06}, {'n_factors': 120, 'n_epochs': 15, 'lr_all': 0.002, 'reg_all': 0.07}, {'n_factors': 120, 'n_epochs': 15, 'lr_all': 0.002, 'reg_all': 0.08}, {'n_factors': 120, 'n_epochs': 15, 'lr_all': 0.003, 'reg_all': 0.04}, {'n_factors': 120, 'n_epochs': 15, 'lr_all': 0.003, 'reg_all': 0.05}, {'n_factors': 120, 'n_epochs': 15, 'lr_all': 0.003, 'reg_all': 0.06}, {'n_factors': 120, 'n_epochs': 15, 'lr_all': 0.003, 'reg_all': 0.07}, {'n_factors': 120, 'n_epochs': 15, 'lr_all': 0.003, 'reg_all': 0.08}, {'n_factors': 120, 'n_epochs': 15, 'lr_all': 0.004, 'reg_all': 0.04}, {'n_factors': 120, 'n_epochs': 15, 'lr_all': 0.004, 'reg_all': 0.05}, {'n_factors': 120, 'n_epochs': 15, 'lr_all': 0.004, 'reg_all': 0.06}, {'n_factors': 120, 'n_epochs': 15, 'lr_all': 0.004, 'reg_all': 0.07}, {'n_factors': 120, 'n_epochs': 15, 'lr_all': 0.004, 'reg_all': 0.08}, {'n_factors': 120, 'n_epochs': 15, 'lr_all': 0.005, 'reg_all': 0.04}, {'n_factors': 120, 'n_epochs': 15, 'lr_all': 0.005, 'reg_all': 0.05}, {'n_factors': 120, 'n_epochs': 15, 'lr_all': 0.005, 'reg_all': 0.06}, {'n_factors': 120, 'n_epochs': 15, 'lr_all': 0.005, 'reg_all': 0.07}, {'n_factors': 120, 'n_epochs': 15, 'lr_all': 0.005, 'reg_all': 0.08}, {'n_factors': 120, 'n_epochs': 20, 'lr_all': 0.001, 'reg_all': 0.04}, {'n_factors': 120, 'n_epochs': 20, 'lr_all': 0.001, 'reg_all': 0.05}, {'n_factors': 120, 'n_epochs': 20, 'lr_all': 0.001, 'reg_all': 0.06}, {'n_factors': 120, 'n_epochs': 20, 'lr_all': 0.001, 'reg_all': 0.07}, {'n_factors': 120, 'n_epochs': 20, 'lr_all': 0.001, 'reg_all': 0.08}, {'n_factors': 120, 'n_epochs': 20, 'lr_all': 0.002, 'reg_all': 0.04}, {'n_factors': 120, 'n_epochs': 20, 'lr_all': 0.002, 'reg_all': 0.05}, {'n_factors': 120, 'n_epochs': 20, 'lr_all': 0.002, 'reg_all': 0.06}, {'n_factors': 120, 'n_epochs': 20, 'lr_all': 0.002, 'reg_all': 0.07}, {'n_factors': 120, 'n_epochs': 20, 'lr_all': 0.002, 'reg_all': 0.08}, {'n_factors': 120, 'n_epochs': 20, 'lr_all': 0.003, 'reg_all': 0.04}, {'n_factors': 120, 'n_epochs': 20, 'lr_all': 0.003, 'reg_all': 0.05}, {'n_factors': 120, 'n_epochs': 20, 'lr_all': 0.003, 'reg_all': 0.06}, {'n_factors': 120, 'n_epochs': 20, 'lr_all': 0.003, 'reg_all': 0.07}, {'n_factors': 120, 'n_epochs': 20, 'lr_all': 0.003, 'reg_all': 0.08}, {'n_factors': 120, 'n_epochs': 20, 'lr_all': 0.004, 'reg_all': 0.04}, {'n_factors': 120, 'n_epochs': 20, 'lr_all': 0.004, 'reg_all': 0.05}, {'n_factors': 120, 'n_epochs': 20, 'lr_all': 0.004, 'reg_all': 0.06}, {'n_factors': 120, 'n_epochs': 20, 'lr_all': 0.004, 'reg_all': 0.07}, {'n_factors': 120, 'n_epochs': 20, 'lr_all': 0.004, 'reg_all': 0.08}, {'n_factors': 120, 'n_epochs': 20, 'lr_all': 0.005, 'reg_all': 0.04}, {'n_factors': 120, 'n_epochs': 20, 'lr_all': 0.005, 'reg_all': 0.05}, {'n_factors': 120, 'n_epochs': 20, 'lr_all': 0.005, 'reg_all': 0.06}, {'n_factors': 120, 'n_epochs': 20, 'lr_all': 0.005, 'reg_all': 0.07}, {'n_factors': 120, 'n_epochs': 20, 'lr_all': 0.005, 'reg_all': 0.08}, {'n_factors': 120, 'n_epochs': 25, 'lr_all': 0.001, 'reg_all': 0.04}, {'n_factors': 120, 'n_epochs': 25, 'lr_all': 0.001, 'reg_all': 0.05}, {'n_factors': 120, 'n_epochs': 25, 'lr_all': 0.001, 'reg_all': 0.06}, {'n_factors': 120, 'n_epochs': 25, 'lr_all': 0.001, 'reg_all': 0.07}, {'n_factors': 120, 'n_epochs': 25, 'lr_all': 0.001, 'reg_all': 0.08}, {'n_factors': 120, 'n_epochs': 25, 'lr_all': 0.002, 'reg_all': 0.04}, {'n_factors': 120, 'n_epochs': 25, 'lr_all': 0.002, 'reg_all': 0.05}, {'n_factors': 120, 'n_epochs': 25, 'lr_all': 0.002, 'reg_all': 0.06}, {'n_factors': 120, 'n_epochs': 25, 'lr_all': 0.002, 'reg_all': 0.07}, {'n_factors': 120, 'n_epochs': 25, 'lr_all': 0.002, 'reg_all': 0.08}, {'n_factors': 120, 'n_epochs': 25, 'lr_all': 0.003, 'reg_all': 0.04}, {'n_factors': 120, 'n_epochs': 25, 'lr_all': 0.003, 'reg_all': 0.05}, {'n_factors': 120, 'n_epochs': 25, 'lr_all': 0.003, 'reg_all': 0.06}, {'n_factors': 120, 'n_epochs': 25, 'lr_all': 0.003, 'reg_all': 0.07}, {'n_factors': 120, 'n_epochs': 25, 'lr_all': 0.003, 'reg_all': 0.08}, {'n_factors': 120, 'n_epochs': 25, 'lr_all': 0.004, 'reg_all': 0.04}, {'n_factors': 120, 'n_epochs': 25, 'lr_all': 0.004, 'reg_all': 0.05}, {'n_factors': 120, 'n_epochs': 25, 'lr_all': 0.004, 'reg_all': 0.06}, {'n_factors': 120, 'n_epochs': 25, 'lr_all': 0.004, 'reg_all': 0.07}, {'n_factors': 120, 'n_epochs': 25, 'lr_all': 0.004, 'reg_all': 0.08}, {'n_factors': 120, 'n_epochs': 25, 'lr_all': 0.005, 'reg_all': 0.04}, {'n_factors': 120, 'n_epochs': 25, 'lr_all': 0.005, 'reg_all': 0.05}, {'n_factors': 120, 'n_epochs': 25, 'lr_all': 0.005, 'reg_all': 0.06}, {'n_factors': 120, 'n_epochs': 25, 'lr_all': 0.005, 'reg_all': 0.07}, {'n_factors': 120, 'n_epochs': 25, 'lr_all': 0.005, 'reg_all': 0.08}, {'n_factors': 120, 'n_epochs': 30, 'lr_all': 0.001, 'reg_all': 0.04}, {'n_factors': 120, 'n_epochs': 30, 'lr_all': 0.001, 'reg_all': 0.05}, {'n_factors': 120, 'n_epochs': 30, 'lr_all': 0.001, 'reg_all': 0.06}, {'n_factors': 120, 'n_epochs': 30, 'lr_all': 0.001, 'reg_all': 0.07}, {'n_factors': 120, 'n_epochs': 30, 'lr_all': 0.001, 'reg_all': 0.08}, {'n_factors': 120, 'n_epochs': 30, 'lr_all': 0.002, 'reg_all': 0.04}, {'n_factors': 120, 'n_epochs': 30, 'lr_all': 0.002, 'reg_all': 0.05}, {'n_factors': 120, 'n_epochs': 30, 'lr_all': 0.002, 'reg_all': 0.06}, {'n_factors': 120, 'n_epochs': 30, 'lr_all': 0.002, 'reg_all': 0.07}, {'n_factors': 120, 'n_epochs': 30, 'lr_all': 0.002, 'reg_all': 0.08}, {'n_factors': 120, 'n_epochs': 30, 'lr_all': 0.003, 'reg_all': 0.04}, {'n_factors': 120, 'n_epochs': 30, 'lr_all': 0.003, 'reg_all': 0.05}, {'n_factors': 120, 'n_epochs': 30, 'lr_all': 0.003, 'reg_all': 0.06}, {'n_factors': 120, 'n_epochs': 30, 'lr_all': 0.003, 'reg_all': 0.07}, {'n_factors': 120, 'n_epochs': 30, 'lr_all': 0.003, 'reg_all': 0.08}, {'n_factors': 120, 'n_epochs': 30, 'lr_all': 0.004, 'reg_all': 0.04}, {'n_factors': 120, 'n_epochs': 30, 'lr_all': 0.004, 'reg_all': 0.05}, {'n_factors': 120, 'n_epochs': 30, 'lr_all': 0.004, 'reg_all': 0.06}, {'n_factors': 120, 'n_epochs': 30, 'lr_all': 0.004, 'reg_all': 0.07}, {'n_factors': 120, 'n_epochs': 30, 'lr_all': 0.004, 'reg_all': 0.08}, {'n_factors': 120, 'n_epochs': 30, 'lr_all': 0.005, 'reg_all': 0.04}, {'n_factors': 120, 'n_epochs': 30, 'lr_all': 0.005, 'reg_all': 0.05}, {'n_factors': 120, 'n_epochs': 30, 'lr_all': 0.005, 'reg_all': 0.06}, {'n_factors': 120, 'n_epochs': 30, 'lr_all': 0.005, 'reg_all': 0.07}, {'n_factors': 120, 'n_epochs': 30, 'lr_all': 0.005, 'reg_all': 0.08}, {'n_factors': 120, 'n_epochs': 35, 'lr_all': 0.001, 'reg_all': 0.04}, {'n_factors': 120, 'n_epochs': 35, 'lr_all': 0.001, 'reg_all': 0.05}, {'n_factors': 120, 'n_epochs': 35, 'lr_all': 0.001, 'reg_all': 0.06}, {'n_factors': 120, 'n_epochs': 35, 'lr_all': 0.001, 'reg_all': 0.07}, {'n_factors': 120, 'n_epochs': 35, 'lr_all': 0.001, 'reg_all': 0.08}, {'n_factors': 120, 'n_epochs': 35, 'lr_all': 0.002, 'reg_all': 0.04}, {'n_factors': 120, 'n_epochs': 35, 'lr_all': 0.002, 'reg_all': 0.05}, {'n_factors': 120, 'n_epochs': 35, 'lr_all': 0.002, 'reg_all': 0.06}, {'n_factors': 120, 'n_epochs': 35, 'lr_all': 0.002, 'reg_all': 0.07}, {'n_factors': 120, 'n_epochs': 35, 'lr_all': 0.002, 'reg_all': 0.08}, {'n_factors': 120, 'n_epochs': 35, 'lr_all': 0.003, 'reg_all': 0.04}, {'n_factors': 120, 'n_epochs': 35, 'lr_all': 0.003, 'reg_all': 0.05}, {'n_factors': 120, 'n_epochs': 35, 'lr_all': 0.003, 'reg_all': 0.06}, {'n_factors': 120, 'n_epochs': 35, 'lr_all': 0.003, 'reg_all': 0.07}, {'n_factors': 120, 'n_epochs': 35, 'lr_all': 0.003, 'reg_all': 0.08}, {'n_factors': 120, 'n_epochs': 35, 'lr_all': 0.004, 'reg_all': 0.04}, {'n_factors': 120, 'n_epochs': 35, 'lr_all': 0.004, 'reg_all': 0.05}, {'n_factors': 120, 'n_epochs': 35, 'lr_all': 0.004, 'reg_all': 0.06}, {'n_factors': 120, 'n_epochs': 35, 'lr_all': 0.004, 'reg_all': 0.07}, {'n_factors': 120, 'n_epochs': 35, 'lr_all': 0.004, 'reg_all': 0.08}, {'n_factors': 120, 'n_epochs': 35, 'lr_all': 0.005, 'reg_all': 0.04}, {'n_factors': 120, 'n_epochs': 35, 'lr_all': 0.005, 'reg_all': 0.05}, {'n_factors': 120, 'n_epochs': 35, 'lr_all': 0.005, 'reg_all': 0.06}, {'n_factors': 120, 'n_epochs': 35, 'lr_all': 0.005, 'reg_all': 0.07}, {'n_factors': 120, 'n_epochs': 35, 'lr_all': 0.005, 'reg_all': 0.08}, {'n_factors': 130, 'n_epochs': 5, 'lr_all': 0.001, 'reg_all': 0.04}, {'n_factors': 130, 'n_epochs': 5, 'lr_all': 0.001, 'reg_all': 0.05}, {'n_factors': 130, 'n_epochs': 5, 'lr_all': 0.001, 'reg_all': 0.06}, {'n_factors': 130, 'n_epochs': 5, 'lr_all': 0.001, 'reg_all': 0.07}, {'n_factors': 130, 'n_epochs': 5, 'lr_all': 0.001, 'reg_all': 0.08}, {'n_factors': 130, 'n_epochs': 5, 'lr_all': 0.002, 'reg_all': 0.04}, {'n_factors': 130, 'n_epochs': 5, 'lr_all': 0.002, 'reg_all': 0.05}, {'n_factors': 130, 'n_epochs': 5, 'lr_all': 0.002, 'reg_all': 0.06}, {'n_factors': 130, 'n_epochs': 5, 'lr_all': 0.002, 'reg_all': 0.07}, {'n_factors': 130, 'n_epochs': 5, 'lr_all': 0.002, 'reg_all': 0.08}, {'n_factors': 130, 'n_epochs': 5, 'lr_all': 0.003, 'reg_all': 0.04}, {'n_factors': 130, 'n_epochs': 5, 'lr_all': 0.003, 'reg_all': 0.05}, {'n_factors': 130, 'n_epochs': 5, 'lr_all': 0.003, 'reg_all': 0.06}, {'n_factors': 130, 'n_epochs': 5, 'lr_all': 0.003, 'reg_all': 0.07}, {'n_factors': 130, 'n_epochs': 5, 'lr_all': 0.003, 'reg_all': 0.08}, {'n_factors': 130, 'n_epochs': 5, 'lr_all': 0.004, 'reg_all': 0.04}, {'n_factors': 130, 'n_epochs': 5, 'lr_all': 0.004, 'reg_all': 0.05}, {'n_factors': 130, 'n_epochs': 5, 'lr_all': 0.004, 'reg_all': 0.06}, {'n_factors': 130, 'n_epochs': 5, 'lr_all': 0.004, 'reg_all': 0.07}, {'n_factors': 130, 'n_epochs': 5, 'lr_all': 0.004, 'reg_all': 0.08}, {'n_factors': 130, 'n_epochs': 5, 'lr_all': 0.005, 'reg_all': 0.04}, {'n_factors': 130, 'n_epochs': 5, 'lr_all': 0.005, 'reg_all': 0.05}, {'n_factors': 130, 'n_epochs': 5, 'lr_all': 0.005, 'reg_all': 0.06}, {'n_factors': 130, 'n_epochs': 5, 'lr_all': 0.005, 'reg_all': 0.07}, {'n_factors': 130, 'n_epochs': 5, 'lr_all': 0.005, 'reg_all': 0.08}, {'n_factors': 130, 'n_epochs': 10, 'lr_all': 0.001, 'reg_all': 0.04}, {'n_factors': 130, 'n_epochs': 10, 'lr_all': 0.001, 'reg_all': 0.05}, {'n_factors': 130, 'n_epochs': 10, 'lr_all': 0.001, 'reg_all': 0.06}, {'n_factors': 130, 'n_epochs': 10, 'lr_all': 0.001, 'reg_all': 0.07}, {'n_factors': 130, 'n_epochs': 10, 'lr_all': 0.001, 'reg_all': 0.08}, {'n_factors': 130, 'n_epochs': 10, 'lr_all': 0.002, 'reg_all': 0.04}, {'n_factors': 130, 'n_epochs': 10, 'lr_all': 0.002, 'reg_all': 0.05}, {'n_factors': 130, 'n_epochs': 10, 'lr_all': 0.002, 'reg_all': 0.06}, {'n_factors': 130, 'n_epochs': 10, 'lr_all': 0.002, 'reg_all': 0.07}, {'n_factors': 130, 'n_epochs': 10, 'lr_all': 0.002, 'reg_all': 0.08}, {'n_factors': 130, 'n_epochs': 10, 'lr_all': 0.003, 'reg_all': 0.04}, {'n_factors': 130, 'n_epochs': 10, 'lr_all': 0.003, 'reg_all': 0.05}, {'n_factors': 130, 'n_epochs': 10, 'lr_all': 0.003, 'reg_all': 0.06}, {'n_factors': 130, 'n_epochs': 10, 'lr_all': 0.003, 'reg_all': 0.07}, {'n_factors': 130, 'n_epochs': 10, 'lr_all': 0.003, 'reg_all': 0.08}, {'n_factors': 130, 'n_epochs': 10, 'lr_all': 0.004, 'reg_all': 0.04}, {'n_factors': 130, 'n_epochs': 10, 'lr_all': 0.004, 'reg_all': 0.05}, {'n_factors': 130, 'n_epochs': 10, 'lr_all': 0.004, 'reg_all': 0.06}, {'n_factors': 130, 'n_epochs': 10, 'lr_all': 0.004, 'reg_all': 0.07}, {'n_factors': 130, 'n_epochs': 10, 'lr_all': 0.004, 'reg_all': 0.08}, {'n_factors': 130, 'n_epochs': 10, 'lr_all': 0.005, 'reg_all': 0.04}, {'n_factors': 130, 'n_epochs': 10, 'lr_all': 0.005, 'reg_all': 0.05}, {'n_factors': 130, 'n_epochs': 10, 'lr_all': 0.005, 'reg_all': 0.06}, {'n_factors': 130, 'n_epochs': 10, 'lr_all': 0.005, 'reg_all': 0.07}, {'n_factors': 130, 'n_epochs': 10, 'lr_all': 0.005, 'reg_all': 0.08}, {'n_factors': 130, 'n_epochs': 15, 'lr_all': 0.001, 'reg_all': 0.04}, {'n_factors': 130, 'n_epochs': 15, 'lr_all': 0.001, 'reg_all': 0.05}, {'n_factors': 130, 'n_epochs': 15, 'lr_all': 0.001, 'reg_all': 0.06}, {'n_factors': 130, 'n_epochs': 15, 'lr_all': 0.001, 'reg_all': 0.07}, {'n_factors': 130, 'n_epochs': 15, 'lr_all': 0.001, 'reg_all': 0.08}, {'n_factors': 130, 'n_epochs': 15, 'lr_all': 0.002, 'reg_all': 0.04}, {'n_factors': 130, 'n_epochs': 15, 'lr_all': 0.002, 'reg_all': 0.05}, {'n_factors': 130, 'n_epochs': 15, 'lr_all': 0.002, 'reg_all': 0.06}, {'n_factors': 130, 'n_epochs': 15, 'lr_all': 0.002, 'reg_all': 0.07}, {'n_factors': 130, 'n_epochs': 15, 'lr_all': 0.002, 'reg_all': 0.08}, {'n_factors': 130, 'n_epochs': 15, 'lr_all': 0.003, 'reg_all': 0.04}, {'n_factors': 130, 'n_epochs': 15, 'lr_all': 0.003, 'reg_all': 0.05}, {'n_factors': 130, 'n_epochs': 15, 'lr_all': 0.003, 'reg_all': 0.06}, {'n_factors': 130, 'n_epochs': 15, 'lr_all': 0.003, 'reg_all': 0.07}, {'n_factors': 130, 'n_epochs': 15, 'lr_all': 0.003, 'reg_all': 0.08}, {'n_factors': 130, 'n_epochs': 15, 'lr_all': 0.004, 'reg_all': 0.04}, {'n_factors': 130, 'n_epochs': 15, 'lr_all': 0.004, 'reg_all': 0.05}, {'n_factors': 130, 'n_epochs': 15, 'lr_all': 0.004, 'reg_all': 0.06}, {'n_factors': 130, 'n_epochs': 15, 'lr_all': 0.004, 'reg_all': 0.07}, {'n_factors': 130, 'n_epochs': 15, 'lr_all': 0.004, 'reg_all': 0.08}, {'n_factors': 130, 'n_epochs': 15, 'lr_all': 0.005, 'reg_all': 0.04}, {'n_factors': 130, 'n_epochs': 15, 'lr_all': 0.005, 'reg_all': 0.05}, {'n_factors': 130, 'n_epochs': 15, 'lr_all': 0.005, 'reg_all': 0.06}, {'n_factors': 130, 'n_epochs': 15, 'lr_all': 0.005, 'reg_all': 0.07}, {'n_factors': 130, 'n_epochs': 15, 'lr_all': 0.005, 'reg_all': 0.08}, {'n_factors': 130, 'n_epochs': 20, 'lr_all': 0.001, 'reg_all': 0.04}, {'n_factors': 130, 'n_epochs': 20, 'lr_all': 0.001, 'reg_all': 0.05}, {'n_factors': 130, 'n_epochs': 20, 'lr_all': 0.001, 'reg_all': 0.06}, {'n_factors': 130, 'n_epochs': 20, 'lr_all': 0.001, 'reg_all': 0.07}, {'n_factors': 130, 'n_epochs': 20, 'lr_all': 0.001, 'reg_all': 0.08}, {'n_factors': 130, 'n_epochs': 20, 'lr_all': 0.002, 'reg_all': 0.04}, {'n_factors': 130, 'n_epochs': 20, 'lr_all': 0.002, 'reg_all': 0.05}, {'n_factors': 130, 'n_epochs': 20, 'lr_all': 0.002, 'reg_all': 0.06}, {'n_factors': 130, 'n_epochs': 20, 'lr_all': 0.002, 'reg_all': 0.07}, {'n_factors': 130, 'n_epochs': 20, 'lr_all': 0.002, 'reg_all': 0.08}, {'n_factors': 130, 'n_epochs': 20, 'lr_all': 0.003, 'reg_all': 0.04}, {'n_factors': 130, 'n_epochs': 20, 'lr_all': 0.003, 'reg_all': 0.05}, {'n_factors': 130, 'n_epochs': 20, 'lr_all': 0.003, 'reg_all': 0.06}, {'n_factors': 130, 'n_epochs': 20, 'lr_all': 0.003, 'reg_all': 0.07}, {'n_factors': 130, 'n_epochs': 20, 'lr_all': 0.003, 'reg_all': 0.08}, {'n_factors': 130, 'n_epochs': 20, 'lr_all': 0.004, 'reg_all': 0.04}, {'n_factors': 130, 'n_epochs': 20, 'lr_all': 0.004, 'reg_all': 0.05}, {'n_factors': 130, 'n_epochs': 20, 'lr_all': 0.004, 'reg_all': 0.06}, {'n_factors': 130, 'n_epochs': 20, 'lr_all': 0.004, 'reg_all': 0.07}, {'n_factors': 130, 'n_epochs': 20, 'lr_all': 0.004, 'reg_all': 0.08}, {'n_factors': 130, 'n_epochs': 20, 'lr_all': 0.005, 'reg_all': 0.04}, {'n_factors': 130, 'n_epochs': 20, 'lr_all': 0.005, 'reg_all': 0.05}, {'n_factors': 130, 'n_epochs': 20, 'lr_all': 0.005, 'reg_all': 0.06}, {'n_factors': 130, 'n_epochs': 20, 'lr_all': 0.005, 'reg_all': 0.07}, {'n_factors': 130, 'n_epochs': 20, 'lr_all': 0.005, 'reg_all': 0.08}, {'n_factors': 130, 'n_epochs': 25, 'lr_all': 0.001, 'reg_all': 0.04}, {'n_factors': 130, 'n_epochs': 25, 'lr_all': 0.001, 'reg_all': 0.05}, {'n_factors': 130, 'n_epochs': 25, 'lr_all': 0.001, 'reg_all': 0.06}, {'n_factors': 130, 'n_epochs': 25, 'lr_all': 0.001, 'reg_all': 0.07}, {'n_factors': 130, 'n_epochs': 25, 'lr_all': 0.001, 'reg_all': 0.08}, {'n_factors': 130, 'n_epochs': 25, 'lr_all': 0.002, 'reg_all': 0.04}, {'n_factors': 130, 'n_epochs': 25, 'lr_all': 0.002, 'reg_all': 0.05}, {'n_factors': 130, 'n_epochs': 25, 'lr_all': 0.002, 'reg_all': 0.06}, {'n_factors': 130, 'n_epochs': 25, 'lr_all': 0.002, 'reg_all': 0.07}, {'n_factors': 130, 'n_epochs': 25, 'lr_all': 0.002, 'reg_all': 0.08}, {'n_factors': 130, 'n_epochs': 25, 'lr_all': 0.003, 'reg_all': 0.04}, {'n_factors': 130, 'n_epochs': 25, 'lr_all': 0.003, 'reg_all': 0.05}, {'n_factors': 130, 'n_epochs': 25, 'lr_all': 0.003, 'reg_all': 0.06}, {'n_factors': 130, 'n_epochs': 25, 'lr_all': 0.003, 'reg_all': 0.07}, {'n_factors': 130, 'n_epochs': 25, 'lr_all': 0.003, 'reg_all': 0.08}, {'n_factors': 130, 'n_epochs': 25, 'lr_all': 0.004, 'reg_all': 0.04}, {'n_factors': 130, 'n_epochs': 25, 'lr_all': 0.004, 'reg_all': 0.05}, {'n_factors': 130, 'n_epochs': 25, 'lr_all': 0.004, 'reg_all': 0.06}, {'n_factors': 130, 'n_epochs': 25, 'lr_all': 0.004, 'reg_all': 0.07}, {'n_factors': 130, 'n_epochs': 25, 'lr_all': 0.004, 'reg_all': 0.08}, {'n_factors': 130, 'n_epochs': 25, 'lr_all': 0.005, 'reg_all': 0.04}, {'n_factors': 130, 'n_epochs': 25, 'lr_all': 0.005, 'reg_all': 0.05}, {'n_factors': 130, 'n_epochs': 25, 'lr_all': 0.005, 'reg_all': 0.06}, {'n_factors': 130, 'n_epochs': 25, 'lr_all': 0.005, 'reg_all': 0.07}, {'n_factors': 130, 'n_epochs': 25, 'lr_all': 0.005, 'reg_all': 0.08}, {'n_factors': 130, 'n_epochs': 30, 'lr_all': 0.001, 'reg_all': 0.04}, {'n_factors': 130, 'n_epochs': 30, 'lr_all': 0.001, 'reg_all': 0.05}, {'n_factors': 130, 'n_epochs': 30, 'lr_all': 0.001, 'reg_all': 0.06}, {'n_factors': 130, 'n_epochs': 30, 'lr_all': 0.001, 'reg_all': 0.07}, {'n_factors': 130, 'n_epochs': 30, 'lr_all': 0.001, 'reg_all': 0.08}, {'n_factors': 130, 'n_epochs': 30, 'lr_all': 0.002, 'reg_all': 0.04}, {'n_factors': 130, 'n_epochs': 30, 'lr_all': 0.002, 'reg_all': 0.05}, {'n_factors': 130, 'n_epochs': 30, 'lr_all': 0.002, 'reg_all': 0.06}, {'n_factors': 130, 'n_epochs': 30, 'lr_all': 0.002, 'reg_all': 0.07}, {'n_factors': 130, 'n_epochs': 30, 'lr_all': 0.002, 'reg_all': 0.08}, {'n_factors': 130, 'n_epochs': 30, 'lr_all': 0.003, 'reg_all': 0.04}, {'n_factors': 130, 'n_epochs': 30, 'lr_all': 0.003, 'reg_all': 0.05}, {'n_factors': 130, 'n_epochs': 30, 'lr_all': 0.003, 'reg_all': 0.06}, {'n_factors': 130, 'n_epochs': 30, 'lr_all': 0.003, 'reg_all': 0.07}, {'n_factors': 130, 'n_epochs': 30, 'lr_all': 0.003, 'reg_all': 0.08}, {'n_factors': 130, 'n_epochs': 30, 'lr_all': 0.004, 'reg_all': 0.04}, {'n_factors': 130, 'n_epochs': 30, 'lr_all': 0.004, 'reg_all': 0.05}, {'n_factors': 130, 'n_epochs': 30, 'lr_all': 0.004, 'reg_all': 0.06}, {'n_factors': 130, 'n_epochs': 30, 'lr_all': 0.004, 'reg_all': 0.07}, {'n_factors': 130, 'n_epochs': 30, 'lr_all': 0.004, 'reg_all': 0.08}, {'n_factors': 130, 'n_epochs': 30, 'lr_all': 0.005, 'reg_all': 0.04}, {'n_factors': 130, 'n_epochs': 30, 'lr_all': 0.005, 'reg_all': 0.05}, {'n_factors': 130, 'n_epochs': 30, 'lr_all': 0.005, 'reg_all': 0.06}, {'n_factors': 130, 'n_epochs': 30, 'lr_all': 0.005, 'reg_all': 0.07}, {'n_factors': 130, 'n_epochs': 30, 'lr_all': 0.005, 'reg_all': 0.08}, {'n_factors': 130, 'n_epochs': 35, 'lr_all': 0.001, 'reg_all': 0.04}, {'n_factors': 130, 'n_epochs': 35, 'lr_all': 0.001, 'reg_all': 0.05}, {'n_factors': 130, 'n_epochs': 35, 'lr_all': 0.001, 'reg_all': 0.06}, {'n_factors': 130, 'n_epochs': 35, 'lr_all': 0.001, 'reg_all': 0.07}, {'n_factors': 130, 'n_epochs': 35, 'lr_all': 0.001, 'reg_all': 0.08}, {'n_factors': 130, 'n_epochs': 35, 'lr_all': 0.002, 'reg_all': 0.04}, {'n_factors': 130, 'n_epochs': 35, 'lr_all': 0.002, 'reg_all': 0.05}, {'n_factors': 130, 'n_epochs': 35, 'lr_all': 0.002, 'reg_all': 0.06}, {'n_factors': 130, 'n_epochs': 35, 'lr_all': 0.002, 'reg_all': 0.07}, {'n_factors': 130, 'n_epochs': 35, 'lr_all': 0.002, 'reg_all': 0.08}, {'n_factors': 130, 'n_epochs': 35, 'lr_all': 0.003, 'reg_all': 0.04}, {'n_factors': 130, 'n_epochs': 35, 'lr_all': 0.003, 'reg_all': 0.05}, {'n_factors': 130, 'n_epochs': 35, 'lr_all': 0.003, 'reg_all': 0.06}, {'n_factors': 130, 'n_epochs': 35, 'lr_all': 0.003, 'reg_all': 0.07}, {'n_factors': 130, 'n_epochs': 35, 'lr_all': 0.003, 'reg_all': 0.08}, {'n_factors': 130, 'n_epochs': 35, 'lr_all': 0.004, 'reg_all': 0.04}, {'n_factors': 130, 'n_epochs': 35, 'lr_all': 0.004, 'reg_all': 0.05}, {'n_factors': 130, 'n_epochs': 35, 'lr_all': 0.004, 'reg_all': 0.06}, {'n_factors': 130, 'n_epochs': 35, 'lr_all': 0.004, 'reg_all': 0.07}, {'n_factors': 130, 'n_epochs': 35, 'lr_all': 0.004, 'reg_all': 0.08}, {'n_factors': 130, 'n_epochs': 35, 'lr_all': 0.005, 'reg_all': 0.04}, {'n_factors': 130, 'n_epochs': 35, 'lr_all': 0.005, 'reg_all': 0.05}, {'n_factors': 130, 'n_epochs': 35, 'lr_all': 0.005, 'reg_all': 0.06}, {'n_factors': 130, 'n_epochs': 35, 'lr_all': 0.005, 'reg_all': 0.07}, {'n_factors': 130, 'n_epochs': 35, 'lr_all': 0.005, 'reg_all': 0.08}]\n"
     ]
    }
   ],
   "source": [
    "grid_search = GridSearch(SVD, param_grid, measures=['RMSE','MAE'],verbose=0)\n",
    "grid_search.evaluate(dt)"
   ]
  },
  {
   "cell_type": "code",
   "execution_count": 26,
   "metadata": {
    "collapsed": false
   },
   "outputs": [
    {
     "data": {
      "text/plain": [
       "0.93478196196581376"
      ]
     },
     "execution_count": 26,
     "metadata": {},
     "output_type": "execute_result"
    }
   ],
   "source": [
    "grid_search.best_score['RMSE']"
   ]
  },
  {
   "cell_type": "code",
   "execution_count": 25,
   "metadata": {
    "collapsed": false
   },
   "outputs": [
    {
     "data": {
      "text/plain": [
       "{'lr_all': 0.003, 'n_epochs': 35, 'n_factors': 80, 'reg_all': 0.06}"
      ]
     },
     "execution_count": 25,
     "metadata": {},
     "output_type": "execute_result"
    }
   ],
   "source": [
    "grid_search.best_params['RMSE']"
   ]
  },
  {
   "cell_type": "code",
   "execution_count": 27,
   "metadata": {
    "collapsed": false
   },
   "outputs": [
    {
     "name": "stdout",
     "output_type": "stream",
     "text": [
      "0.732259106599\n"
     ]
    }
   ],
   "source": [
    "grid_search.best_score['MAE']"
   ]
  },
  {
   "cell_type": "code",
   "execution_count": 28,
   "metadata": {
    "collapsed": false
   },
   "outputs": [
    {
     "data": {
      "text/plain": [
       "{'lr_all': 0.004, 'n_epochs': 35, 'n_factors': 80, 'reg_all': 0.05}"
      ]
     },
     "execution_count": 28,
     "metadata": {},
     "output_type": "execute_result"
    }
   ],
   "source": [
    "grid_search.best_params['MAE']"
   ]
  },
  {
   "cell_type": "markdown",
   "metadata": {},
   "source": [
    "#Effect of Hyperparameters on Accuracy (RMSE) of the Model"
   ]
  },
  {
   "cell_type": "code",
   "execution_count": 29,
   "metadata": {
    "collapsed": true
   },
   "outputs": [],
   "source": [
    "# Hyperparameter :- Latent Factors"
   ]
  },
  {
   "cell_type": "code",
   "execution_count": 53,
   "metadata": {
    "collapsed": false
   },
   "outputs": [
    {
     "name": "stdout",
     "output_type": "stream",
     "text": [
      "[{'n_factors': 80}, {'n_factors': 90}, {'n_factors': 100}, {'n_factors': 110}, {'n_factors': 120}, {'n_factors': 130}]\n",
      "------------\n",
      "Parameters combination 1 of 6\n",
      "params:  {'n_factors': 80}\n",
      "------------\n",
      "Mean RMSE: 0.9396\n",
      "Mean MAE : 0.7362\n",
      "------------\n",
      "------------\n",
      "Parameters combination 2 of 6\n",
      "params:  {'n_factors': 90}\n",
      "------------\n",
      "Mean RMSE: 0.9423\n",
      "Mean MAE : 0.7389\n",
      "------------\n",
      "------------\n",
      "Parameters combination 3 of 6\n",
      "params:  {'n_factors': 100}\n",
      "------------\n",
      "Mean RMSE: 0.9404\n",
      "Mean MAE : 0.7363\n",
      "------------\n",
      "------------\n",
      "Parameters combination 4 of 6\n",
      "params:  {'n_factors': 110}\n",
      "------------\n",
      "Mean RMSE: 0.9414\n",
      "Mean MAE : 0.7378\n",
      "------------\n",
      "------------\n",
      "Parameters combination 5 of 6\n",
      "params:  {'n_factors': 120}\n",
      "------------\n",
      "Mean RMSE: 0.9402\n",
      "Mean MAE : 0.7351\n",
      "------------\n",
      "------------\n",
      "Parameters combination 6 of 6\n",
      "params:  {'n_factors': 130}\n",
      "------------\n",
      "Mean RMSE: 0.9405\n",
      "Mean MAE : 0.7388\n",
      "------------\n"
     ]
    }
   ],
   "source": [
    "param_grid_factor = {'n_factors':[80,90,100,110,120,130]}\n",
    "grid_search_factor = GridSearch(SVD, param_grid_factor, measures=['RMSE','MAE'])\n",
    "grid_search_factor.evaluate(dt)\n",
    "results_df = pd.DataFrame.from_dict(grid_search_factor.cv_results)\n",
    "rm=[]\n",
    "rm=results_df['RMSE']\n",
    "mae=[]\n",
    "for d in grid_search_factor.cv_results['scores']:\n",
    "    mae.append(d['MAE'])\n",
    "n_ep=results_df['n_factors']"
   ]
  },
  {
   "cell_type": "code",
   "execution_count": 58,
   "metadata": {
    "collapsed": false
   },
   "outputs": [
    {
     "data": {
      "text/plain": [
       "<matplotlib.text.Text at 0x110f8e550>"
      ]
     },
     "execution_count": 58,
     "metadata": {},
     "output_type": "execute_result"
    },
    {
     "data": {
      "image/png": "[encoded data removed]",
      "text/plain": [
       "<matplotlib.figure.Figure at 0x10ed1bc50>"
      ]
     },
     "metadata": {},
     "output_type": "display_data"
    },
    {
     "data": {
      "image/png": "[encoded data removed]",
      "text/plain": [
       "<matplotlib.figure.Figure at 0x110ef9e48>"
      ]
     },
     "metadata": {},
     "output_type": "display_data"
    }
   ],
   "source": [
    "plt.figure(figsize=(10,6))\n",
    "plt.subplot(2,1,1)\n",
    "plt.plot(n_ep,rm,'r--')\n",
    "plt.xlabel('Latent Factors')\n",
    "plt.ylabel('RMSE')\n",
    "plt.title('Effect of Latent Factors on Accuracy of the model')\n",
    "plt.figure(figsize=(10,6))\n",
    "plt.subplot(2,1,2)\n",
    "plt.plot(n_ep,mae,'g--')\n",
    "plt.xlabel('Latent Factors')\n",
    "plt.ylabel('MAE')\n",
    "plt.title('Effect of Latent Factors on Accuracy of the model')\n"
   ]
  },
  {
   "cell_type": "code",
   "execution_count": 61,
   "metadata": {
    "collapsed": false
   },
   "outputs": [
    {
     "name": "stdout",
     "output_type": "stream",
     "text": [
      "[{'n_epochs': 5}, {'n_epochs': 10}, {'n_epochs': 15}, {'n_epochs': 20}, {'n_epochs': 25}, {'n_epochs': 30}, {'n_epochs': 35}]\n",
      "------------\n",
      "Parameters combination 1 of 7\n",
      "params:  {'n_epochs': 5}\n",
      "------------\n",
      "Mean RMSE: 0.9556\n",
      "Mean MAE : 0.7588\n",
      "------------\n",
      "------------\n",
      "Parameters combination 2 of 7\n",
      "params:  {'n_epochs': 10}\n",
      "------------\n",
      "Mean RMSE: 0.9444\n",
      "Mean MAE : 0.7446\n",
      "------------\n",
      "------------\n",
      "Parameters combination 3 of 7\n",
      "params:  {'n_epochs': 15}\n",
      "------------\n",
      "Mean RMSE: 0.9413\n",
      "Mean MAE : 0.7394\n",
      "------------\n",
      "------------\n",
      "Parameters combination 4 of 7\n",
      "params:  {'n_epochs': 20}\n",
      "------------\n",
      "Mean RMSE: 0.9447\n",
      "Mean MAE : 0.7383\n",
      "------------\n",
      "------------\n",
      "Parameters combination 5 of 7\n",
      "params:  {'n_epochs': 25}\n",
      "------------\n",
      "Mean RMSE: 0.9438\n",
      "Mean MAE : 0.7391\n",
      "------------\n",
      "------------\n",
      "Parameters combination 6 of 7\n",
      "params:  {'n_epochs': 30}\n",
      "------------\n",
      "Mean RMSE: 0.9457\n",
      "Mean MAE : 0.7380\n",
      "------------\n",
      "------------\n",
      "Parameters combination 7 of 7\n",
      "params:  {'n_epochs': 35}\n",
      "------------\n",
      "Mean RMSE: 0.9515\n",
      "Mean MAE : 0.7432\n",
      "------------\n"
     ]
    }
   ],
   "source": [
    "param_grid_n_epoch = {'n_epochs':[5,10,15,20,25,30,35]}\n",
    "grid_search_n_epoch = GridSearch(SVD, param_grid_n_epoch, measures=['RMSE','MAE'])\n",
    "grid_search_n_epoch.evaluate(dt)\n",
    "results_df = pd.DataFrame.from_dict(grid_search_n_epoch.cv_results)\n",
    "rm=[]\n",
    "rm=results_df['RMSE']\n",
    "mae=[]\n",
    "for d in grid_search_n_epoch.cv_results['scores']:\n",
    "    mae.append(d['MAE'])\n",
    "n_ep=[]\n",
    "n_ep=results_df['n_epochs']"
   ]
  },
  {
   "cell_type": "code",
   "execution_count": 62,
   "metadata": {
    "collapsed": false
   },
   "outputs": [
    {
     "data": {
      "text/plain": [
       "<matplotlib.text.Text at 0x10ed14c88>"
      ]
     },
     "execution_count": 62,
     "metadata": {},
     "output_type": "execute_result"
    },
    {
     "data": {
      "image/png": "[encoded data removed]",
      "text/plain": [
       "<matplotlib.figure.Figure at 0x1067f0a58>"
      ]
     },
     "metadata": {},
     "output_type": "display_data"
    },
    {
     "data": {
      "image/png": "[encoded data removed]",
      "text/plain": [
       "<matplotlib.figure.Figure at 0x110ef9080>"
      ]
     },
     "metadata": {},
     "output_type": "display_data"
    }
   ],
   "source": [
    "plt.figure(figsize=(10,6))\n",
    "plt.subplot(2,1,1)\n",
    "plt.plot(n_ep,rm,'r--')\n",
    "plt.xlabel('Stochastic Gradient Descent method iterations')\n",
    "plt.ylabel('RMSE')\n",
    "plt.title('Effect of no. of SGD iterations on Accuracy of the model')\n",
    "plt.figure(figsize=(10,6))\n",
    "plt.subplot(2,1,1)\n",
    "plt.plot(n_ep,mae,'g--')\n",
    "plt.xlabel('Stochastic Gradient Descent method iterations')\n",
    "plt.ylabel('MAE')\n",
    "plt.title('Effect of no. of SGD iterations on Accuracy of the model')"
   ]
  },
  {
   "cell_type": "code",
   "execution_count": 59,
   "metadata": {
    "collapsed": false
   },
   "outputs": [
    {
     "name": "stdout",
     "output_type": "stream",
     "text": [
      "[{'lr_all': 0.001}, {'lr_all': 0.002}, {'lr_all': 0.003}, {'lr_all': 0.004}, {'lr_all': 0.005}]\n",
      "------------\n",
      "Parameters combination 1 of 5\n",
      "params:  {'lr_all': 0.001}\n",
      "------------\n",
      "Mean RMSE: 0.9621\n",
      "Mean MAE : 0.7638\n",
      "------------\n",
      "------------\n",
      "Parameters combination 2 of 5\n",
      "params:  {'lr_all': 0.002}\n",
      "------------\n",
      "Mean RMSE: 0.9441\n",
      "Mean MAE : 0.7457\n",
      "------------\n",
      "------------\n",
      "Parameters combination 3 of 5\n",
      "params:  {'lr_all': 0.003}\n",
      "------------\n",
      "Mean RMSE: 0.9423\n",
      "Mean MAE : 0.7398\n",
      "------------\n",
      "------------\n",
      "Parameters combination 4 of 5\n",
      "params:  {'lr_all': 0.004}\n",
      "------------\n",
      "Mean RMSE: 0.9420\n",
      "Mean MAE : 0.7389\n",
      "------------\n",
      "------------\n",
      "Parameters combination 5 of 5\n",
      "params:  {'lr_all': 0.005}\n",
      "------------\n",
      "Mean RMSE: 0.9437\n",
      "Mean MAE : 0.7404\n",
      "------------\n"
     ]
    }
   ],
   "source": [
    "param_grid_lr = {'lr_all': [0.001,0.002,0.003,0.004,0.005]}\n",
    "grid_search_lr = GridSearch(SVD, param_grid_lr, measures=['RMSE','MAE'])\n",
    "grid_search_lr.evaluate(dt)\n",
    "results_df = pd.DataFrame.from_dict(grid_search_lr.cv_results)\n",
    "rm=[]\n",
    "rm=results_df['RMSE']\n",
    "mae=[]\n",
    "for d in grid_search_lr.cv_results['scores']:\n",
    "    mae.append(d['MAE'])\n",
    "n_ep=[]\n",
    "n_ep=results_df['lr_all']"
   ]
  },
  {
   "cell_type": "code",
   "execution_count": 60,
   "metadata": {
    "collapsed": false
   },
   "outputs": [
    {
     "data": {
      "text/plain": [
       "<matplotlib.text.Text at 0x10681ad30>"
      ]
     },
     "execution_count": 60,
     "metadata": {},
     "output_type": "execute_result"
    },
    {
     "data": {
      "image/png": "[encoded data removed]",
      "text/plain": [
       "<matplotlib.figure.Figure at 0x110e2dac8>"
      ]
     },
     "metadata": {},
     "output_type": "display_data"
    },
    {
     "data": {
      "image/png": "[encoded data removed]",
      "text/plain": [
       "<matplotlib.figure.Figure at 0x110e3dac8>"
      ]
     },
     "metadata": {},
     "output_type": "display_data"
    }
   ],
   "source": [
    "plt.figure(figsize=(10,6))\n",
    "plt.subplot(2,1,1)\n",
    "plt.plot(n_ep,rm,'r--')\n",
    "plt.xlabel('Learning Rate')\n",
    "plt.ylabel('RMSE')\n",
    "plt.title('Effect of Learning Rate on Accuracy of the model')\n",
    "plt.figure(figsize=(10,6))\n",
    "plt.subplot(2,1,1)\n",
    "plt.plot(n_ep,mae,'g--')\n",
    "plt.xlabel('Learning Rate')\n",
    "plt.ylabel('MAE')\n",
    "plt.title('Effect of Learning Rate on Accuracy of the model')"
   ]
  },
  {
   "cell_type": "markdown",
   "metadata": {},
   "source": [
    "## KNN Collaborative Filtering"
   ]
  },
  {
   "cell_type": "code",
   "execution_count": 682,
   "metadata": {
    "collapsed": true
   },
   "outputs": [],
   "source": [
    "## define algorithm config\n",
    "algo_name = KNNBasic ##  KNNWithMeans,KNNBaseline\n",
    "sim_option={'name': 'cosine', ## cosine, msd, pearson, personbaseline\n",
    "                 'user_based': 'False', ## False for item-based\n",
    "                 'min_surpport':0 }##  if |Iuv|<min_support then sim(u,v)=0\n",
    "max_k = 10 ## The (max) number of neighbors to take into account for aggregation\n",
    "min_k = 7 ##  If there are not enough neighbors, the prediction is set the the global mean of all ratings"
   ]
  },
  {
   "cell_type": "code",
   "execution_count": 683,
   "metadata": {
    "collapsed": true
   },
   "outputs": [],
   "source": [
    "knn_default = algo_name(k = max_k, min_k = min_k, sim_options=sim_option)"
   ]
  },
  {
   "cell_type": "code",
   "execution_count": 684,
   "metadata": {
    "collapsed": false
   },
   "outputs": [
    {
     "name": "stdout",
     "output_type": "stream",
     "text": [
      "Evaluating RMSE, MAE of algorithm KNNBasic.\n",
      "\n",
      "------------\n",
      "Fold 1\n",
      "Computing the cosine similarity matrix...\n",
      "Done computing similarity matrix.\n",
      "RMSE: 1.0060\n",
      "MAE:  0.7838\n",
      "------------\n",
      "Fold 2\n",
      "Computing the cosine similarity matrix...\n",
      "Done computing similarity matrix.\n",
      "RMSE: 0.9997\n",
      "MAE:  0.7719\n",
      "------------\n",
      "Fold 3\n",
      "Computing the cosine similarity matrix...\n",
      "Done computing similarity matrix.\n",
      "RMSE: 0.9914\n",
      "MAE:  0.7854\n",
      "------------\n",
      "------------\n",
      "Mean RMSE: 0.9990\n",
      "Mean MAE : 0.7804\n",
      "------------\n",
      "------------\n"
     ]
    }
   ],
   "source": [
    "#Train model\n",
    "perf = evaluate(knn_default, dt, measures=['RMSE','MAE'], verbose= 1)\n",
    "defaultknn_prediction=knn_default.test(testset)"
   ]
  },
  {
   "cell_type": "code",
   "execution_count": 685,
   "metadata": {
    "collapsed": false
   },
   "outputs": [
    {
     "name": "stdout",
     "output_type": "stream",
     "text": [
      "RMSE: 1.0328\n",
      "MAE:  0.8092\n"
     ]
    },
    {
     "data": {
      "text/plain": [
       "0.80919919776828553"
      ]
     },
     "execution_count": 685,
     "metadata": {},
     "output_type": "execute_result"
    }
   ],
   "source": [
    "#Accuracy on test set\n",
    "rmse(defaultknn_prediction)\n",
    "mae(defaultknn_prediction)"
   ]
  },
  {
   "cell_type": "markdown",
   "metadata": {},
   "source": [
    "#### Changing hyper-paramater of KNN"
   ]
  },
  {
   "cell_type": "code",
   "execution_count": 686,
   "metadata": {
    "collapsed": true
   },
   "outputs": [],
   "source": [
    "algo_name = KNNBasic\n",
    "#Define the different hyper-paramter range\n",
    "grid_param = {'k':[5,10,20,30,35,40,50],\n",
    "             'min_k':[3,4,5,6,7,8,9,10,11,12],\n",
    "             'sim_options':{'name':['msd','cosine','pearson'],\n",
    "                           'min_surpport':[0,3,5],\n",
    "                           'user_based':[False]}\n",
    "             }"
   ]
  },
  {
   "cell_type": "code",
   "execution_count": null,
   "metadata": {
    "collapsed": true
   },
   "outputs": [],
   "source": [
    "grid_search = surprise.GridSearch(algo_name, grid_param, measures=['RMSE', 'MAE'],verbose = 0)\n",
    "grid_search.evaluate(dt)"
   ]
  },
  {
   "cell_type": "code",
   "execution_count": 688,
   "metadata": {
    "collapsed": false,
    "scrolled": true
   },
   "outputs": [
    {
     "data": {
      "text/plain": [
       "{'k': 10,\n",
       " 'min_k': 7,\n",
       " 'sim_options': {'min_surpport': 0, 'name': 'msd', 'user_based': False}}"
      ]
     },
     "execution_count": 688,
     "metadata": {},
     "output_type": "execute_result"
    }
   ],
   "source": [
    "grid_search.best_params['RMSE']"
   ]
  },
  {
   "cell_type": "code",
   "execution_count": 689,
   "metadata": {
    "collapsed": false
   },
   "outputs": [
    {
     "data": {
      "text/plain": [
       "1.0290302751938731"
      ]
     },
     "execution_count": 689,
     "metadata": {},
     "output_type": "execute_result"
    }
   ],
   "source": [
    "grid_search.best_score['RMSE']"
   ]
  },
  {
   "cell_type": "code",
   "execution_count": 690,
   "metadata": {
    "collapsed": false
   },
   "outputs": [
    {
     "data": {
      "text/plain": [
       "{'k': 10,\n",
       " 'min_k': 10,\n",
       " 'sim_options': {'min_surpport': 0, 'name': 'msd', 'user_based': False}}"
      ]
     },
     "execution_count": 690,
     "metadata": {},
     "output_type": "execute_result"
    }
   ],
   "source": [
    "grid_search.best_params['MAE']"
   ]
  },
  {
   "cell_type": "code",
   "execution_count": 691,
   "metadata": {
    "collapsed": false
   },
   "outputs": [
    {
     "data": {
      "text/plain": [
       "0.79473625590763086"
      ]
     },
     "execution_count": 691,
     "metadata": {},
     "output_type": "execute_result"
    }
   ],
   "source": [
    "grid_search.best_score['MAE']"
   ]
  },
  {
   "cell_type": "code",
   "execution_count": 692,
   "metadata": {
    "collapsed": true
   },
   "outputs": [],
   "source": [
    "### get the result of different hyper-parameter"
   ]
  },
  {
   "cell_type": "code",
   "execution_count": 693,
   "metadata": {
    "collapsed": false
   },
   "outputs": [
    {
     "data": {
      "text/html": [
       "<div>\n",
       "<style>\n",
       "    .dataframe thead tr:only-child th {\n",
       "        text-align: right;\n",
       "    }\n",
       "\n",
       "    .dataframe thead th {\n",
       "        text-align: left;\n",
       "    }\n",
       "\n",
       "    .dataframe tbody tr th {\n",
       "        vertical-align: top;\n",
       "    }\n",
       "</style>\n",
       "<table border=\"1\" class=\"dataframe\">\n",
       "  <thead>\n",
       "    <tr style=\"text-align: right;\">\n",
       "      <th></th>\n",
       "      <th>MAE</th>\n",
       "      <th>RMSE</th>\n",
       "      <th>k</th>\n",
       "      <th>min_k</th>\n",
       "      <th>sim_matric</th>\n",
       "      <th>min_support</th>\n",
       "    </tr>\n",
       "  </thead>\n",
       "  <tbody>\n",
       "    <tr>\n",
       "      <th>0</th>\n",
       "      <td>0.802858</td>\n",
       "      <td>1.046292</td>\n",
       "      <td>5</td>\n",
       "      <td>3</td>\n",
       "      <td>msd</td>\n",
       "      <td>0</td>\n",
       "    </tr>\n",
       "    <tr>\n",
       "      <th>1</th>\n",
       "      <td>0.802858</td>\n",
       "      <td>1.046292</td>\n",
       "      <td>5</td>\n",
       "      <td>3</td>\n",
       "      <td>msd</td>\n",
       "      <td>3</td>\n",
       "    </tr>\n",
       "    <tr>\n",
       "      <th>2</th>\n",
       "      <td>0.802858</td>\n",
       "      <td>1.046292</td>\n",
       "      <td>5</td>\n",
       "      <td>3</td>\n",
       "      <td>msd</td>\n",
       "      <td>5</td>\n",
       "    </tr>\n",
       "    <tr>\n",
       "      <th>3</th>\n",
       "      <td>0.819836</td>\n",
       "      <td>1.067897</td>\n",
       "      <td>5</td>\n",
       "      <td>3</td>\n",
       "      <td>cosine</td>\n",
       "      <td>0</td>\n",
       "    </tr>\n",
       "    <tr>\n",
       "      <th>4</th>\n",
       "      <td>0.819836</td>\n",
       "      <td>1.067897</td>\n",
       "      <td>5</td>\n",
       "      <td>3</td>\n",
       "      <td>cosine</td>\n",
       "      <td>3</td>\n",
       "    </tr>\n",
       "  </tbody>\n",
       "</table>\n",
       "</div>"
      ],
      "text/plain": [
       "        MAE      RMSE  k  min_k sim_matric  min_support\n",
       "0  0.802858  1.046292  5      3        msd            0\n",
       "1  0.802858  1.046292  5      3        msd            3\n",
       "2  0.802858  1.046292  5      3        msd            5\n",
       "3  0.819836  1.067897  5      3     cosine            0\n",
       "4  0.819836  1.067897  5      3     cosine            3"
      ]
     },
     "execution_count": 693,
     "metadata": {},
     "output_type": "execute_result"
    }
   ],
   "source": [
    "#\n",
    "results_df = pd.DataFrame.from_dict(grid_search.cv_results)\n",
    "plotdata = results_df.loc[:,['MAE','RMSE','k','min_k']]\n",
    "name_list = []\n",
    "min_surppot_list = []\n",
    "for param in results_df.params:\n",
    "#     print(param)\n",
    "    name_list.append(param['sim_options']['name'])\n",
    "    min_surppot_list.append(param['sim_options']['min_surpport'])\n",
    "    \n",
    "name_list = pd.Series(name_list)\n",
    "min_surppot_list = pd.Series(min_surppot_list)\n",
    "\n",
    "plotdata['sim_matric'] = name_list\n",
    "plotdata['min_support'] = min_surppot_list\n",
    "plotdata.head()"
   ]
  },
  {
   "cell_type": "code",
   "execution_count": 694,
   "metadata": {
    "collapsed": false
   },
   "outputs": [
    {
     "data": {
      "text/html": [
       "<div>\n",
       "<style>\n",
       "    .dataframe thead tr:only-child th {\n",
       "        text-align: right;\n",
       "    }\n",
       "\n",
       "    .dataframe thead th {\n",
       "        text-align: left;\n",
       "    }\n",
       "\n",
       "    .dataframe tbody tr th {\n",
       "        vertical-align: top;\n",
       "    }\n",
       "</style>\n",
       "<table border=\"1\" class=\"dataframe\">\n",
       "  <thead>\n",
       "    <tr style=\"text-align: right;\">\n",
       "      <th></th>\n",
       "      <th>MAE</th>\n",
       "      <th>RMSE</th>\n",
       "      <th>k</th>\n",
       "      <th>min_k</th>\n",
       "      <th>sim_matric</th>\n",
       "      <th>min_support</th>\n",
       "    </tr>\n",
       "  </thead>\n",
       "  <tbody>\n",
       "    <tr>\n",
       "      <th>39</th>\n",
       "      <td>0.808246</td>\n",
       "      <td>1.049066</td>\n",
       "      <td>5</td>\n",
       "      <td>7</td>\n",
       "      <td>cosine</td>\n",
       "      <td>0</td>\n",
       "    </tr>\n",
       "    <tr>\n",
       "      <th>129</th>\n",
       "      <td>0.807933</td>\n",
       "      <td>1.043418</td>\n",
       "      <td>10</td>\n",
       "      <td>7</td>\n",
       "      <td>cosine</td>\n",
       "      <td>0</td>\n",
       "    </tr>\n",
       "    <tr>\n",
       "      <th>219</th>\n",
       "      <td>0.809178</td>\n",
       "      <td>1.040984</td>\n",
       "      <td>20</td>\n",
       "      <td>7</td>\n",
       "      <td>cosine</td>\n",
       "      <td>0</td>\n",
       "    </tr>\n",
       "    <tr>\n",
       "      <th>309</th>\n",
       "      <td>0.810160</td>\n",
       "      <td>1.041568</td>\n",
       "      <td>30</td>\n",
       "      <td>7</td>\n",
       "      <td>cosine</td>\n",
       "      <td>0</td>\n",
       "    </tr>\n",
       "    <tr>\n",
       "      <th>399</th>\n",
       "      <td>0.810287</td>\n",
       "      <td>1.041772</td>\n",
       "      <td>35</td>\n",
       "      <td>7</td>\n",
       "      <td>cosine</td>\n",
       "      <td>0</td>\n",
       "    </tr>\n",
       "    <tr>\n",
       "      <th>489</th>\n",
       "      <td>0.810437</td>\n",
       "      <td>1.041895</td>\n",
       "      <td>40</td>\n",
       "      <td>7</td>\n",
       "      <td>cosine</td>\n",
       "      <td>0</td>\n",
       "    </tr>\n",
       "    <tr>\n",
       "      <th>579</th>\n",
       "      <td>0.810437</td>\n",
       "      <td>1.041895</td>\n",
       "      <td>50</td>\n",
       "      <td>7</td>\n",
       "      <td>cosine</td>\n",
       "      <td>0</td>\n",
       "    </tr>\n",
       "  </tbody>\n",
       "</table>\n",
       "</div>"
      ],
      "text/plain": [
       "          MAE      RMSE   k  min_k sim_matric  min_support\n",
       "39   0.808246  1.049066   5      7     cosine            0\n",
       "129  0.807933  1.043418  10      7     cosine            0\n",
       "219  0.809178  1.040984  20      7     cosine            0\n",
       "309  0.810160  1.041568  30      7     cosine            0\n",
       "399  0.810287  1.041772  35      7     cosine            0\n",
       "489  0.810437  1.041895  40      7     cosine            0\n",
       "579  0.810437  1.041895  50      7     cosine            0"
      ]
     },
     "execution_count": 694,
     "metadata": {},
     "output_type": "execute_result"
    }
   ],
   "source": [
    "plotdata_max_k = plotdata[plotdata.min_k == 7]\n",
    "plotdata_max_k = plotdata_max_k[plotdata_max_k.min_support == 0]\n",
    "plotdata_max_k = plotdata_max_k[plotdata_max_k.sim_matric == 'cosine']\n",
    "plotdata_max_k"
   ]
  },
  {
   "cell_type": "code",
   "execution_count": 695,
   "metadata": {
    "collapsed": false,
    "scrolled": true
   },
   "outputs": [
    {
     "data": {
      "image/png": "[encoded data removed]",
      "text/plain": [
       "<matplotlib.figure.Figure at 0x10d202cf8>"
      ]
     },
     "metadata": {},
     "output_type": "display_data"
    }
   ],
   "source": [
    "plt.subplot(2, 1, 1) \n",
    "plt.plot(plotdata_max_k.k, plotdata_max_k.MAE, 'r')\n",
    "plt.subplot(2, 1, 2)\n",
    "plt.plot(plotdata_max_k.k, plotdata_max_k.RMSE, 'g')\n",
    "plt.show()"
   ]
  },
  {
   "cell_type": "code",
   "execution_count": 696,
   "metadata": {
    "collapsed": false
   },
   "outputs": [
    {
     "data": {
      "text/html": [
       "<div>\n",
       "<style>\n",
       "    .dataframe thead tr:only-child th {\n",
       "        text-align: right;\n",
       "    }\n",
       "\n",
       "    .dataframe thead th {\n",
       "        text-align: left;\n",
       "    }\n",
       "\n",
       "    .dataframe tbody tr th {\n",
       "        vertical-align: top;\n",
       "    }\n",
       "</style>\n",
       "<table border=\"1\" class=\"dataframe\">\n",
       "  <thead>\n",
       "    <tr style=\"text-align: right;\">\n",
       "      <th></th>\n",
       "      <th>MAE</th>\n",
       "      <th>RMSE</th>\n",
       "      <th>k</th>\n",
       "      <th>min_k</th>\n",
       "      <th>sim_matric</th>\n",
       "      <th>min_support</th>\n",
       "    </tr>\n",
       "  </thead>\n",
       "  <tbody>\n",
       "    <tr>\n",
       "      <th>93</th>\n",
       "      <td>0.815340</td>\n",
       "      <td>1.054859</td>\n",
       "      <td>10</td>\n",
       "      <td>3</td>\n",
       "      <td>cosine</td>\n",
       "      <td>0</td>\n",
       "    </tr>\n",
       "    <tr>\n",
       "      <th>102</th>\n",
       "      <td>0.809976</td>\n",
       "      <td>1.046515</td>\n",
       "      <td>10</td>\n",
       "      <td>4</td>\n",
       "      <td>cosine</td>\n",
       "      <td>0</td>\n",
       "    </tr>\n",
       "    <tr>\n",
       "      <th>111</th>\n",
       "      <td>0.813041</td>\n",
       "      <td>1.047050</td>\n",
       "      <td>10</td>\n",
       "      <td>5</td>\n",
       "      <td>cosine</td>\n",
       "      <td>0</td>\n",
       "    </tr>\n",
       "    <tr>\n",
       "      <th>120</th>\n",
       "      <td>0.813336</td>\n",
       "      <td>1.045977</td>\n",
       "      <td>10</td>\n",
       "      <td>6</td>\n",
       "      <td>cosine</td>\n",
       "      <td>0</td>\n",
       "    </tr>\n",
       "    <tr>\n",
       "      <th>129</th>\n",
       "      <td>0.807933</td>\n",
       "      <td>1.043418</td>\n",
       "      <td>10</td>\n",
       "      <td>7</td>\n",
       "      <td>cosine</td>\n",
       "      <td>0</td>\n",
       "    </tr>\n",
       "    <tr>\n",
       "      <th>138</th>\n",
       "      <td>0.806126</td>\n",
       "      <td>1.042872</td>\n",
       "      <td>10</td>\n",
       "      <td>8</td>\n",
       "      <td>cosine</td>\n",
       "      <td>0</td>\n",
       "    </tr>\n",
       "    <tr>\n",
       "      <th>147</th>\n",
       "      <td>0.805204</td>\n",
       "      <td>1.043782</td>\n",
       "      <td>10</td>\n",
       "      <td>9</td>\n",
       "      <td>cosine</td>\n",
       "      <td>0</td>\n",
       "    </tr>\n",
       "    <tr>\n",
       "      <th>156</th>\n",
       "      <td>0.804364</td>\n",
       "      <td>1.043802</td>\n",
       "      <td>10</td>\n",
       "      <td>10</td>\n",
       "      <td>cosine</td>\n",
       "      <td>0</td>\n",
       "    </tr>\n",
       "    <tr>\n",
       "      <th>165</th>\n",
       "      <td>0.808246</td>\n",
       "      <td>1.049066</td>\n",
       "      <td>10</td>\n",
       "      <td>11</td>\n",
       "      <td>cosine</td>\n",
       "      <td>0</td>\n",
       "    </tr>\n",
       "    <tr>\n",
       "      <th>174</th>\n",
       "      <td>0.808246</td>\n",
       "      <td>1.049066</td>\n",
       "      <td>10</td>\n",
       "      <td>12</td>\n",
       "      <td>cosine</td>\n",
       "      <td>0</td>\n",
       "    </tr>\n",
       "  </tbody>\n",
       "</table>\n",
       "</div>"
      ],
      "text/plain": [
       "          MAE      RMSE   k  min_k sim_matric  min_support\n",
       "93   0.815340  1.054859  10      3     cosine            0\n",
       "102  0.809976  1.046515  10      4     cosine            0\n",
       "111  0.813041  1.047050  10      5     cosine            0\n",
       "120  0.813336  1.045977  10      6     cosine            0\n",
       "129  0.807933  1.043418  10      7     cosine            0\n",
       "138  0.806126  1.042872  10      8     cosine            0\n",
       "147  0.805204  1.043782  10      9     cosine            0\n",
       "156  0.804364  1.043802  10     10     cosine            0\n",
       "165  0.808246  1.049066  10     11     cosine            0\n",
       "174  0.808246  1.049066  10     12     cosine            0"
      ]
     },
     "execution_count": 696,
     "metadata": {},
     "output_type": "execute_result"
    }
   ],
   "source": [
    "plotdata_mink = plotdata[plotdata.sim_matric =='cosine']\n",
    "plotdata_mink = plotdata_mink[plotdata_mink.min_support == 0]\n",
    "plotdata_mink = plotdata_mink[plotdata_mink.k == 10]\n",
    "plotdata_mink"
   ]
  },
  {
   "cell_type": "code",
   "execution_count": 703,
   "metadata": {
    "collapsed": false
   },
   "outputs": [
    {
     "data": {
      "image/png": "[encoded data removed]",
      "text/plain": [
       "<matplotlib.figure.Figure at 0x109554438>"
      ]
     },
     "metadata": {},
     "output_type": "display_data"
    }
   ],
   "source": [
    "plt.subplot(2, 1, 1) \n",
    "plt.plot(plotdata_mink.min_k, plotdata_mink.MAE, 'r')\n",
    "plt.subplot(2, 1, 2)\n",
    "plt.plot(plotdata_mink.min_k, plotdata_mink.RMSE, 'g')\n",
    "plt.show()"
   ]
  },
  {
   "cell_type": "code",
   "execution_count": 698,
   "metadata": {
    "collapsed": false
   },
   "outputs": [
    {
     "data": {
      "text/html": [
       "<div>\n",
       "<style>\n",
       "    .dataframe thead tr:only-child th {\n",
       "        text-align: right;\n",
       "    }\n",
       "\n",
       "    .dataframe thead th {\n",
       "        text-align: left;\n",
       "    }\n",
       "\n",
       "    .dataframe tbody tr th {\n",
       "        vertical-align: top;\n",
       "    }\n",
       "</style>\n",
       "<table border=\"1\" class=\"dataframe\">\n",
       "  <thead>\n",
       "    <tr style=\"text-align: right;\">\n",
       "      <th></th>\n",
       "      <th>MAE</th>\n",
       "      <th>RMSE</th>\n",
       "      <th>k</th>\n",
       "      <th>min_k</th>\n",
       "      <th>sim_matric</th>\n",
       "      <th>min_support</th>\n",
       "    </tr>\n",
       "  </thead>\n",
       "  <tbody>\n",
       "    <tr>\n",
       "      <th>126</th>\n",
       "      <td>0.796707</td>\n",
       "      <td>1.029030</td>\n",
       "      <td>10</td>\n",
       "      <td>7</td>\n",
       "      <td>msd</td>\n",
       "      <td>0</td>\n",
       "    </tr>\n",
       "    <tr>\n",
       "      <th>129</th>\n",
       "      <td>0.807933</td>\n",
       "      <td>1.043418</td>\n",
       "      <td>10</td>\n",
       "      <td>7</td>\n",
       "      <td>cosine</td>\n",
       "      <td>0</td>\n",
       "    </tr>\n",
       "    <tr>\n",
       "      <th>132</th>\n",
       "      <td>0.812054</td>\n",
       "      <td>1.044120</td>\n",
       "      <td>10</td>\n",
       "      <td>7</td>\n",
       "      <td>pearson</td>\n",
       "      <td>0</td>\n",
       "    </tr>\n",
       "  </tbody>\n",
       "</table>\n",
       "</div>"
      ],
      "text/plain": [
       "          MAE      RMSE   k  min_k sim_matric  min_support\n",
       "126  0.796707  1.029030  10      7        msd            0\n",
       "129  0.807933  1.043418  10      7     cosine            0\n",
       "132  0.812054  1.044120  10      7    pearson            0"
      ]
     },
     "execution_count": 698,
     "metadata": {},
     "output_type": "execute_result"
    }
   ],
   "source": [
    "plotdata_sim = plotdata[plotdata.min_k == 7]\n",
    "plotdata_sim = plotdata_sim[plotdata_sim.min_support == 0]\n",
    "plotdata_sim = plotdata_sim[plotdata_sim.k == 10]\n",
    "plotdata_sim"
   ]
  },
  {
   "cell_type": "markdown",
   "metadata": {},
   "source": [
    "# Metrics - Coverage"
   ]
  },
  {
   "cell_type": "code",
   "execution_count": 699,
   "metadata": {
    "collapsed": true
   },
   "outputs": [],
   "source": [
    "#Function to calculate coverage ratio\n",
    "def coverage_ratio(predictions, n):\n",
    "    top_n = get_top_n(predictions, n)\n",
    "    product_list = []\n",
    "    recommended_list = []\n",
    "    for uid, iid, true_r, est, _ in predictions:\n",
    "        product_list.append(iid)\n",
    "    for uid, user_ratings in top_n.items():\n",
    "        recommended_list.append(user_ratings[0][0])\n",
    "    coverage = float(len(set(recommended_list))) / float(len(set(product_list)))\n",
    "    return coverage"
   ]
  },
  {
   "cell_type": "code",
   "execution_count": 700,
   "metadata": {
    "collapsed": true
   },
   "outputs": [],
   "source": [
    "#Function to predict missing values based on an algorithm\n",
    "def mv_prediction(algo,missing_values):\n",
    "    predictions = [algo.predict(uid, iid)\n",
    "                       for (uid, iid) in missing_values]\n",
    "    return predictions"
   ]
  },
  {
   "cell_type": "markdown",
   "metadata": {},
   "source": [
    "SVD Coverage Ratio"
   ]
  },
  {
   "cell_type": "code",
   "execution_count": 701,
   "metadata": {
    "collapsed": false
   },
   "outputs": [
    {
     "data": {
      "text/plain": [
       "0.22857142857142856"
      ]
     },
     "execution_count": 701,
     "metadata": {},
     "output_type": "execute_result"
    }
   ],
   "source": [
    "mv_svdprediction = mv_prediction(algo2,missing_values)\n",
    "coverage_ratio(mv_svdprediction,7)"
   ]
  },
  {
   "cell_type": "markdown",
   "metadata": {},
   "source": [
    "KNN Coverage ratio"
   ]
  },
  {
   "cell_type": "code",
   "execution_count": 702,
   "metadata": {
    "collapsed": false
   },
   "outputs": [
    {
     "data": {
      "text/plain": [
       "0.35714285714285715"
      ]
     },
     "execution_count": 702,
     "metadata": {},
     "output_type": "execute_result"
    }
   ],
   "source": [
    "mv_knnprediction = mv_prediction(knn_default,missing_values)\n",
    "coverage_ratio(mv_knnprediction,7)"
   ]
  },
  {
   "cell_type": "code",
   "execution_count": null,
   "metadata": {
    "collapsed": true
   },
   "outputs": [],
   "source": []
  }
 ],
 "metadata": {
  "kernelspec": {
   "display_name": "Python 3",
   "language": "python",
   "name": "python3"
  },
  "language_info": {
   "codemirror_mode": {
    "name": "ipython",
    "version": 3
   },
   "file_extension": ".py",
   "mimetype": "text/x-python",
   "name": "python",
   "nbconvert_exporter": "python",
   "pygments_lexer": "ipython3",
   "version": "3.6.0"
  }
 },
 "nbformat": 4,
 "nbformat_minor": 2
}
