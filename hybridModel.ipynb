{
 "cells": [
  {
   "cell_type": "code",
   "execution_count": 2,
   "metadata": {
    "collapsed": true
   },
   "outputs": [],
   "source": [
    "import pandas as pd\n",
    "import numpy as np\n",
    "from collections import defaultdict"
   ]
  },
  {
   "cell_type": "code",
   "execution_count": 6,
   "metadata": {
    "collapsed": true
   },
   "outputs": [],
   "source": [
    "class HybridModel:\n",
    "    \"\"\"\n",
    "    Inputs: data frame of user-item rating pair\n",
    "    Output: ranking of recommended items\n",
    "    \"\"\"\n",
    "    def divide_data(df,threshold):\n",
    "        # Divide users into 2 groups: few vs many ratings\n",
    "        rating_count = df.pivot_table('rating',index=['reviewerID'],dropna=False,aggfunc='count')\n",
    "\n",
    "        sparse_group = rating_count.loc[rating_count['rating'] < threshold]\n",
    "        sparse_group.reset_index(inplace = True)\n",
    "        sparse_df = df.loc[df['reviewerID'].isin(sparse_group['reviewerID'])]\n",
    "\n",
    "        dense_group = rating_count.loc[rating_count['rating'] >= threshold]\n",
    "        dense_group.reset_index(inplace = True)\n",
    "        dense_df = df.loc[df['reviewerID'].isin(dense_group['reviewerID'])]\n",
    "\n",
    "        return sparse_df, dense_df\n",
    "    \n",
    "    def recommendation_mixer(prediction1, prediction2, prediction3 = None, n = 6):\n",
    "        \"\"\"\n",
    "        Inputs: predictions from sub-models\n",
    "        Outputs: final list of recommended products\n",
    "        \"\"\"\n",
    "        predictionF = defaultdict(list)\n",
    "        prediction_list = []\n",
    "        prediction_list.append(prediction1)\n",
    "        prediction_list.append(prediction2)\n",
    "        if prediction3 is not None:\n",
    "            prediction_list.append(prediction3)\n",
    "        for user in prediction1:\n",
    "            i = 0\n",
    "            j = 0\n",
    "            k = 0\n",
    "            p = 0\n",
    "            while len(predictionF[user]) < n:\n",
    "                if p == 0:\n",
    "                    if prediction_list[p][user][i] not in predictionF[user]:\n",
    "                        predictionF[user].append(prediction_list[p][user][i])\n",
    "                    i += 1\n",
    "                    p = 1 \n",
    "                elif p == 1:\n",
    "                    if prediction_list[p][user][j] not in predictionF[user]:\n",
    "                        predictionF[user].append(prediction_list[p][user][j])\n",
    "                    j += 1\n",
    "                    if prediction3 == None:\n",
    "                        p = 0\n",
    "                    else: \n",
    "                        p = 2\n",
    "                elif p == 2:\n",
    "                    if prediction_list[p][user][k] not in predictionF[user]:\n",
    "                        predictionF[user].append(prediction_list[p][user][k])\n",
    "                    k += 1\n",
    "                    p = 0\n",
    "                \n",
    "        return predictionF\n",
    "    \n",
    "    def recombine_data(sparse_prediction,dense_prediction):\n",
    "        \"\"\"\n",
    "        Combine prediction of 2 cases: sparse and dense\n",
    "        \"\"\"\n",
    "        final_prediction = {**sparse_prediction,**dense_prediction}\n",
    "        return final_prediction"
   ]
  },
  {
   "cell_type": "code",
   "execution_count": 11,
   "metadata": {
    "collapsed": true
   },
   "outputs": [],
   "source": [
    "prediction1 = {1:['a','b','c','d'],2:['d','m','n','x']}\n",
    "prediction2 = {1:['a','c','e','h'],2:['m','n','q','y']}\n",
    "prediction3 = {1:['a','c','b','f'],2:['d','n','q','z']}\n",
    "prediction4 = {3:['o','p','k','l'],4:['r','s','t','u']}\n",
    "prediction5 = {3:['v','w','k','y'],4:['z','f','w','o']}"
   ]
  },
  {
   "cell_type": "code",
   "execution_count": 12,
   "metadata": {
    "collapsed": true
   },
   "outputs": [],
   "source": [
    "dense_p = HybridModel.recommendation_mixer(prediction1,prediction2,prediction3)\n",
    "sparse_p = HybridModel.recommendation_mixer(prediction4,prediction5)"
   ]
  },
  {
   "cell_type": "code",
   "execution_count": 13,
   "metadata": {},
   "outputs": [
    {
     "name": "stdout",
     "output_type": "stream",
     "text": [
      "{3: ['o', 'v', 'p', 'w', 'k', 'l'], 4: ['r', 'z', 's', 'f', 't', 'w'], 1: ['a', 'b', 'c', 'e', 'd', 'h'], 2: ['d', 'm', 'n', 'q', 'x', 'y']}\n"
     ]
    }
   ],
   "source": [
    "print (HybridModel.recombine_data(sparse_p,dense_p))"
   ]
  },
  {
   "cell_type": "code",
   "execution_count": 38,
   "metadata": {
    "collapsed": true,
    "scrolled": true
   },
   "outputs": [],
   "source": [
    "df = pd.read_csv('sample_data.csv',index_col=0)\n",
    "sparsedf, densedf = HybridModel.divide_data(df,20)"
   ]
  },
  {
   "cell_type": "code",
   "execution_count": 63,
   "metadata": {},
   "outputs": [
    {
     "data": {
      "text/html": [
       "<div>\n",
       "<style>\n",
       "    .dataframe thead tr:only-child th {\n",
       "        text-align: right;\n",
       "    }\n",
       "\n",
       "    .dataframe thead th {\n",
       "        text-align: left;\n",
       "    }\n",
       "\n",
       "    .dataframe tbody tr th {\n",
       "        vertical-align: top;\n",
       "    }\n",
       "</style>\n",
       "<table border=\"1\" class=\"dataframe\">\n",
       "  <thead>\n",
       "    <tr style=\"text-align: right;\">\n",
       "      <th></th>\n",
       "      <th>rating</th>\n",
       "    </tr>\n",
       "  </thead>\n",
       "  <tbody>\n",
       "    <tr>\n",
       "      <th>count</th>\n",
       "      <td>4442.000000</td>\n",
       "    </tr>\n",
       "    <tr>\n",
       "      <th>mean</th>\n",
       "      <td>3.947771</td>\n",
       "    </tr>\n",
       "    <tr>\n",
       "      <th>std</th>\n",
       "      <td>1.056167</td>\n",
       "    </tr>\n",
       "    <tr>\n",
       "      <th>min</th>\n",
       "      <td>1.000000</td>\n",
       "    </tr>\n",
       "    <tr>\n",
       "      <th>25%</th>\n",
       "      <td>3.000000</td>\n",
       "    </tr>\n",
       "    <tr>\n",
       "      <th>50%</th>\n",
       "      <td>4.000000</td>\n",
       "    </tr>\n",
       "    <tr>\n",
       "      <th>75%</th>\n",
       "      <td>5.000000</td>\n",
       "    </tr>\n",
       "    <tr>\n",
       "      <th>max</th>\n",
       "      <td>5.000000</td>\n",
       "    </tr>\n",
       "  </tbody>\n",
       "</table>\n",
       "</div>"
      ],
      "text/plain": [
       "            rating\n",
       "count  4442.000000\n",
       "mean      3.947771\n",
       "std       1.056167\n",
       "min       1.000000\n",
       "25%       3.000000\n",
       "50%       4.000000\n",
       "75%       5.000000\n",
       "max       5.000000"
      ]
     },
     "execution_count": 63,
     "metadata": {},
     "output_type": "execute_result"
    }
   ],
   "source": [
    "sparsedf.describe()"
   ]
  },
  {
   "cell_type": "code",
   "execution_count": 42,
   "metadata": {},
   "outputs": [],
   "source": [
    "class evaluation:\n",
    "    \"\"\"\n",
    "    Some ratios to measure performance of recommendation models\n",
    "    \"\"\"\n",
    "    def recall_at_topk(prediction,holdout):\n",
    "        \"\"\"\n",
    "        For each user, check if the prediction contains any of products in the holdout set. If yes, we count\n",
    "        the prediction as a success, and a failure otherwise. Recall at top-k is measured as percentage of\n",
    "        users with sucessful recommendation out of total number of users. This measurement is based on the \n",
    "        same idea as in this paper: https://arxiv.org/pdf/1703.02344.pdf\n",
    "        \"\"\"\n",
    "        #Convert holdout dataframe to dictionary\n",
    "        holdout_records = holdout[['reviewerID','productID']].to_dict('records')\n",
    "        holdout_dict = defaultdict(list)\n",
    "        for row in holdout_records:\n",
    "            holdout_dict[row['reviewerID']].append(row['productID'])\n",
    "        \n",
    "        #Calculate recall at top k\n",
    "        success_count = 0\n",
    "        check = 0\n",
    "        for user, items in prediction.items():\n",
    "            for i in items:\n",
    "                if i in holdout_dict[user]:\n",
    "                    check = 1\n",
    "            if check == 1:\n",
    "                success_count += 1\n",
    "                check = 0\n",
    "        return float(success_count)/float(len(prediction))\n",
    "    \n",
    "    def coverage_ratio(prediction,dataset):\n",
    "        \"\"\"\n",
    "        Coverage ratio is measured as number of products recommended over total number of products\n",
    "        \"\"\"\n",
    "        recommended_product = []\n",
    "        for user, items in prediction.items():\n",
    "            recommended_product.extend(items)\n",
    "        return float(len(set(recommended_product)))/float(len(set(dataset['productID'])))"
   ]
  },
  {
   "cell_type": "code",
   "execution_count": 34,
   "metadata": {
    "collapsed": true
   },
   "outputs": [],
   "source": [
    "holdout = {1:['a','g','c'],2:['a','f','d']}"
   ]
  },
  {
   "cell_type": "code",
   "execution_count": 43,
   "metadata": {},
   "outputs": [
    {
     "data": {
      "text/plain": [
       "0.0"
      ]
     },
     "execution_count": 43,
     "metadata": {},
     "output_type": "execute_result"
    }
   ],
   "source": [
    "evaluation.recall_at_topk(prediction1,df)"
   ]
  },
  {
   "cell_type": "code",
   "execution_count": 39,
   "metadata": {},
   "outputs": [
    {
     "data": {
      "text/plain": [
       "0.1"
      ]
     },
     "execution_count": 39,
     "metadata": {},
     "output_type": "execute_result"
    }
   ],
   "source": [
    "evaluation.coverage_ratio(prediction1,df)"
   ]
  },
  {
   "cell_type": "code",
   "execution_count": null,
   "metadata": {
    "collapsed": true
   },
   "outputs": [],
   "source": []
  }
 ],
 "metadata": {
  "kernelspec": {
   "display_name": "Python 3",
   "language": "python",
   "name": "python3"
  },
  "language_info": {
   "codemirror_mode": {
    "name": "ipython",
    "version": 3
   },
   "file_extension": ".py",
   "mimetype": "text/x-python",
   "name": "python",
   "nbconvert_exporter": "python",
   "pygments_lexer": "ipython3",
   "version": "3.6.3"
  }
 },
 "nbformat": 4,
 "nbformat_minor": 2
}
